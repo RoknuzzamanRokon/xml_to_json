{
 "cells": [
  {
   "cell_type": "markdown",
   "id": "df46d2de-6709-43ba-bd0e-9a3ccd2e46d2",
   "metadata": {},
   "source": [
    "## Import module"
   ]
  },
  {
   "cell_type": "code",
   "execution_count": 1,
   "id": "0fd0c032-396f-41da-b7e9-a08d82ab403b",
   "metadata": {},
   "outputs": [],
   "source": [
    "from sqlalchemy import create_engine, text, inspect\n",
    "from dotenv import load_dotenv\n",
    "from datetime import datetime\n",
    "import pandas as pd\n",
    "import json\n",
    "import os\n",
    "import time"
   ]
  },
  {
   "cell_type": "markdown",
   "id": "20733338-eb6c-44a7-a39b-60c7b59fe784",
   "metadata": {},
   "source": [
    "### Load cradentials"
   ]
  },
  {
   "cell_type": "code",
   "execution_count": 2,
   "id": "a003354d-8ad5-49ca-8046-4ad4091f48ec",
   "metadata": {},
   "outputs": [],
   "source": [
    "load_dotenv()\n",
    "\n",
    "db_host = os.getenv('DB_HOST')\n",
    "db_user = os.getenv('DB_USER')\n",
    "db_pass = os.getenv('DB_PASSWORD')\n",
    "db_name = os.getenv('DB_NAME')\n"
   ]
  },
  {
   "cell_type": "markdown",
   "id": "8f84619f-e47f-45e7-a263-6eb127560b40",
   "metadata": {},
   "source": [
    "### Create engine for connecting database."
   ]
  },
  {
   "cell_type": "code",
   "execution_count": 3,
   "id": "d3afda2e-ba49-4c2a-81e7-0ec1d502aefc",
   "metadata": {},
   "outputs": [],
   "source": [
    "DATABASE_URL = f\"mysql+pymysql://{db_user}:{db_pass}@{db_host}/{db_name}\"\n",
    "engine = create_engine(DATABASE_URL)"
   ]
  },
  {
   "cell_type": "markdown",
   "id": "12406f41-dd10-41bc-82be-0aef57154581",
   "metadata": {},
   "source": [
    "### DATABASE AND TABLE INFORMATIONS."
   ]
  },
  {
   "cell_type": "code",
   "execution_count": 4,
   "id": "eac9ddae-27c8-4c13-9aad-0d345c4e340f",
   "metadata": {},
   "outputs": [],
   "source": [
    "table_main = 'hotel_info_all'"
   ]
  },
  {
   "cell_type": "markdown",
   "id": "f4e3c0f0-ad0a-426b-8d31-6a2d1a15b46c",
   "metadata": {},
   "source": [
    "### Database Connecting test query"
   ]
  },
  {
   "cell_type": "code",
   "execution_count": 5,
   "id": "9f4624b1-0cf8-452c-ae5e-dcea5f64f6a9",
   "metadata": {},
   "outputs": [
    {
     "name": "stdout",
     "output_type": "stream",
     "text": [
      "Connected to database: itt_master_contents\n"
     ]
    }
   ],
   "source": [
    "try:\n",
    "    with engine.connect() as connection:\n",
    "        result = connection.execute(text(\"SELECT DATABASE()\"))\n",
    "        db_name = result.fetchone()[0]\n",
    "        print(f\"Connected to database: {db_name}\")\n",
    "except Exception as e:\n",
    "    print(f\"Error: {e}\")"
   ]
  },
  {
   "cell_type": "markdown",
   "id": "947462df-aa6f-44cf-8861-cd4477e9b6c3",
   "metadata": {},
   "source": [
    "### Print All existing table list in the database."
   ]
  },
  {
   "cell_type": "code",
   "execution_count": 6,
   "id": "d13526e3-f1d8-4999-8bd3-c5e53d6d4c4a",
   "metadata": {},
   "outputs": [
    {
     "name": "stdout",
     "output_type": "stream",
     "text": [
      "Tables in the databse 'itt_master_contents'\n",
      "\n",
      "\n",
      "hotel_info_all\n",
      "hotels_info_with_gidestination_code\n",
      "innova_hotels_main\n",
      "vervotech_ProviderFamily\n",
      "vervotech_hotel_list\n",
      "vervotech_hotel_map_new\n",
      "vervotech_hotel_map_update\n",
      "vervotech_mapping\n",
      "vervotech_update_data_info\n"
     ]
    }
   ],
   "source": [
    "try:\n",
    "    inspector = inspect(engine)\n",
    "    tables = inspector.get_table_names()\n",
    "    if tables:\n",
    "        print(f\"Tables in the databse '{db_name}'\\n\\n\")\n",
    "        for table in tables:\n",
    "            print(table)\n",
    "    else:\n",
    "        print(f\"No tables found in the database '{db_name}'\")\n",
    "except Exception as e:\n",
    "    print(f\"Error: {e}\")\n"
   ]
  },
  {
   "cell_type": "markdown",
   "id": "d3d8736b-1153-4929-94b2-bedf09b93ae5",
   "metadata": {},
   "source": [
    "### Function for get all data."
   ]
  },
  {
   "cell_type": "code",
   "execution_count": 7,
   "id": "2ae9cd42-b026-41ea-b05e-7a46a443cb08",
   "metadata": {},
   "outputs": [],
   "source": [
    "def get_all_info_in_data_table(table, engine):\n",
    "    query = f\"SELECT * FROM {table};\"\n",
    "    df = pd.read_sql(query, engine)\n",
    "    return df\n",
    "    \n",
    "# table_main = 'hotel_info_all'\n",
    "# get_data = get_all_info_in_data_table(table_main, engine)\n",
    "# # print(get_data)\n",
    "                                      \n",
    "    "
   ]
  },
  {
   "cell_type": "markdown",
   "id": "54d7f3a9-58c7-4f78-8da8-05766b543d76",
   "metadata": {},
   "source": [
    "### Function for specifiq data for one row."
   ]
  },
  {
   "cell_type": "code",
   "execution_count": 8,
   "id": "8dd7df18-d81f-417c-9005-d0f666c838b5",
   "metadata": {},
   "outputs": [
    {
     "name": "stdout",
     "output_type": "stream",
     "text": [
      "     Id GiDestinationId                                      HotelName  \\\n",
      "0  7773          101196  DoubleTree by Hilton Hotel Denver Westminster   \n",
      "\n",
      "   SystemId  Rating         City          Address1  \\\n",
      "0     67413     3.0  Westminster  8773 Yates Drive   \n",
      "\n",
      "                            Address2     ZipCode  \\\n",
      "0  Westminster , Colorado 80031-3680  80031-3680   \n",
      "\n",
      "                                            ImageUrl   Latitude   Longitude  \\\n",
      "0  https://static.giinfotech.ae/medianew/thumbnai...  39.855766 -105.051233   \n",
      "\n",
      "     CountryName CountryCode StatusUpdate  \\\n",
      "0  United States          US         Done   \n",
      "\n",
      "                                           HotelInfo StatusUpdateHotelInfo  \\\n",
      "0  {\"name\": \"DoubleTree by Hilton Hotel Denver We...             Done Json   \n",
      "\n",
      "            CreatedAt          ModifiedOn  \n",
      "0 2024-11-01 18:46:42 2024-11-04 12:01:11  \n"
     ]
    }
   ],
   "source": [
    "def get_specifiq_data_from_system_id(table, systemid, engine):\n",
    "    query = f\"SELECT * FROM {table} WHERE SystemId = '{systemid}';\"\n",
    "    df = pd.read_sql(query, engine)\n",
    "    print(df)\n",
    "\n",
    "table = 'hotel_info_all'\n",
    "systemId = '67413'\n",
    "data = get_specifiq_data_from_system_id(table=table, systemid=systemId, engine=engine)\n",
    "\n",
    "# print(data)"
   ]
  },
  {
   "cell_type": "markdown",
   "id": "9a6e609a-8cbe-4bd0-b3f4-ffe53dc7dacd",
   "metadata": {},
   "source": [
    "### Function for get a system Id where dataupdate json file done."
   ]
  },
  {
   "cell_type": "code",
   "execution_count": 9,
   "id": "d3b8bb4a-c5a4-4e74-9b98-9e83017f21c8",
   "metadata": {},
   "outputs": [
    {
     "name": "stdout",
     "output_type": "stream",
     "text": [
      "2573\n"
     ]
    }
   ],
   "source": [
    "def get_system_id_list(table, column, engine):\n",
    "    try: \n",
    "        query = f\"SELECT {column} FROM {table} WHERE StatusUpdateHotelInfo = 'Done Json' AND CountryCode = 'AE';\"\n",
    "        df = pd.read_sql(query, engine)\n",
    "        # data_all = df[column].tolist()\n",
    "        # print(len(data_all))\n",
    "        data = list(set(df[column].tolist()))\n",
    "        # print(data)\n",
    "        return data\n",
    "    except Exception as e:\n",
    "        print(f\"Error fetching column info: {e}\")\n",
    "\n",
    "table = 'hotel_info_all'\n",
    "column = 'SystemId'\n",
    "\n",
    "list_for_system_id_data = get_system_id_list(table,column,engine)\n",
    "\n",
    "\n",
    "print(len(list_for_system_id_data))"
   ]
  },
  {
   "cell_type": "markdown",
   "id": "990f5a41-a30c-48c1-a0a6-a3c88d5da511",
   "metadata": {},
   "source": [
    "### Function for Create dictionary one row follow systemId"
   ]
  },
  {
   "cell_type": "code",
   "execution_count": 31,
   "id": "a5f71f46-fdd4-4e09-9b26-1e54638c9af4",
   "metadata": {},
   "outputs": [
    {
     "name": "stdout",
     "output_type": "stream",
     "text": [
      "{'Id': 9772, 'GiDestinationId': '101653', 'HotelName': 'Motel Bienvenue', 'SystemId': 1081355, 'Rating': 0.0, 'City': 'Rimouski', 'Address1': '1057 rue du Phare', 'Address2': 'Rimouski , Québec G5M 1L9', 'ZipCode': 'G5M 1L9', 'ImageUrl': '', 'Latitude': 48.445, 'Longitude': -68.5591, 'CountryName': 'Canada', 'CountryCode': 'CA', 'StatusUpdate': 'Done', 'HotelInfo': '{\"name\": \"Motel Bienvenue\", \"rating\": 0, \"address\": {\"line1\": \"1057 rue du Phare\", \"line2\": \"Rimouski , Québec G5M 1L9\", \"zipCode\": \"G5M 1L9\", \"cityCode\": null, \"cityName\": \"Rimouski\", \"stateCode\": \"\", \"stateName\": null, \"countryCode\": \"CA\", \"countryName\": \"Canada\"}, \"checkIn\": null, \"contact\": {\"faxNo\": null, \"phoneNo\": \"+14187244338\", \"website\": \"https://www.motelbienvenue.com/en/\"}, \"geocode\": {\"lat\": 48.445, \"lon\": -68.5591}, \"checkOut\": null, \"imageUrl\": \"\", \"systemId\": \"1081355\", \"imageUrls\": [], \"attractions\": null, \"currencyCode\": null, \"tripAdvisorUrl\": null, \"giDestinationId\": 7511, \"tripAdvisorRating\": 0, \"masterRoomAmenities\": null, \"masterHotelAmenities\": null}', 'StatusUpdateHotelInfo': 'Done Json', 'CreatedAt': Timestamp('2024-11-01 18:48:57'), 'ModifiedOn': Timestamp('2024-11-04 12:01:11')}\n"
     ]
    }
   ],
   "source": [
    "def get_specifiq_data_from_system_id(table, systemid, engine):\n",
    "    # SQL query to fetch data for a specific SystemId\n",
    "    query = f\"SELECT * FROM {table} WHERE SystemId = '{systemid}';\"\n",
    "    df = pd.read_sql(query, engine)\n",
    "\n",
    "    if df.empty:\n",
    "        print(\"No data found for the provided SystemId.\")\n",
    "        return None\n",
    "\n",
    "    # Assuming only one row will be returned for a specific SystemId\n",
    "    hotel_data = df.iloc[0].to_dict()\n",
    "    print(hotel_data)\n",
    "\n",
    "get_specifiq_data_from_system_id(table,'1081355', engine)"
   ]
  },
  {
   "cell_type": "markdown",
   "id": "6d320920-284f-4d66-8218-acef290eb20d",
   "metadata": {},
   "source": [
    "### Function for"
   ]
  },
  {
   "cell_type": "code",
   "execution_count": 39,
   "id": "1abf8f49-6b14-4532-a5ad-6f64380a5ad3",
   "metadata": {},
   "outputs": [
    {
     "name": "stdout",
     "output_type": "stream",
     "text": [
      "{\n",
      "    \"Id\": 930,\n",
      "    \"GiDestinationId\": \"100037\",\n",
      "    \"HotelName\": \"Bienville House\",\n",
      "    \"SystemId\": 9042,\n",
      "    \"Rating\": 3.0,\n",
      "    \"City\": \"New Orleans\",\n",
      "    \"Address1\": \"320 Decatur Street\",\n",
      "    \"Address2\": \"New Orleans , Louisiana 70130\",\n",
      "    \"ZipCode\": \"70130\",\n",
      "    \"ImageUrl\": \"https://static.giinfotech.ae/medianew/thumbnail/9042/1091647.jpg\",\n",
      "    \"Latitude\": 29.953945,\n",
      "    \"Longitude\": -90.065395,\n",
      "    \"CountryName\": \"United States\",\n",
      "    \"CountryCode\": \"US\",\n",
      "    \"StatusUpdate\": \"Done\",\n",
      "    \"HotelInfo\": \"{\\\"name\\\": \\\"Bienville House\\\", \\\"rating\\\": 3, \\\"address\\\": {\\\"line1\\\": \\\"320 Decatur Street\\\", \\\"line2\\\": \\\"New Orleans , Louisiana 70130\\\", \\\"zipCode\\\": \\\"70130\\\", \\\"cityCode\\\": null, \\\"cityName\\\": \\\"New Orleans\\\", \\\"stateCode\\\": \\\"\\\", \\\"stateName\\\": null, \\\"countryCode\\\": \\\"US\\\", \\\"countryName\\\": \\\"United States\\\"}, \\\"checkIn\\\": null, \\\"contact\\\": {\\\"faxNo\\\": \\\"+15045256079\\\", \\\"phoneNo\\\": \\\"+15045292345\\\", \\\"website\\\": \\\"http://www.bienvillehouse.com/\\\"}, \\\"geocode\\\": {\\\"lat\\\": 29.953945, \\\"lon\\\": -90.065395}, \\\"checkOut\\\": null, \\\"imageUrl\\\": \\\"https://static.giinfotech.ae/medianew/thumbnail/9042/1091647.jpg\\\", \\\"systemId\\\": \\\"9042\\\", \\\"imageUrls\\\": [\\\"https://static.giinfotech.ae/medianew/full/9042/1091647.jpg\\\", \\\"https://static.giinfotech.ae/medianew/full/9042/1091650.jpg\\\", \\\"https://static.giinfotech.ae/medianew/full/9042/1091653.jpg\\\", \\\"https://static.giinfotech.ae/medianew/full/9042/8267791.jpg\\\", \\\"https://static.giinfotech.ae/medianew/full/9042/8267796.jpg\\\", \\\"https://static.giinfotech.ae/medianew/full/9042/8267776.jpg\\\", \\\"https://static.giinfotech.ae/medianew/full/9042/8267800.jpg\\\", \\\"https://static.giinfotech.ae/medianew/full/9042/8267786.jpg\\\", \\\"https://static.giinfotech.ae/medianew/full/9042/8267781.jpg\\\", \\\"https://static.giinfotech.ae/medianew/full/9042/8267773.jpg\\\", \\\"https://static.giinfotech.ae/medianew/full/9042/8267768.jpg\\\", \\\"https://static.giinfotech.ae/medianew/full/9042/8267763.jpg\\\", \\\"https://static.giinfotech.ae/medianew/full/9042/8267805.jpg\\\", \\\"https://static.giinfotech.ae/medianew/full/9042/8267900.jpg\\\", \\\"https://static.giinfotech.ae/medianew/full/9042/8267905.jpg\\\", \\\"https://static.giinfotech.ae/medianew/full/9042/8267910.jpg\\\", \\\"https://static.giinfotech.ae/medianew/full/9042/8267915.jpg\\\", \\\"https://static.giinfotech.ae/medianew/full/9042/8267885.jpg\\\", \\\"https://static.giinfotech.ae/medianew/full/9042/8267890.jpg\\\", \\\"https://static.giinfotech.ae/medianew/full/9042/8267895.jpg\\\", \\\"https://static.giinfotech.ae/medianew/full/9042/8267810.jpg\\\", \\\"https://static.giinfotech.ae/medianew/full/9042/8267815.jpg\\\", \\\"https://static.giinfotech.ae/medianew/full/9042/8267820.jpg\\\", \\\"https://static.giinfotech.ae/medianew/full/9042/8267825.jpg\\\", \\\"https://static.giinfotech.ae/medianew/full/9042/8267830.jpg\\\", \\\"https://static.giinfotech.ae/medianew/full/9042/8267835.jpg\\\", \\\"https://static.giinfotech.ae/medianew/full/9042/8267840.jpg\\\", \\\"https://static.giinfotech.ae/medianew/full/9042/8267845.jpg\\\", \\\"https://static.giinfotech.ae/medianew/full/9042/8267850.jpg\\\", \\\"https://static.giinfotech.ae/medianew/full/9042/8267855.jpg\\\", \\\"https://static.giinfotech.ae/medianew/full/9042/8267860.jpg\\\", \\\"https://static.giinfotech.ae/medianew/full/9042/8267865.jpg\\\", \\\"https://static.giinfotech.ae/medianew/full/9042/8267870.jpg\\\", \\\"https://static.giinfotech.ae/medianew/full/9042/8267875.jpg\\\", \\\"https://static.giinfotech.ae/medianew/full/9042/8267880.jpg\\\", \\\"https://static.giinfotech.ae/medianew/full/9042/8267920.jpg\\\", \\\"https://static.giinfotech.ae/medianew/full/9042/8267925.jpg\\\", \\\"https://static.giinfotech.ae/medianew/full/9042/8267930.jpg\\\", \\\"https://static.giinfotech.ae/medianew/full/9042/8267935.jpg\\\"], \\\"attractions\\\": null, \\\"currencyCode\\\": null, \\\"tripAdvisorUrl\\\": \\\"http://www.tripadvisor.com/Hotel_Review-g60864-d89049-Reviews-Bienville_House-New_Orleans_Louisiana.html?m=19454\\\", \\\"giDestinationId\\\": 1121, \\\"tripAdvisorRating\\\": 4, \\\"masterRoomAmenities\\\": [\\\"Bathroom\\\", \\\"Shower\\\", \\\"Bathtub\\\", \\\"Hairdryer\\\", \\\"Direct dial telephone\\\", \\\"Satellite/cable TV\\\", \\\"Radio\\\", \\\"Internet access\\\", \\\"Fridge\\\", \\\"King-size Bed\\\", \\\"Air conditioning (centrally regulated)\\\", \\\"Central Heating\\\", \\\"Safe\\\", \\\"TV\\\", \\\"Double Bed\\\", \\\"Air conditioning (individually regulated)\\\", \\\"Heating (individually regulated)\\\", \\\"Tea/coffee maker\\\"], \\\"masterHotelAmenities\\\": [\\\"Air conditioning\\\", \\\"24-hour reception\\\", \\\"Hotel Safe\\\", \\\"Currency Exchange\\\", \\\"Lifts\\\", \\\"Cafe\\\", \\\"Bar(s)\\\", \\\"Restaurant(s)\\\", \\\"Restaurant(s) with non-smoking area\\\", \\\"Conference Room\\\", \\\"Internet access\\\", \\\"WLAN access\\\", \\\"Room Service\\\", \\\"Laundry Service\\\", \\\"Car Park\\\"]}\",\n",
      "    \"StatusUpdateHotelInfo\": \"Done Json\",\n",
      "    \"CreatedAt\": \"2024-11-01T18:40:11\",\n",
      "    \"ModifiedOn\": \"2024-11-01T18:40:11\"\n",
      "}\n"
     ]
    }
   ],
   "source": [
    "def get_specifiq_data_from_system_id(table, systemid, engine):\n",
    "    # SQL query to fetch data for a specific SystemId\n",
    "    query = f\"SELECT * FROM {table} WHERE SystemId = '{systemid}';\"\n",
    "    df = pd.read_sql(query, engine)\n",
    "\n",
    "    if df.empty:\n",
    "        print(\"No data found for the provided SystemId.\")\n",
    "        return None\n",
    "\n",
    "    # Convert the row to a dictionary and handle non-serializable types\n",
    "    hotel_data = df.iloc[0].to_dict()\n",
    "\n",
    "    # Convert non-serializable types (like Timestamp) to strings\n",
    "    for key, value in hotel_data.items():\n",
    "        if isinstance(value, pd.Timestamp):\n",
    "            hotel_data[key] = value.isoformat()  # Convert Timestamp to ISO string\n",
    "\n",
    "    # Print in JSON format\n",
    "    print(json.dumps(hotel_data, indent=4))\n",
    "\n",
    "# Example usage\n",
    "get_specifiq_data_from_system_id(table, '9042', engine)"
   ]
  },
  {
   "cell_type": "code",
   "execution_count": 38,
   "id": "d33b64fc-cf3a-4373-b9c9-52df62727533",
   "metadata": {},
   "outputs": [],
   "source": [
    "def get_specifiq_data_from_system_id(table, systemid, engine):\n",
    "    # SQL query to fetch data for a specific SystemId\n",
    "    query = f\"SELECT * FROM {table} WHERE SystemId = '{systemid}';\"\n",
    "    df = pd.read_sql(query, engine)\n",
    "\n",
    "    if df.empty:\n",
    "        print(\"No data found for the provided SystemId.\")\n",
    "        return None\n",
    "\n",
    "    # Assuming only one row will be returned for a specific SystemId\n",
    "    hotel_data = df.iloc[0].to_dict()\n",
    "\n",
    "    # Extract nested JSON from the 'HotelInfo' field\n",
    "    hotel_info = json.loads(hotel_data.get(\"HotelInfo\", \"{}\"))\n",
    "    \n",
    "    createdAt = hotel_data.get(\"CreatedAt\")\n",
    "    \n",
    "    if isinstance(createdAt, pd.Timestamp):\n",
    "        # Convert to string if needed and format timestamp\n",
    "        createdAt_str = createdAt.strftime(\"%Y-%m-%dT%H:%M:%S\")\n",
    "        created_at_dt = datetime.strptime(createdAt_str, \"%Y-%m-%dT%H:%M:%S\")\n",
    "        timeStamp = int(created_at_dt.timestamp())\n",
    "    else:\n",
    "        created_at_dt = datetime.strptime(createdAt, \"%Y-%m-%dT%H:%M:%S\")\n",
    "        timeStamp = int(created_at_dt.timestamp())\n",
    "\n",
    "    # print(\"CreatedAt:\", created_at_dt)\n",
    "    # print(\"Timestamp:\", timeStamp)\n",
    "    # print(\"HotelInfo:\", hotel_info)\n",
    "    \n",
    "    # Construct the hotel photo data in the desired format\n",
    "    hotel_photo_data = [\n",
    "        {\n",
    "            \"picture_id\": \"NULL\",  \n",
    "            \"title\": \"NULL\",       \n",
    "            \"url\": url             \n",
    "        } for url in hotel_info.get(\"imageUrls\", []) or []\n",
    "    ]\n",
    "\n",
    "    hotel_room_amenities = [\n",
    "        {\n",
    "            \"type\": ameList,\n",
    "            \"title\": ameList,\n",
    "            \"icon\": \"NULL\"\n",
    "        } for ameList in hotel_info.get(\"masterRoomAmenities\", []) or []\n",
    "    ]\n",
    "    \n",
    "    hotel_amenities = [\n",
    "        {\n",
    "            \"type\": ameList,\n",
    "            \"title\": ameList,\n",
    "            \"icon\": \"NULL\"\n",
    "        } for ameList in hotel_info.get(\"masterHotelAmenities\", []) or []\n",
    "    ]\n",
    "    \n",
    "    specific_data = {\n",
    "        \"created\": createdAt_str,\n",
    "        \"timestamp\": timeStamp,\n",
    "        \"hotel_id\": hotel_data.get(\"SystemId\", \"NULL\"),\n",
    "        \"name\": hotel_info.get(\"name\", hotel_data.get(\"HotelName\", \"NULL\")),\n",
    "        \"name_local\": hotel_info.get(\"name\", hotel_data.get(\"HotelName\", \"NULL\")),\n",
    "        \"hotel_formerly_name\": \"NULL\",\n",
    "        \"destination_code\": hotel_data.get(\"GiDestinationId\", \"NULL\"),\n",
    "        \"country_code\":  hotel_data.get(\"CountryCode\", \"NULL\"),\n",
    "        \"brand_text\": \"NULL\",\n",
    "        \"property_type\": \"NULL\",\n",
    "        \"star_rating\": hotel_info.get(\"rating\", hotel_data.get(\"Rating\", \"NULL\")),\n",
    "        \"chain\": \"NULL\",\n",
    "        \"brand\": \"NULL\",\n",
    "        \"logo\": \"NULL\",\n",
    "        \"primary_photo\": hotel_info.get(\"imageUrl\", hotel_data.get(\"ImageUrl\", \"NULL\")),\n",
    "        \"review_rating\": {\n",
    "            \"source\": \"NULL\",\n",
    "            \"number_of_reviews\": \"NULL\",\n",
    "            \"rating_average\": hotel_info.get(\"tripAdvisorRating\", \"NULL\"),\n",
    "            \"popularity_score\": \"NULL\",\n",
    "        },\n",
    "        \"policies\": {\n",
    "            \"checkin\": {\n",
    "                \"begin_time\": \"NULL\",\n",
    "                \"end_time\": \"NULL\",\n",
    "                \"instructions\": \"NULL\",\n",
    "                \"special_instructions\": \"NULL\",\n",
    "                \"min_age\": \"NULL\",\n",
    "            },\n",
    "            \"checkout\": {\n",
    "                \"time\": \"NULL\",\n",
    "            },\n",
    "            \"fees\": {\n",
    "                \"optional\": \"NULL\",\n",
    "            },\n",
    "            \"know_before_you_go\": \"NULL\",\n",
    "            \"pets\": \"NULL\",\n",
    "            \"remark\": \"NULL\",\n",
    "            \"child_and_extra_bed_policy\": {\n",
    "                \"infant_age\": \"NULL\",\n",
    "                \"children_age_from\": \"NULL\",\n",
    "                \"children_age_to\": \"NULL\",\n",
    "                \"children_stay_free\": \"NULL\",\n",
    "                \"min_guest_age\": \"NULL\"\n",
    "            },\n",
    "            \"nationality_restrictions\": \"NULL\",\n",
    "        },\n",
    "        \"address\": {\n",
    "            \"latitude\": hotel_info.get(\"geocode\", {}).get(\"lat\", hotel_data.get(\"Latitude\", \"NULL\")),\n",
    "            \"longitude\": hotel_info.get(\"geocode\", {}).get(\"lon\", hotel_data.get(\"Longitude\", \"NULL\")),\n",
    "            \"address_line_1\": hotel_data.get(\"Address1\", \"NULL\"),\n",
    "            \"address_line_2\": hotel_data.get(\"Address2\", \"NULL\"),\n",
    "            \"city\": hotel_data.get(\"City\", \"NULL\"),\n",
    "            \"state\": hotel_info.get(\"address\", {}).get(\"stateName\", \"NULL\"),\n",
    "            \"country\": hotel_data.get(\"CountryName\", \"NULL\"),\n",
    "            \"country_code\": hotel_data.get(\"CountryCode\", \"NULL\"),\n",
    "            \"postal_code\": hotel_data.get(\"ZipCode\", \"NULL\"),\n",
    "            \"full_address\": f\"{hotel_data.get('Address1', 'NULL')}, {hotel_data.get('Address2', 'NULL')}\",\n",
    "            \"google_map_site_link\": \"NULL\",\n",
    "            \"local_lang\": {\n",
    "                \"latitude\": hotel_info.get(\"geocode\", {}).get(\"lat\", hotel_data.get(\"Latitude\", \"NULL\")),\n",
    "                \"longitude\": hotel_info.get(\"geocode\", {}).get(\"lon\", hotel_data.get(\"Longitude\", \"NULL\")),\n",
    "                \"address_line_1\": hotel_data.get(\"Address1\", \"NULL\"),\n",
    "                \"address_line_2\": hotel_data.get(\"Address2\", \"NULL\"),\n",
    "                \"city\": hotel_data.get(\"City\", \"NULL\"),\n",
    "                \"state\": hotel_info.get(\"address\", {}).get(\"stateName\", \"NULL\"),\n",
    "                \"country\": hotel_data.get(\"CountryName\", \"NULL\"),\n",
    "                \"country_code\": hotel_data.get(\"CountryCode\", \"NULL\"),\n",
    "                \"postal_code\": hotel_data.get(\"ZipCode\", \"NULL\"),\n",
    "                \"full_address\": f\"{hotel_data.get('Address1', 'NULL')}, {hotel_data.get('Address2', 'NULL')}\", \n",
    "                \"google_map_site_link\": \"NULL\",\n",
    "            },\n",
    "            \"mapping\": {\n",
    "                \"continent_id\": \"NULL\",\n",
    "                \"country_id\": hotel_data.get(\"CountryCode\", \"NULL\"),\n",
    "                \"province_id\": \"NULL\",\n",
    "                \"state_id\": \"NULL\",\n",
    "                \"city_id\": \"NULL\",\n",
    "                \"area_id\": \"NULL\"\n",
    "            }\n",
    "        },\n",
    "        \"contacts\": {\n",
    "            \"phone_numbers\": [hotel_info.get(\"contact\", {}).get(\"phoneNo\", \"NULL\")],\n",
    "            \"fax\": hotel_info.get(\"contact\", {}).get(\"faxNo\", \"NULL\"),\n",
    "            \"email_address\": \"NULL\",\n",
    "            \"website\": hotel_info.get(\"contact\", {}).get(\"website\", hotel_data.get(\"Website\", \"NULL\"))\n",
    "        },\n",
    "        \"descriptions\": [\n",
    "            {\n",
    "                \"title\": \"NULL\",\n",
    "                \"text\": \"NULL\"\n",
    "            }\n",
    "        ],\n",
    "        \"room_type\": {\n",
    "            \"room_id\": \"NULL\",\n",
    "            \"title\": \"NULL\",\n",
    "            \"title_lang\": \"NULL\",\n",
    "            \"room_pic\": \"NULL\",\n",
    "            \"description\": \"NULL\",\n",
    "            \"max_allowed\": {\n",
    "            \"total\": \"NULL\",\n",
    "            \"adults\": \"NULL\",\n",
    "            \"children\": \"NULL\",\n",
    "            \"infant\": \"n/a\"\n",
    "            },\n",
    "            \"no_of_room\": \"n/a\",\n",
    "            \"room_size\": \"NULL\",\n",
    "            \"bed_type\": [\n",
    "                    {\n",
    "                    \"description\": \"NULL\",\n",
    "                    \"configuration\": [\n",
    "                        {\n",
    "                        \"quantity\": \"NULL\",\n",
    "                        \"size\": \"NULL\",\n",
    "                        \"type\": \"NULL\"\n",
    "                        }\n",
    "                    ],\n",
    "                    \"max_extrabeds\": \"n/a\"\n",
    "                    }\n",
    "                ],\n",
    "            \"shared_bathroom\": \"n/a\"\n",
    "            },\n",
    "        \"spoken_languages\": {\n",
    "            \"type\": \"NULL\",\n",
    "            \"title\": \"NULL\",\n",
    "            \"icon\": \"NULL\"\n",
    "            },\n",
    "        \"amenities\": hotel_room_amenities,\n",
    "        \"facilities\": hotel_amenities,\n",
    "        \"hotel_photo\": hotel_photo_data, \n",
    "        \n",
    "        \"point_of_interests\": [\n",
    "            {\n",
    "            \"code\": \"NULL\",\n",
    "            \"name\": \"NULL\"\n",
    "            }\n",
    "        ],\n",
    "        \"nearest_airports\": [\n",
    "            {\n",
    "            \"code\": \"NULL\",\n",
    "            \"name\": \"NULL\"\n",
    "            }\n",
    "        ],\n",
    "        \"train_stations\": [\n",
    "            {\n",
    "            \"code\": \"NULL\",\n",
    "            \"name\": \"NULL\"\n",
    "            }\n",
    "        ], \n",
    "        \"connected_locations\": [\n",
    "            {\n",
    "            \"code\": \"NULL\",\n",
    "            \"name\": \"NULL\"\n",
    "            },\n",
    "        ],\n",
    "        \"stadiums\": [\n",
    "            {\n",
    "            \"code\": \"NULL\",\n",
    "            \"name\": \"NULL\"\n",
    "            }\n",
    "        ]\n",
    "    }\n",
    "\n",
    "\n",
    "    return specific_data\n",
    "\n",
    "\n",
    "    # with open(output_file, \"w\") as f:\n",
    "    #     json.dump(specific_data, f, indent=4)\n",
    "\n",
    "    # print(f\"Data for SystemId {systemid} saved to {output_file}\")\n",
    "\n",
    "# Fetch and save data for a specific SystemId\n",
    "# table = 'hotel_info_all'\n",
    "# systemId = '1081355'\n",
    "# data = get_specifiq_data_from_system_id(table=table, systemid=systemId, engine=engine)\n",
    "# print(data)\n"
   ]
  },
  {
   "cell_type": "code",
   "execution_count": null,
   "id": "968606c1-3ae7-40d6-97c8-25677058848b",
   "metadata": {
    "scrolled": true
   },
   "outputs": [
    {
     "name": "stdout",
     "output_type": "stream",
     "text": [
      "Save 745474.json in ./gill_hotel_json_files/AE\n",
      "Save 1269765.json in ./gill_hotel_json_files/AE\n",
      "Save 1138704.json in ./gill_hotel_json_files/AE\n",
      "Save 1138705.json in ./gill_hotel_json_files/AE\n",
      "Save 1138706.json in ./gill_hotel_json_files/AE\n",
      "Save 1376276.json in ./gill_hotel_json_files/AE\n",
      "Save 1384469.json in ./gill_hotel_json_files/AE\n",
      "Save 417814.json in ./gill_hotel_json_files/AE\n",
      "Save 753687.json in ./gill_hotel_json_files/AE\n",
      "Save 122905.json in ./gill_hotel_json_files/AE\n",
      "Save 1081370.json in ./gill_hotel_json_files/AE\n",
      "Save 1384479.json in ./gill_hotel_json_files/AE\n",
      "Save 139299.json in ./gill_hotel_json_files/AE\n",
      "Save 139304.json in ./gill_hotel_json_files/AE\n",
      "Save 516142.json in ./gill_hotel_json_files/AE\n",
      "Save 1294384.json in ./gill_hotel_json_files/AE\n",
      "Save 1187902.json in ./gill_hotel_json_files/AE\n",
      "Save 434245.json in ./gill_hotel_json_files/AE\n",
      "Save 131142.json in ./gill_hotel_json_files/AE\n",
      "Save 16457.json in ./gill_hotel_json_files/AE\n",
      "Save 139337.json in ./gill_hotel_json_files/AE\n",
      "Save 1245260.json in ./gill_hotel_json_files/AE\n",
      "Save 1163341.json in ./gill_hotel_json_files/AE\n",
      "Save 73806.json in ./gill_hotel_json_files/AE\n",
      "Save 139343.json in ./gill_hotel_json_files/AE\n",
      "Save 73808.json in ./gill_hotel_json_files/AE\n",
      "Save 139347.json in ./gill_hotel_json_files/AE\n",
      "Save 1204307.json in ./gill_hotel_json_files/AE\n",
      "Save 1163349.json in ./gill_hotel_json_files/AE\n",
      "Save 245843.json in ./gill_hotel_json_files/AE\n",
      "Save 1163352.json in ./gill_hotel_json_files/AE\n",
      "Save 1163353.json in ./gill_hotel_json_files/AE\n",
      "Save 1163356.json in ./gill_hotel_json_files/AE\n",
      "Save 131192.json in ./gill_hotel_json_files/AE\n",
      "Save 1163404.json in ./gill_hotel_json_files/AE\n",
      "Save 139412.json in ./gill_hotel_json_files/AE\n",
      "Save 24727.json in ./gill_hotel_json_files/AE\n",
      "Save 1392795.json in ./gill_hotel_json_files/AE\n",
      "Save 90280.json in ./gill_hotel_json_files/AE\n",
      "Save 90281.json in ./gill_hotel_json_files/AE\n",
      "Save 688298.json in ./gill_hotel_json_files/AE\n",
      "Save 688299.json in ./gill_hotel_json_files/AE\n",
      "Save 606379.json in ./gill_hotel_json_files/AE\n",
      "Save 90282.json in ./gill_hotel_json_files/AE\n",
      "Save 483502.json in ./gill_hotel_json_files/AE\n",
      "Save 1392814.json in ./gill_hotel_json_files/AE\n",
      "Save 90283.json in ./gill_hotel_json_files/AE\n"
     ]
    }
   ],
   "source": [
    "def save_json_files_follow_systemId(folder_path):\n",
    "    if not os.path.exists(folder_path):\n",
    "        os.makedirs(folder_path)\n",
    "\n",
    "    table = 'hotel_info_all'\n",
    "    column = 'SystemId'\n",
    "\n",
    "    systemid_list = get_system_id_list(table, column, engine)\n",
    "\n",
    "    for systemid in systemid_list:\n",
    "        file_name = f\"{systemid}.json\"\n",
    "        file_path = os.path.join(folder_path, file_name)\n",
    "\n",
    "        data_dict = get_specifiq_data_from_system_id(table, systemid, engine)\n",
    "\n",
    "        with open(file_path, \"w\") as json_file:\n",
    "            json.dump(data_dict, json_file, indent=4)\n",
    "            \n",
    "        print(f\"Save {file_name} in {folder_path}\")\n",
    "\n",
    "\n",
    "\n",
    "folder_path = './gill_hotel_json_files/AE'\n",
    "\n",
    "save_json_files_follow_systemId(folder_path)"
   ]
  },
  {
   "cell_type": "code",
   "execution_count": null,
   "id": "89075a26-7b11-4da6-b7c3-163cd1a0503d",
   "metadata": {},
   "outputs": [],
   "source": []
  },
  {
   "cell_type": "code",
   "execution_count": null,
   "id": "318cd74d-6f25-48ab-b066-0656f15289c8",
   "metadata": {},
   "outputs": [],
   "source": []
  },
  {
   "cell_type": "code",
   "execution_count": null,
   "id": "2636ad82-c8f9-4e52-ad65-21aa87a441ed",
   "metadata": {},
   "outputs": [],
   "source": []
  },
  {
   "cell_type": "code",
   "execution_count": null,
   "id": "fb08f2de-a25c-4f75-a26c-31e4289ef21c",
   "metadata": {},
   "outputs": [],
   "source": []
  },
  {
   "cell_type": "code",
   "execution_count": null,
   "id": "e0adfe4c-5a11-4033-9a82-a1381b48a7b2",
   "metadata": {},
   "outputs": [],
   "source": []
  },
  {
   "cell_type": "code",
   "execution_count": null,
   "id": "465438bf-d2a2-4d3b-8b67-35f02a338651",
   "metadata": {},
   "outputs": [],
   "source": []
  }
 ],
 "metadata": {
  "kernelspec": {
   "display_name": "Python 3 (ipykernel)",
   "language": "python",
   "name": "python3"
  },
  "language_info": {
   "codemirror_mode": {
    "name": "ipython",
    "version": 3
   },
   "file_extension": ".py",
   "mimetype": "text/x-python",
   "name": "python",
   "nbconvert_exporter": "python",
   "pygments_lexer": "ipython3",
   "version": "3.12.7"
  }
 },
 "nbformat": 4,
 "nbformat_minor": 5
}
