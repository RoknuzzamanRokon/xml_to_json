{
 "cells": [
  {
   "cell_type": "markdown",
   "id": "df46d2de-6709-43ba-bd0e-9a3ccd2e46d2",
   "metadata": {},
   "source": [
    "## Import module"
   ]
  },
  {
   "cell_type": "code",
   "execution_count": 11,
   "id": "0fd0c032-396f-41da-b7e9-a08d82ab403b",
   "metadata": {},
   "outputs": [],
   "source": [
    "from sqlalchemy import create_engine, text, inspect\n",
    "from dotenv import load_dotenv\n",
    "from datetime import datetime\n",
    "import pandas as pd\n",
    "import json\n",
    "import os\n",
    "import time"
   ]
  },
  {
   "cell_type": "markdown",
   "id": "20733338-eb6c-44a7-a39b-60c7b59fe784",
   "metadata": {},
   "source": [
    "### Load cradentials"
   ]
  },
  {
   "cell_type": "code",
   "execution_count": 12,
   "id": "a003354d-8ad5-49ca-8046-4ad4091f48ec",
   "metadata": {},
   "outputs": [],
   "source": [
    "load_dotenv()\n",
    "\n",
    "db_host = os.getenv('DB_HOST')\n",
    "db_user = os.getenv('DB_USER')\n",
    "db_pass = os.getenv('DB_PASSWORD')\n",
    "db_name = os.getenv('DB_NAME')\n"
   ]
  },
  {
   "cell_type": "markdown",
   "id": "8f84619f-e47f-45e7-a263-6eb127560b40",
   "metadata": {},
   "source": [
    "### Create engine for connecting database."
   ]
  },
  {
   "cell_type": "code",
   "execution_count": 13,
   "id": "d3afda2e-ba49-4c2a-81e7-0ec1d502aefc",
   "metadata": {},
   "outputs": [],
   "source": [
    "DATABASE_URL = f\"mysql+pymysql://{db_user}:{db_pass}@{db_host}/{db_name}\"\n",
    "engine = create_engine(DATABASE_URL)"
   ]
  },
  {
   "cell_type": "markdown",
   "id": "12406f41-dd10-41bc-82be-0aef57154581",
   "metadata": {},
   "source": [
    "### DATABASE AND TABLE INFORMATIONS."
   ]
  },
  {
   "cell_type": "code",
   "execution_count": 14,
   "id": "eac9ddae-27c8-4c13-9aad-0d345c4e340f",
   "metadata": {},
   "outputs": [],
   "source": [
    "table_main = 'hotel_info_all'"
   ]
  },
  {
   "cell_type": "markdown",
   "id": "f4e3c0f0-ad0a-426b-8d31-6a2d1a15b46c",
   "metadata": {},
   "source": [
    "### Database Connecting test query"
   ]
  },
  {
   "cell_type": "code",
   "execution_count": 15,
   "id": "9f4624b1-0cf8-452c-ae5e-dcea5f64f6a9",
   "metadata": {},
   "outputs": [
    {
     "name": "stdout",
     "output_type": "stream",
     "text": [
      "Connected to database: itt_master_contents\n"
     ]
    }
   ],
   "source": [
    "try:\n",
    "    with engine.connect() as connection:\n",
    "        result = connection.execute(text(\"SELECT DATABASE()\"))\n",
    "        db_name = result.fetchone()[0]\n",
    "        print(f\"Connected to database: {db_name}\")\n",
    "except Exception as e:\n",
    "    print(f\"Error: {e}\")"
   ]
  },
  {
   "cell_type": "markdown",
   "id": "947462df-aa6f-44cf-8861-cd4477e9b6c3",
   "metadata": {},
   "source": [
    "### Print All existing table list in the database."
   ]
  },
  {
   "cell_type": "code",
   "execution_count": 19,
   "id": "d13526e3-f1d8-4999-8bd3-c5e53d6d4c4a",
   "metadata": {},
   "outputs": [
    {
     "name": "stdout",
     "output_type": "stream",
     "text": [
      "Tables in the databse 'itt_master_contents'\n",
      "\n",
      "\n",
      "hotel_info_all\n",
      "hotels_info_with_gidestination_code\n",
      "vervotech_hotel_list\n",
      "vervotech_hotel_map_new\n",
      "vervotech_hotel_map_update\n",
      "vervotech_mapping\n",
      "vervotech_update_data_info\n"
     ]
    }
   ],
   "source": [
    "try:\n",
    "    inspector = inspect(engine)\n",
    "    tables = inspector.get_table_names()\n",
    "    if tables:\n",
    "        print(f\"Tables in the databse '{db_name}'\\n\\n\")\n",
    "        for table in tables:\n",
    "            print(table)\n",
    "    else:\n",
    "        print(f\"No tables found in the database '{db_name}'\")\n",
    "except Exception as e:\n",
    "    print(f\"Error: {e}\")\n"
   ]
  },
  {
   "cell_type": "markdown",
   "id": "d3d8736b-1153-4929-94b2-bedf09b93ae5",
   "metadata": {},
   "source": [
    "### Function for get all data."
   ]
  },
  {
   "cell_type": "code",
   "execution_count": null,
   "id": "2ae9cd42-b026-41ea-b05e-7a46a443cb08",
   "metadata": {},
   "outputs": [],
   "source": [
    "def get_all_info_in_data_table(table, engine):\n",
    "    query = f\"SELECT * FROM {table};\"\n",
    "    df = pd.read_sql(query, engine)\n",
    "    return df\n",
    "    \n",
    "table_main = 'hotel_info_all'\n",
    "get_data = get_all_info_in_data_table(table_main, engine)\n",
    "print(get_data)\n",
    "                                      \n",
    "    "
   ]
  },
  {
   "cell_type": "markdown",
   "id": "54d7f3a9-58c7-4f78-8da8-05766b543d76",
   "metadata": {},
   "source": [
    "### Function for specifiq data."
   ]
  },
  {
   "cell_type": "code",
   "execution_count": null,
   "id": "8dd7df18-d81f-417c-9005-d0f666c838b5",
   "metadata": {},
   "outputs": [],
   "source": [
    "def get_specifiq_data_from_system_id(systemid, engine):\n",
    "\n",
    "    query = f\"SELECT * FROM hotel_info_all WHERE SystemId = '{systemid}';\""
   ]
  },
  {
   "cell_type": "code",
   "execution_count": null,
   "id": "2d335426-4477-47b3-95aa-4152f87544a2",
   "metadata": {},
   "outputs": [],
   "source": []
  },
  {
   "cell_type": "code",
   "execution_count": null,
   "id": "d3b8bb4a-c5a4-4e74-9b98-9e83017f21c8",
   "metadata": {},
   "outputs": [],
   "source": []
  }
 ],
 "metadata": {
  "kernelspec": {
   "display_name": "Python 3 (ipykernel)",
   "language": "python",
   "name": "python3"
  },
  "language_info": {
   "codemirror_mode": {
    "name": "ipython",
    "version": 3
   },
   "file_extension": ".py",
   "mimetype": "text/x-python",
   "name": "python",
   "nbconvert_exporter": "python",
   "pygments_lexer": "ipython3",
   "version": "3.12.7"
  }
 },
 "nbformat": 4,
 "nbformat_minor": 5
}
