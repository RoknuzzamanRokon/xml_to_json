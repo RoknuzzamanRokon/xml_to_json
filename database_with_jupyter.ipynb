{
 "cells": [
  {
   "cell_type": "markdown",
   "id": "75e67e1f-1cde-44ed-bec8-355cb2208a06",
   "metadata": {},
   "source": [
    "#### Tests version"
   ]
  },
  {
   "cell_type": "code",
   "execution_count": 1,
   "id": "1ebe16a2-a046-4c1b-91fb-32b3b853a006",
   "metadata": {},
   "outputs": [
    {
     "name": "stdout",
     "output_type": "stream",
     "text": [
      "3.12.0 (tags/v3.12.0:0fb18b0, Oct  2 2023, 13:03:39) [MSC v.1935 64 bit (AMD64)]\n"
     ]
    }
   ],
   "source": [
    "import sys\n",
    "\n",
    "print(sys.version)"
   ]
  },
  {
   "cell_type": "markdown",
   "id": "32a9cfc1-2b3b-4dad-8285-cb4f50c40454",
   "metadata": {},
   "source": [
    "## Import liberay and set connection with database with database cradensial."
   ]
  },
  {
   "cell_type": "code",
   "execution_count": 2,
   "id": "a515b6c0-8912-4032-82e5-2d7be497ece3",
   "metadata": {},
   "outputs": [],
   "source": [
    "import os\n",
    "from sqlalchemy import create_engine, text, inspect\n",
    "from dotenv import load_dotenv\n",
    "import pandas as pd\n",
    "\n",
    "load_dotenv()\n",
    "\n",
    "# Database connection details\n",
    "db_host = os.getenv('DB_HOST')\n",
    "db_user = os.getenv('DB_USER')\n",
    "db_pass = os.getenv('DB_PASSWORD')\n",
    "db_name = os.getenv('DB_NAME')\n",
    "\n",
    "DATABASE_URL = f\"mysql+pymysql://{db_user}:{db_pass}@{db_host}/{db_name}\"\n",
    "engine = create_engine(DATABASE_URL)"
   ]
  },
  {
   "cell_type": "markdown",
   "id": "f50f042a-3b35-4f58-a428-d205c93328ca",
   "metadata": {},
   "source": [
    "### Database Connecting test query"
   ]
  },
  {
   "cell_type": "code",
   "execution_count": 4,
   "id": "6db7dae1-a288-4224-ae4d-1e7b3937e06d",
   "metadata": {},
   "outputs": [
    {
     "name": "stdout",
     "output_type": "stream",
     "text": [
      "Connected to database: itt_master_contents\n"
     ]
    }
   ],
   "source": [
    "try:\n",
    "    with engine.connect() as connection:\n",
    "        result = connection.execute(text(\"SELECT DATABASE()\"))\n",
    "        db_name = result.fetchone()[0]\n",
    "        print(f\"Connected to database: {db_name}\")\n",
    "except Exception as e:\n",
    "    print(f\"Error: {e}\")"
   ]
  },
  {
   "cell_type": "markdown",
   "id": "1536f2bd-7c91-41d4-95fe-a73707d3eb88",
   "metadata": {},
   "source": [
    "### Print All table list in the database for check connection."
   ]
  },
  {
   "cell_type": "code",
   "execution_count": 5,
   "id": "21b7f98e-d49e-4b77-9146-425688f286c0",
   "metadata": {},
   "outputs": [
    {
     "name": "stdout",
     "output_type": "stream",
     "text": [
      "Tables in the database 'itt_master_contents':\n",
      "hotel_info_all\n",
      "hotels_info_with_gidestination_code\n",
      "innova_hotels_main\n",
      "vervotech_ProviderFamily\n",
      "vervotech_hotel_list\n",
      "vervotech_hotel_map_new\n",
      "vervotech_hotel_map_update\n",
      "vervotech_mapping\n",
      "vervotech_update_data_info\n"
     ]
    }
   ],
   "source": [
    "try:\n",
    "    inspector = inspect(engine)\n",
    "    tables = inspector.get_table_names()\n",
    "    if tables:\n",
    "        print(f\"Tables in the database '{db_name}':\")\n",
    "        for table in tables:\n",
    "            print(table)\n",
    "    else:\n",
    "        print(f\"No tables found in the database '{db_name}'\")\n",
    "except Exception as e:\n",
    "    print(f\"Error: {e}\")"
   ]
  },
  {
   "cell_type": "code",
   "execution_count": null,
   "id": "60fdf13d-eb0a-4857-b7a1-7eb7b44ce89b",
   "metadata": {},
   "outputs": [],
   "source": []
  },
  {
   "cell_type": "markdown",
   "id": "69dcad79-7a07-484a-bf28-3deac45716c6",
   "metadata": {},
   "source": [
    "### Get data some rows"
   ]
  },
  {
   "cell_type": "code",
   "execution_count": 14,
   "id": "7a274089-79dd-43d0-9b9d-5121900950d8",
   "metadata": {
    "scrolled": true
   },
   "outputs": [
    {
     "name": "stdout",
     "output_type": "stream",
     "text": [
      "Data saved to HotelData.csv successfully.\n"
     ]
    }
   ],
   "source": [
    "\n",
    "def get_some_rows(table, engine, limit):\n",
    "    query = f\"SELECT * FROM {table} LIMIT {limit}\"\n",
    "    try:\n",
    "        # Use a context manager for automatic transaction handling\n",
    "        with engine.connect() as connection:\n",
    "            df = pd.read_sql(query, connection)\n",
    "            df.to_csv(\"HotelData.csv\", index=False)\n",
    "            print(\"Data saved to HotelData.csv successfully.\")\n",
    "        return df\n",
    "    except SQLAlchemyError as e:\n",
    "        # Explicitly roll back if any SQL error occurs\n",
    "        connection.rollback()\n",
    "        print(f\"An error occurred: {e}\")\n",
    "        raise  # Re-raise the error after rollback for debugging\n",
    "\n",
    "# Usage example\n",
    "table = \"vervotech_hotel_list\"\n",
    "# data = get_some_rows(table, engine, 100000)"
   ]
  },
  {
   "cell_type": "markdown",
   "id": "6156ea6c-a085-4a1e-a8e5-ca56431233ee",
   "metadata": {
    "jp-MarkdownHeadingCollapsed": true
   },
   "source": [
    "### Active suplayer check."
   ]
  },
  {
   "cell_type": "code",
   "execution_count": 9,
   "id": "bf723193-4477-4f0d-a840-a9b846cb421f",
   "metadata": {},
   "outputs": [
    {
     "data": {
      "text/plain": [
       "['HotelBeds', 'TBO', 'EAN', 'MGHoliday', 'Agoda']"
      ]
     },
     "execution_count": 9,
     "metadata": {},
     "output_type": "execute_result"
    }
   ],
   "source": [
    "def get_provider_family_active_list(table, engine):\n",
    "    query = f\"SELECT ProviderFamily FROM {table} WHERE status = 'active'\"\n",
    "    df = pd.read_sql(query, engine)\n",
    "\n",
    "    provider_family_active_list = provider_families = df['ProviderFamily'].tolist()\n",
    "    return provider_family_active_list\n",
    "\n",
    "get_provider_family_name('vervotech_ProviderFamily', engine)"
   ]
  },
  {
   "cell_type": "markdown",
   "id": "123eda8c-c7f8-4fec-835d-87c808d39a74",
   "metadata": {},
   "source": [
    "## Function: Get all data information from the table. using pandas read_sql funtion also."
   ]
  },
  {
   "cell_type": "code",
   "execution_count": 7,
   "id": "9fa68b2d-06dd-4e72-96a0-0ca15642b740",
   "metadata": {},
   "outputs": [
    {
     "name": "stdout",
     "output_type": "stream",
     "text": [
      "          Id             last_update VervotechId UpdateDateFormat  \\\n",
      "0          1  2024/10/15 17:04:09 PM    70487877             None   \n",
      "1          2  2024/10/15 17:04:09 PM    70477374             None   \n",
      "2          3  2024/10/15 17:04:09 PM    70488525             None   \n",
      "3          4  2024/10/15 17:04:09 PM    70488538             None   \n",
      "4          5  2024/10/15 17:04:09 PM    70480802             None   \n",
      "...      ...                     ...         ...              ...   \n",
      "10269  10270  2024/11/04 01:00:09 AM    70491879             None   \n",
      "10270  10271  2024/11/04 01:00:09 AM    70490902             None   \n",
      "10271  10272  2024/11/04 01:00:09 AM    70492469             None   \n",
      "10272  10273  2024/11/04 01:00:09 AM    70492842             None   \n",
      "10273  10274  2024/11/04 01:00:09 AM    70490907             None   \n",
      "\n",
      "      ProviderHotelId ProviderFamily ChannelIds ProviderLocationCode  \\\n",
      "0           100321969            EAN       None                 None   \n",
      "1           100335387            EAN       None                 None   \n",
      "2           100521320            EAN       None                 None   \n",
      "3           100737301            EAN       None                 None   \n",
      "4           100927090            EAN       None                 None   \n",
      "...               ...            ...        ...                  ...   \n",
      "10269         6296787            TBO       None               134367   \n",
      "10270         6298509            TBO       None               134367   \n",
      "10271         6303195            TBO       None               132109   \n",
      "10272         6306213            TBO       None               132109   \n",
      "10273         6306680            TBO       None               132109   \n",
      "\n",
      "                       status          created_at          ModifiedOn  \n",
      "0      Update data successful 2024-10-18 10:53:00 2024-10-19 12:52:46  \n",
      "1      Update data successful 2024-10-18 10:53:00 2024-10-19 12:52:46  \n",
      "2      Update data successful 2024-10-18 10:53:00 2024-10-19 12:52:46  \n",
      "3               Skipping data 2024-10-18 10:53:00 2024-10-19 12:52:46  \n",
      "4      Update data successful 2024-10-18 10:53:00 2024-10-19 12:52:46  \n",
      "...                       ...                 ...                 ...  \n",
      "10269  Update data successful 2024-11-03 17:00:10 2024-11-03 19:03:59  \n",
      "10270  Update data successful 2024-11-03 17:00:10 2024-11-03 19:04:01  \n",
      "10271  Update data successful 2024-11-03 17:00:10 2024-11-03 19:04:03  \n",
      "10272  Update data successful 2024-11-03 17:00:10 2024-11-03 19:04:05  \n",
      "10273  Update data successful 2024-11-03 17:00:10 2024-11-03 19:04:08  \n",
      "\n",
      "[10274 rows x 11 columns]\n"
     ]
    }
   ],
   "source": [
    "def total_data_count(table, engine):\n",
    "    query = f\"SELECT * FROM {table}\"\n",
    "    df = pd.read_sql(query, engine)\n",
    "    # print(df)\n",
    "\n",
    "total_data_count(table=\"vervotech_hotel_map_new\", engine=engine)"
   ]
  },
  {
   "cell_type": "markdown",
   "id": "31df935f-7ba0-4bdc-a2a5-ce3209c2bb87",
   "metadata": {},
   "source": [
    "### Function: Total data count."
   ]
  },
  {
   "cell_type": "code",
   "execution_count": 43,
   "id": "6f123c22-b68f-4380-bb23-c2b98a07b7b5",
   "metadata": {},
   "outputs": [
    {
     "data": {
      "text/plain": [
       "np.int64(8674)"
      ]
     },
     "execution_count": 43,
     "metadata": {},
     "output_type": "execute_result"
    }
   ],
   "source": [
    "def total_data_count(table, engine):\n",
    "    query = f\"SELECT COUNT(*) FROM {table}\"\n",
    "    df = pd.read_sql(query, engine)\n",
    "    total_data = df.iloc[0, 0]\n",
    "    return total_data\n",
    "\n",
    "\n",
    "total_data_count(table=\"vervotech_hotel_map_new\", engine=engine)"
   ]
  },
  {
   "cell_type": "code",
   "execution_count": null,
   "id": "92925b48-13f4-4dd6-bf0e-b2c2e7cfdf74",
   "metadata": {},
   "outputs": [],
   "source": []
  },
  {
   "cell_type": "markdown",
   "id": "e8d62e68-dfaa-46ef-bd43-652596d22762",
   "metadata": {},
   "source": [
    "## Function: Get Group data in database."
   ]
  },
  {
   "cell_type": "code",
   "execution_count": 34,
   "id": "2cc21a05-ae08-4e79-8a29-27e1146ca319",
   "metadata": {},
   "outputs": [
    {
     "name": "stdout",
     "output_type": "stream",
     "text": [
      "   ProviderFamily  value_count\n",
      "0           Agoda            2\n",
      "1            DOTW            2\n",
      "2             EAN            6\n",
      "3        GoGlobal            3\n",
      "4      GRNConnect            3\n",
      "5       HotelBeds           28\n",
      "6       MGHoliday            1\n",
      "7         Rakuten            3\n",
      "8          Restel            1\n",
      "9           Stuba           52\n",
      "10            TBO            3\n"
     ]
    }
   ],
   "source": [
    "def new_group_data(table, engine):\n",
    "    query = f\"\"\"\n",
    "    SELECT ProviderFamily, COUNT(*) AS value_count\n",
    "    FROM {table}\n",
    "    WHERE DATE(created_at) = (\n",
    "        SELECT DATE(MAX(created_at)) \n",
    "        FROM {table}\n",
    "    )\n",
    "    GROUP BY ProviderFamily;\n",
    "    \"\"\"\n",
    "    df = pd.read_sql(query, engine)\n",
    "    return df \n",
    "\n",
    "data = new_group_data(table=\"vervotech_hotel_map_new\", engine=engine)\n",
    "print(data)\n"
   ]
  },
  {
   "cell_type": "code",
   "execution_count": 20,
   "id": "958748bb-7ab8-475f-81ba-72f990c77e44",
   "metadata": {},
   "outputs": [
    {
     "name": "stdout",
     "output_type": "stream",
     "text": [
      "Agoda\n",
      "2\n",
      "11\n"
     ]
    }
   ],
   "source": [
    "print(data.ProviderFamily[0])\n",
    "print(data.value_count[0])\n",
    "print(len(data))"
   ]
  },
  {
   "cell_type": "code",
   "execution_count": 24,
   "id": "2a8eb088-8727-4f02-9faa-6057d5db39a4",
   "metadata": {},
   "outputs": [
    {
     "name": "stdout",
     "output_type": "stream",
     "text": [
      "Agoda\n",
      "DOTW\n",
      "EAN\n",
      "GoGlobal\n",
      "GRNConnect\n",
      "HotelBeds\n",
      "MGHoliday\n",
      "Rakuten\n",
      "Restel\n",
      "Stuba\n",
      "TBO\n"
     ]
    }
   ],
   "source": [
    "leanth_table = len(data)\n",
    "\n",
    "for i in range (leanth_table):\n",
    "    print(data.ProviderFamily[i])"
   ]
  },
  {
   "cell_type": "markdown",
   "id": "025305a1-7337-4ea9-81d9-f7f0136e7c40",
   "metadata": {},
   "source": [
    "## Function: Get All Data for a Specific Key word. Update data show there."
   ]
  },
  {
   "cell_type": "code",
   "execution_count": null,
   "id": "27557443-38c1-4b82-90ea-336d79f1113d",
   "metadata": {},
   "outputs": [],
   "source": []
  },
  {
   "cell_type": "code",
   "execution_count": 35,
   "id": "63670370-6bb0-4ae5-8d64-dd7b648cfe2d",
   "metadata": {},
   "outputs": [
    {
     "name": "stdout",
     "output_type": "stream",
     "text": [
      "     Id             last_update VervotechId UpdateDateFormat ProviderHotelId  \\\n",
      "0  8571  2024/10/25 13:00:04 PM    70500662             None        13829532   \n",
      "1  8572  2024/10/25 13:00:04 PM    39684057             None         2453037   \n",
      "\n",
      "  ProviderFamily ChannelIds ProviderLocationCode                  status  \\\n",
      "0          Agoda       None                 None  Update data successful   \n",
      "1          Agoda       None                 None  Update data successful   \n",
      "\n",
      "           created_at          ModifiedOn  \n",
      "0 2024-10-25 05:00:11 2024-10-25 07:00:12  \n",
      "1 2024-10-25 05:00:11 2024-10-25 07:00:14  \n"
     ]
    }
   ],
   "source": [
    "def get_provider_family_data(table, engine, provider_family):\n",
    "    query = f\"\"\"\n",
    "    SELECT *\n",
    "    FROM {table}\n",
    "    WHERE ProviderFamily = %s\n",
    "    AND DATE(created_at) = (\n",
    "        SELECT DATE(MAX(created_at)) \n",
    "        FROM {table}\n",
    "    );\n",
    "    \"\"\"\n",
    "    # Use pandas to execute the query and pass the provider_family parameter\n",
    "    df = pd.read_sql(query, engine, params=(provider_family,))\n",
    "    return df\n",
    "\n",
    "# Fetch all data for 'Agoda'\n",
    "agoda_data = get_provider_family_data(table=\"vervotech_hotel_map_new\", engine=engine, provider_family=\"Agoda\")\n",
    "\n",
    "# Print the result\n",
    "print(agoda_data)\n"
   ]
  },
  {
   "cell_type": "code",
   "execution_count": null,
   "id": "525c14c8-29ed-42fe-bb9b-7d5f4ad1d7da",
   "metadata": {},
   "outputs": [],
   "source": []
  },
  {
   "cell_type": "code",
   "execution_count": null,
   "id": "96a70565-5f71-4bf1-ab42-0872df87b942",
   "metadata": {
    "scrolled": true
   },
   "outputs": [],
   "source": []
  },
  {
   "cell_type": "code",
   "execution_count": null,
   "id": "a46f397d-4292-40bd-a49d-45da26546195",
   "metadata": {},
   "outputs": [],
   "source": []
  },
  {
   "cell_type": "markdown",
   "id": "ba84d705-156a-4261-abab-e2cc8714604e",
   "metadata": {},
   "source": [
    "### Get data choice specifiq column"
   ]
  },
  {
   "cell_type": "code",
   "execution_count": 28,
   "id": "b37fb27d-e8db-4870-a79c-3fbd9e4ade7c",
   "metadata": {},
   "outputs": [
    {
     "name": "stdout",
     "output_type": "stream",
     "text": [
      "     Id VervotechId ProviderHotelId ProviderFamily                  status\n",
      "0  8571    70500662        13829532          Agoda  Update data successful\n",
      "1  8572    39684057         2453037          Agoda  Update data successful\n"
     ]
    }
   ],
   "source": [
    "import os\n",
    "import json\n",
    "\n",
    "df = get_provider_family_data(table=\"vervotech_hotel_map_new\", engine=engine, provider_family=\"Agoda\")\n",
    "\n",
    "# Select only the desired columns\n",
    "columns_to_include = ['Id', 'VervotechId', 'ProviderHotelId', 'ProviderFamily', 'status']\n",
    "selected_df = df[columns_to_include]\n",
    "print(selected_df)\n"
   ]
  },
  {
   "cell_type": "markdown",
   "id": "8d24cfaf-660a-4e01-a7ca-babb14037bb8",
   "metadata": {},
   "source": [
    "### Get all data specifiq column and key words"
   ]
  },
  {
   "cell_type": "code",
   "execution_count": 1,
   "id": "cd1475dd-c282-473f-86b6-ade3b6c606e2",
   "metadata": {
    "scrolled": true
   },
   "outputs": [
    {
     "ename": "NameError",
     "evalue": "name 'new_group_data' is not defined",
     "output_type": "error",
     "traceback": [
      "\u001b[1;31m---------------------------------------------------------------------------\u001b[0m",
      "\u001b[1;31mNameError\u001b[0m                                 Traceback (most recent call last)",
      "Cell \u001b[1;32mIn[1], line 4\u001b[0m\n\u001b[0;32m      1\u001b[0m \u001b[38;5;28;01mimport\u001b[39;00m \u001b[38;5;21;01mos\u001b[39;00m\n\u001b[0;32m      2\u001b[0m \u001b[38;5;28;01mimport\u001b[39;00m \u001b[38;5;21;01mjson\u001b[39;00m\n\u001b[1;32m----> 4\u001b[0m data \u001b[38;5;241m=\u001b[39m \u001b[43mnew_group_data\u001b[49m(table\u001b[38;5;241m=\u001b[39m\u001b[38;5;124m\"\u001b[39m\u001b[38;5;124mvervotech_hotel_map_new\u001b[39m\u001b[38;5;124m\"\u001b[39m, engine\u001b[38;5;241m=\u001b[39mengine)\n\u001b[0;32m      6\u001b[0m data_lenth \u001b[38;5;241m=\u001b[39m \u001b[38;5;28mlen\u001b[39m(data)\n\u001b[0;32m      7\u001b[0m \u001b[38;5;28;01mfor\u001b[39;00m i \u001b[38;5;129;01min\u001b[39;00m \u001b[38;5;28mrange\u001b[39m(data_lenth):\n",
      "\u001b[1;31mNameError\u001b[0m: name 'new_group_data' is not defined"
     ]
    }
   ],
   "source": [
    "import os\n",
    "import json\n",
    "\n",
    "data = new_group_data(table=\"vervotech_hotel_map_new\", engine=engine)\n",
    "\n",
    "data_lenth = len(data)\n",
    "for i in range(data_lenth):\n",
    "    all_family_data = data.ProviderFamily[i]\n",
    "    df = get_provider_family_data(table=\"vervotech_hotel_map_new\", engine=engine, provider_family=all_family_data)\n",
    "\n",
    "    # Select only the desired columns\n",
    "    columns_to_include = ['Id', 'VervotechId', 'ProviderHotelId', 'ProviderFamily', 'status']\n",
    "    selected_df = df[columns_to_include]\n",
    "    # print(selected_df)\n",
    "\n",
    "    grouped = selected_df.groupby('VervotechId')\n",
    "\n",
    "    for vervotech_id, group in grouped:\n",
    "        data_dict = group.to_dict(orient='records')\n",
    "        print(data_dict)"
   ]
  },
  {
   "cell_type": "markdown",
   "id": "a3684346-2e05-486e-839d-8251645ab5cb",
   "metadata": {},
   "source": [
    "### Convert into dictonary choice specifiq column."
   ]
  },
  {
   "cell_type": "code",
   "execution_count": 49,
   "id": "2f2c08d5-86a7-4a45-a929-d6b3e7014488",
   "metadata": {},
   "outputs": [
    {
     "name": "stdout",
     "output_type": "stream",
     "text": [
      "[{'Id': 8318, 'VervotechId': '39368551', 'ProviderHotelId': '687153', 'ProviderFamily': 'Agoda', 'status': 'Update data successful'}]\n",
      "[{'Id': 8317, 'VervotechId': '39683646', 'ProviderHotelId': '529347', 'ProviderFamily': 'Agoda', 'status': 'Update data successful'}]\n",
      "[{'Id': 8316, 'VervotechId': '39783271', 'ProviderHotelId': '22309930', 'ProviderFamily': 'Agoda', 'status': 'Update data successful'}]\n",
      "[{'Id': 8254, 'VervotechId': '39935372', 'ProviderHotelId': '1265152', 'ProviderFamily': 'Agoda', 'status': 'Skipping data'}, {'Id': 8315, 'VervotechId': '39935372', 'ProviderHotelId': '1265152', 'ProviderFamily': 'Agoda', 'status': 'Skipping data'}]\n"
     ]
    }
   ],
   "source": [
    "grouped = selected_df.groupby('VervotechId')\n",
    "\n",
    "for vervotech_id, group in grouped:\n",
    "    # Convert the group DataFrame to a dictionary and serialize to JSON\n",
    "    data_dict = group.to_dict(orient='records')\n",
    "    print(data_dict)"
   ]
  },
  {
   "cell_type": "markdown",
   "id": "b2152173-2591-4dd7-8b46-ccf903af1693",
   "metadata": {},
   "source": [
    "## Function: Save json format file in local measign."
   ]
  },
  {
   "cell_type": "code",
   "execution_count": null,
   "id": "abc136ad-6c4d-4a4d-9c29-689698996efa",
   "metadata": {},
   "outputs": [],
   "source": []
  },
  {
   "cell_type": "code",
   "execution_count": 51,
   "id": "4f4d6c4d-3b8b-42b6-bb06-eb4a1ff23bf3",
   "metadata": {},
   "outputs": [
    {
     "name": "stdout",
     "output_type": "stream",
     "text": [
      "Saved 39368551.json in ./vervotech_json_files\n",
      "Saved 39683646.json in ./vervotech_json_files\n",
      "Saved 39783271.json in ./vervotech_json_files\n",
      "Saved 39935372.json in ./vervotech_json_files\n"
     ]
    }
   ],
   "source": [
    "import os\n",
    "import json\n",
    "\n",
    "def save_json_files_by_vervotechid(df, folder_path):\n",
    "    # Ensure the folder exists, if not, create it\n",
    "    if not os.path.exists(folder_path):\n",
    "        os.makedirs(folder_path)\n",
    "    \n",
    "    columns_to_include = ['Id', 'VervotechId', 'ProviderHotelId', 'ProviderFamily', 'status']\n",
    "    selected_df = df[columns_to_include]\n",
    "    \n",
    "    grouped = selected_df.groupby('VervotechId')\n",
    "    \n",
    "    for vervotech_id, group in grouped:\n",
    "        data_dict = group.to_dict(orient='records')\n",
    "\n",
    "        file_name = f\"{vervotech_id}.json\"\n",
    "        file_path = os.path.join(folder_path, file_name)\n",
    "        \n",
    "        with open(file_path, 'w') as json_file:\n",
    "            json.dump(data_dict, json_file, indent=4)\n",
    "        print(f\"Saved {file_name} in {folder_path}\")\n",
    "\n",
    "agoda_data = get_provider_family_data(table=\"vervotech_hotel_map_new\", engine=engine, provider_family=\"Agoda\")\n",
    "\n",
    "folder_path = './vervotech_json_files'\n",
    "\n",
    "save_json_files_by_vervotechid(agoda_data, folder_path)\n"
   ]
  },
  {
   "cell_type": "code",
   "execution_count": 1,
   "id": "31aad819-759e-4ca6-85c4-9a5b57c0c65a",
   "metadata": {},
   "outputs": [
    {
     "name": "stdout",
     "output_type": "stream",
     "text": [
      "hello world\n"
     ]
    }
   ],
   "source": [
    "import os\n",
    "import json\n",
    "\n",
    "data = new_group_data(table=\"vervotech_hotel_map_new\", engine=engine)\n",
    "\n",
    "data_lenth = len(data)\n",
    "for i in range(data_lenth):\n",
    "    all_family_data = data.ProviderFamily[i]\n",
    "    df = get_provider_family_data(table=\"vervotech_hotel_map_new\", engine=engine, provider_family=all_family_data)\n",
    "\n",
    "    # Select only the desired columns\n",
    "    columns_to_include = ['Id', 'VervotechId', 'ProviderHotelId', 'ProviderFamily', 'status']\n",
    "    selected_df = df[columns_to_include]\n",
    "    # print(selected_df)\n",
    "\n",
    "    grouped = selected_df.groupby('VervotechId')\n",
    "\n",
    "    for vervotech_id, group in grouped:\n",
    "        data_dict = group.to_dict(orient='records')\n",
    "        "
   ]
  },
  {
   "cell_type": "markdown",
   "id": "bf139dd7-0460-462c-a610-9b495e9d9d9b",
   "metadata": {},
   "source": [
    "## Grouping and Saving Data as JSON by Folder"
   ]
  },
  {
   "cell_type": "markdown",
   "id": "763d3b9b-7ab7-4619-aaca-c257827cd3be",
   "metadata": {},
   "source": [
    "#### Create Folder if Not Exists:\n",
    "##### Use os.makedirs() to ensure a folder is created if it doesn’t exist for each ProviderFamily.\n",
    "\n",
    "#### Filter Desired Columns:\n",
    "##### Use columns_to_include to select specific columns (VervotechId, ProviderHotelId, etc.) before grouping.\n",
    "\n",
    "#### Group Data by VervotechId:\n",
    "##### Group the DataFrame by VervotechId to create a JSON file for each unique ID.\n",
    "\n",
    "#### Save Each Group as JSON:\n",
    "##### Convert each group to a dictionary and save it as a JSON file in the folder named after ProviderFamily.\n",
    "\n",
    "#### Loop Through Each ProviderFamily:\n",
    "##### Loop over each unique ProviderFamily from data, create a folder, and save all corresponding JSON files there."
   ]
  },
  {
   "cell_type": "code",
   "execution_count": null,
   "id": "936c34af-fcd5-4d05-b25b-6499cfb781ff",
   "metadata": {},
   "outputs": [],
   "source": [
    "import os\n",
    "import json\n",
    "\n",
    "def save_json_files_by_vervotechid(df, folder_path):\n",
    "    # Ensure the folder exists, if not, create it\n",
    "    if not os.path.exists(folder_path):\n",
    "        os.makedirs(folder_path)\n",
    "    \n",
    "    columns_to_include = ['VervotechId', 'ProviderHotelId', 'ProviderFamily', 'status']\n",
    "    selected_df = df[columns_to_include]\n",
    "    \n",
    "    grouped = selected_df.groupby('VervotechId')\n",
    "    \n",
    "    for vervotech_id, group in grouped:\n",
    "        data_dict = group.to_dict(orient='records')\n",
    "\n",
    "        file_name = f\"{vervotech_id}.json\"\n",
    "        file_path = os.path.join(folder_path, file_name)\n",
    "        \n",
    "        with open(file_path, 'w') as json_file:\n",
    "            json.dump(data_dict, json_file, indent=4)\n",
    "        print(f\"Saved {file_name} in {folder_path}\")\n",
    "\n",
    "# Main code to create a folder for each ProviderFamily and save JSON files\n",
    "data = new_group_data(table=\"vervotech_hotel_map_new\", engine=engine)\n",
    "\n",
    "data_length = len(data)\n",
    "\n",
    "for i in range(data_length):\n",
    "    # Get the current ProviderFamily\n",
    "    provider_family = data.ProviderFamily[i]\n",
    "    \n",
    "    # Fetch data specific to the ProviderFamily\n",
    "    df = get_provider_family_data(table=\"vervotech_hotel_map_new\", engine=engine, provider_family=provider_family)\n",
    "    \n",
    "    # Create a specific folder path for each ProviderFamily\n",
    "    folder_path = f'./vervotech_json_files/{provider_family}'\n",
    "    \n",
    "    # Save the JSON files in the specific folder\n",
    "    save_json_files_by_vervotechid(df, folder_path)\n"
   ]
  },
  {
   "cell_type": "markdown",
   "id": "8337f34f-b723-45fd-88a8-b9d8caf87b7f",
   "metadata": {},
   "source": [
    "## Function: Return here date and time"
   ]
  },
  {
   "cell_type": "code",
   "execution_count": 45,
   "id": "2db357e1-7664-492c-8af6-315e86997e3b",
   "metadata": {},
   "outputs": [
    {
     "name": "stdout",
     "output_type": "stream",
     "text": [
      "2024-10-25 17:00:10\n"
     ]
    }
   ],
   "source": [
    "def new_data_latest_update_dataTime(table, engine):\n",
    "    query = f\"SELECT MAX(created_at) AS last_update_time FROM {table};\"\n",
    "    df = pd.read_sql(query, engine)\n",
    "    latest_dateTime = df.iloc[0, 0]\n",
    "    return latest_dateTime\n",
    "\n",
    "data = new_data_latest_update_dataTime(table=\"vervotech_hotel_map_new\", engine=engine)\n",
    "print(data)\n"
   ]
  },
  {
   "cell_type": "markdown",
   "id": "4b312b09-7af9-44ac-a54a-de4fffe9c8b2",
   "metadata": {},
   "source": [
    "## Function: Return here only date"
   ]
  },
  {
   "cell_type": "code",
   "execution_count": 50,
   "id": "b6f08c5b-80a9-49b0-bafa-7cd1c06e1d70",
   "metadata": {},
   "outputs": [
    {
     "name": "stdout",
     "output_type": "stream",
     "text": [
      "2024-10-25\n"
     ]
    }
   ],
   "source": [
    "def new_date_latest_update_only_date(table, engine):\n",
    "    query = f\"SELECT MAX(created_at) AS last_update_time FROM {table};\"\n",
    "    df = pd.read_sql(query, engine)\n",
    "    latest_dateTime = df.iloc[0, 0]\n",
    "    latest_date = latest_dateTime.strftime('%Y-%m-%d')\n",
    "    return latest_date\n",
    "\n",
    "data = new_date_latest_update_only_date(table=\"vervotech_hotel_map_new\", engine=engine)\n",
    "print(data)"
   ]
  },
  {
   "cell_type": "code",
   "execution_count": null,
   "id": "984a9287-b94f-4b7c-a089-6c68a41d819b",
   "metadata": {},
   "outputs": [],
   "source": []
  },
  {
   "cell_type": "code",
   "execution_count": null,
   "id": "859ec320-f1b1-42b4-a2b5-555ec8398f76",
   "metadata": {},
   "outputs": [],
   "source": []
  }
 ],
 "metadata": {
  "kernelspec": {
   "display_name": "Python 3 (ipykernel)",
   "language": "python",
   "name": "python3"
  },
  "language_info": {
   "codemirror_mode": {
    "name": "ipython",
    "version": 3
   },
   "file_extension": ".py",
   "mimetype": "text/x-python",
   "name": "python",
   "nbconvert_exporter": "python",
   "pygments_lexer": "ipython3",
   "version": "3.12.0"
  }
 },
 "nbformat": 4,
 "nbformat_minor": 5
}
