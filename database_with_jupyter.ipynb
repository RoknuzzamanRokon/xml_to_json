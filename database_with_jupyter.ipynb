{
 "cells": [
  {
   "cell_type": "markdown",
   "id": "75e67e1f-1cde-44ed-bec8-355cb2208a06",
   "metadata": {},
   "source": [
    "#### Tests version"
   ]
  },
  {
   "cell_type": "code",
   "execution_count": 1,
   "id": "1ebe16a2-a046-4c1b-91fb-32b3b853a006",
   "metadata": {},
   "outputs": [
    {
     "name": "stdout",
     "output_type": "stream",
     "text": [
      "3.12.7 (tags/v3.12.7:0b05ead, Oct  1 2024, 03:06:41) [MSC v.1941 64 bit (AMD64)]\n"
     ]
    }
   ],
   "source": [
    "import sys\n",
    "\n",
    "print(sys.version)"
   ]
  },
  {
   "cell_type": "markdown",
   "id": "32a9cfc1-2b3b-4dad-8285-cb4f50c40454",
   "metadata": {},
   "source": [
    "## Import liberay and set connection with database with database cradensial."
   ]
  },
  {
   "cell_type": "code",
   "execution_count": 21,
   "id": "a515b6c0-8912-4032-82e5-2d7be497ece3",
   "metadata": {},
   "outputs": [],
   "source": [
    "import os\n",
    "from sqlalchemy import create_engine, text, inspect\n",
    "from dotenv import load_dotenv\n",
    "import pandas as pd\n",
    "from sqlalchemy.orm import sessionmaker\n",
    "\n",
    "\n",
    "load_dotenv()\n",
    "\n",
    "# Database connection details\n",
    "db_host = os.getenv('DB_HOST')\n",
    "db_user = os.getenv('DB_USER')\n",
    "db_pass = os.getenv('DB_PASSWORD')\n",
    "db_name = os.getenv('DB_NAME')\n",
    "\n",
    "DATABASE_URL = f\"mysql+pymysql://{db_user}:{db_pass}@{db_host}/{db_name}\"\n",
    "engine = create_engine(DATABASE_URL)\n",
    "Session = sessionmaker(bind=engine)"
   ]
  },
  {
   "cell_type": "code",
   "execution_count": 22,
   "id": "4c07ba01-5ba2-42de-ad04-b5aa3e9d3cc2",
   "metadata": {},
   "outputs": [
    {
     "ename": "OperationalError",
     "evalue": "(1045, \"Access denied for user 'itt_contents'@'203.76.126.193' (using password: YES)\")",
     "output_type": "error",
     "traceback": [
      "\u001b[1;31m----------------------------------------------------------------\u001b[0m",
      "\u001b[1;31mOperationalError\u001b[0m               Traceback (most recent call last)",
      "Cell \u001b[1;32mIn[22], line 4\u001b[0m\n\u001b[0;32m      1\u001b[0m \u001b[38;5;28;01mimport\u001b[39;00m \u001b[38;5;21;01mpymysql\u001b[39;00m\n\u001b[0;32m      3\u001b[0m \u001b[38;5;66;03m# Connect to the database\u001b[39;00m\n\u001b[1;32m----> 4\u001b[0m connection \u001b[38;5;241m=\u001b[39m \u001b[43mpymysql\u001b[49m\u001b[38;5;241;43m.\u001b[39;49m\u001b[43mconnect\u001b[49m\u001b[43m(\u001b[49m\n\u001b[0;32m      5\u001b[0m \u001b[43m    \u001b[49m\u001b[43mhost\u001b[49m\u001b[38;5;241;43m=\u001b[39;49m\u001b[43mos\u001b[49m\u001b[38;5;241;43m.\u001b[39;49m\u001b[43mgetenv\u001b[49m\u001b[43m(\u001b[49m\u001b[38;5;124;43m'\u001b[39;49m\u001b[38;5;124;43mDB_HOST\u001b[39;49m\u001b[38;5;124;43m'\u001b[39;49m\u001b[43m)\u001b[49m\u001b[43m,\u001b[49m\n\u001b[0;32m      6\u001b[0m \u001b[43m    \u001b[49m\u001b[43muser\u001b[49m\u001b[38;5;241;43m=\u001b[39;49m\u001b[43mos\u001b[49m\u001b[38;5;241;43m.\u001b[39;49m\u001b[43mgetenv\u001b[49m\u001b[43m(\u001b[49m\u001b[38;5;124;43m'\u001b[39;49m\u001b[38;5;124;43mDB_USER\u001b[39;49m\u001b[38;5;124;43m'\u001b[39;49m\u001b[43m)\u001b[49m\u001b[43m,\u001b[49m\n\u001b[0;32m      7\u001b[0m \u001b[43m    \u001b[49m\u001b[43mpassword\u001b[49m\u001b[38;5;241;43m=\u001b[39;49m\u001b[43mos\u001b[49m\u001b[38;5;241;43m.\u001b[39;49m\u001b[43mgetenv\u001b[49m\u001b[43m(\u001b[49m\u001b[38;5;124;43m'\u001b[39;49m\u001b[38;5;124;43mDB_PASSWORD\u001b[39;49m\u001b[38;5;124;43m'\u001b[39;49m\u001b[43m)\u001b[49m\u001b[43m,\u001b[49m\n\u001b[0;32m      8\u001b[0m \u001b[43m    \u001b[49m\u001b[43mdatabase\u001b[49m\u001b[38;5;241;43m=\u001b[39;49m\u001b[43mos\u001b[49m\u001b[38;5;241;43m.\u001b[39;49m\u001b[43mgetenv\u001b[49m\u001b[43m(\u001b[49m\u001b[38;5;124;43m'\u001b[39;49m\u001b[38;5;124;43mDB_NAME\u001b[39;49m\u001b[38;5;124;43m'\u001b[39;49m\u001b[43m)\u001b[49m\n\u001b[0;32m      9\u001b[0m \u001b[43m)\u001b[49m\n\u001b[0;32m     11\u001b[0m \u001b[38;5;28;01mwith\u001b[39;00m connection\u001b[38;5;241m.\u001b[39mcursor() \u001b[38;5;28;01mas\u001b[39;00m cursor:\n\u001b[0;32m     12\u001b[0m     \u001b[38;5;66;03m# Example: Show grants\u001b[39;00m\n\u001b[0;32m     13\u001b[0m     cursor\u001b[38;5;241m.\u001b[39mexecute(\u001b[38;5;124m\"\u001b[39m\u001b[38;5;124mSHOW GRANTS FOR CURRENT_USER;\u001b[39m\u001b[38;5;124m\"\u001b[39m)\n",
      "File \u001b[1;32m~\\.virtualenvs\\xml_to_json-RwiJkwGm\\Lib\\site-packages\\pymysql\\connections.py:361\u001b[0m, in \u001b[0;36mConnection.__init__\u001b[1;34m(self, user, password, host, database, unix_socket, port, charset, collation, sql_mode, read_default_file, conv, use_unicode, client_flag, cursorclass, init_command, connect_timeout, read_default_group, autocommit, local_infile, max_allowed_packet, defer_connect, auth_plugin_map, read_timeout, write_timeout, bind_address, binary_prefix, program_name, server_public_key, ssl, ssl_ca, ssl_cert, ssl_disabled, ssl_key, ssl_key_password, ssl_verify_cert, ssl_verify_identity, compress, named_pipe, passwd, db)\u001b[0m\n\u001b[0;32m    359\u001b[0m     \u001b[38;5;28mself\u001b[39m\u001b[38;5;241m.\u001b[39m_sock \u001b[38;5;241m=\u001b[39m \u001b[38;5;28;01mNone\u001b[39;00m\n\u001b[0;32m    360\u001b[0m \u001b[38;5;28;01melse\u001b[39;00m:\n\u001b[1;32m--> 361\u001b[0m     \u001b[38;5;28;43mself\u001b[39;49m\u001b[38;5;241;43m.\u001b[39;49m\u001b[43mconnect\u001b[49m\u001b[43m(\u001b[49m\u001b[43m)\u001b[49m\n",
      "File \u001b[1;32m~\\.virtualenvs\\xml_to_json-RwiJkwGm\\Lib\\site-packages\\pymysql\\connections.py:669\u001b[0m, in \u001b[0;36mConnection.connect\u001b[1;34m(self, sock)\u001b[0m\n\u001b[0;32m    666\u001b[0m \u001b[38;5;28mself\u001b[39m\u001b[38;5;241m.\u001b[39m_next_seq_id \u001b[38;5;241m=\u001b[39m \u001b[38;5;241m0\u001b[39m\n\u001b[0;32m    668\u001b[0m \u001b[38;5;28mself\u001b[39m\u001b[38;5;241m.\u001b[39m_get_server_information()\n\u001b[1;32m--> 669\u001b[0m \u001b[38;5;28;43mself\u001b[39;49m\u001b[38;5;241;43m.\u001b[39;49m\u001b[43m_request_authentication\u001b[49m\u001b[43m(\u001b[49m\u001b[43m)\u001b[49m\n\u001b[0;32m    671\u001b[0m \u001b[38;5;66;03m# Send \"SET NAMES\" query on init for:\u001b[39;00m\n\u001b[0;32m    672\u001b[0m \u001b[38;5;66;03m# - Ensure charaset (and collation) is set to the server.\u001b[39;00m\n\u001b[0;32m    673\u001b[0m \u001b[38;5;66;03m#   - collation_id in handshake packet may be ignored.\u001b[39;00m\n\u001b[1;32m   (...)\u001b[0m\n\u001b[0;32m    682\u001b[0m \u001b[38;5;66;03m# - https://github.com/wagtail/wagtail/issues/9477\u001b[39;00m\n\u001b[0;32m    683\u001b[0m \u001b[38;5;66;03m# - https://zenn.dev/methane/articles/2023-mysql-collation (Japanese)\u001b[39;00m\n\u001b[0;32m    684\u001b[0m \u001b[38;5;28mself\u001b[39m\u001b[38;5;241m.\u001b[39mset_character_set(\u001b[38;5;28mself\u001b[39m\u001b[38;5;241m.\u001b[39mcharset, \u001b[38;5;28mself\u001b[39m\u001b[38;5;241m.\u001b[39mcollation)\n",
      "File \u001b[1;32m~\\.virtualenvs\\xml_to_json-RwiJkwGm\\Lib\\site-packages\\pymysql\\connections.py:957\u001b[0m, in \u001b[0;36mConnection._request_authentication\u001b[1;34m(self)\u001b[0m\n\u001b[0;32m    954\u001b[0m     data \u001b[38;5;241m+\u001b[39m\u001b[38;5;241m=\u001b[39m _lenenc_int(\u001b[38;5;28mlen\u001b[39m(connect_attrs)) \u001b[38;5;241m+\u001b[39m connect_attrs\n\u001b[0;32m    956\u001b[0m \u001b[38;5;28mself\u001b[39m\u001b[38;5;241m.\u001b[39mwrite_packet(data)\n\u001b[1;32m--> 957\u001b[0m auth_packet \u001b[38;5;241m=\u001b[39m \u001b[38;5;28;43mself\u001b[39;49m\u001b[38;5;241;43m.\u001b[39;49m\u001b[43m_read_packet\u001b[49m\u001b[43m(\u001b[49m\u001b[43m)\u001b[49m\n\u001b[0;32m    959\u001b[0m \u001b[38;5;66;03m# if authentication method isn't accepted the first byte\u001b[39;00m\n\u001b[0;32m    960\u001b[0m \u001b[38;5;66;03m# will have the octet 254\u001b[39;00m\n\u001b[0;32m    961\u001b[0m \u001b[38;5;28;01mif\u001b[39;00m auth_packet\u001b[38;5;241m.\u001b[39mis_auth_switch_request():\n",
      "File \u001b[1;32m~\\.virtualenvs\\xml_to_json-RwiJkwGm\\Lib\\site-packages\\pymysql\\connections.py:775\u001b[0m, in \u001b[0;36mConnection._read_packet\u001b[1;34m(self, packet_type)\u001b[0m\n\u001b[0;32m    773\u001b[0m     \u001b[38;5;28;01mif\u001b[39;00m \u001b[38;5;28mself\u001b[39m\u001b[38;5;241m.\u001b[39m_result \u001b[38;5;129;01mis\u001b[39;00m \u001b[38;5;129;01mnot\u001b[39;00m \u001b[38;5;28;01mNone\u001b[39;00m \u001b[38;5;129;01mand\u001b[39;00m \u001b[38;5;28mself\u001b[39m\u001b[38;5;241m.\u001b[39m_result\u001b[38;5;241m.\u001b[39munbuffered_active \u001b[38;5;129;01mis\u001b[39;00m \u001b[38;5;28;01mTrue\u001b[39;00m:\n\u001b[0;32m    774\u001b[0m         \u001b[38;5;28mself\u001b[39m\u001b[38;5;241m.\u001b[39m_result\u001b[38;5;241m.\u001b[39munbuffered_active \u001b[38;5;241m=\u001b[39m \u001b[38;5;28;01mFalse\u001b[39;00m\n\u001b[1;32m--> 775\u001b[0m     \u001b[43mpacket\u001b[49m\u001b[38;5;241;43m.\u001b[39;49m\u001b[43mraise_for_error\u001b[49m\u001b[43m(\u001b[49m\u001b[43m)\u001b[49m\n\u001b[0;32m    776\u001b[0m \u001b[38;5;28;01mreturn\u001b[39;00m packet\n",
      "File \u001b[1;32m~\\.virtualenvs\\xml_to_json-RwiJkwGm\\Lib\\site-packages\\pymysql\\protocol.py:219\u001b[0m, in \u001b[0;36mMysqlPacket.raise_for_error\u001b[1;34m(self)\u001b[0m\n\u001b[0;32m    217\u001b[0m \u001b[38;5;28;01mif\u001b[39;00m DEBUG:\n\u001b[0;32m    218\u001b[0m     \u001b[38;5;28mprint\u001b[39m(\u001b[38;5;124m\"\u001b[39m\u001b[38;5;124merrno =\u001b[39m\u001b[38;5;124m\"\u001b[39m, errno)\n\u001b[1;32m--> 219\u001b[0m \u001b[43merr\u001b[49m\u001b[38;5;241;43m.\u001b[39;49m\u001b[43mraise_mysql_exception\u001b[49m\u001b[43m(\u001b[49m\u001b[38;5;28;43mself\u001b[39;49m\u001b[38;5;241;43m.\u001b[39;49m\u001b[43m_data\u001b[49m\u001b[43m)\u001b[49m\n",
      "File \u001b[1;32m~\\.virtualenvs\\xml_to_json-RwiJkwGm\\Lib\\site-packages\\pymysql\\err.py:150\u001b[0m, in \u001b[0;36mraise_mysql_exception\u001b[1;34m(data)\u001b[0m\n\u001b[0;32m    148\u001b[0m \u001b[38;5;28;01mif\u001b[39;00m errorclass \u001b[38;5;129;01mis\u001b[39;00m \u001b[38;5;28;01mNone\u001b[39;00m:\n\u001b[0;32m    149\u001b[0m     errorclass \u001b[38;5;241m=\u001b[39m InternalError \u001b[38;5;28;01mif\u001b[39;00m errno \u001b[38;5;241m<\u001b[39m \u001b[38;5;241m1000\u001b[39m \u001b[38;5;28;01melse\u001b[39;00m OperationalError\n\u001b[1;32m--> 150\u001b[0m \u001b[38;5;28;01mraise\u001b[39;00m errorclass(errno, errval)\n",
      "\u001b[1;31mOperationalError\u001b[0m: (1045, \"Access denied for user 'itt_contents'@'203.76.126.193' (using password: YES)\")"
     ]
    }
   ],
   "source": [
    "import pymysql\n",
    "\n",
    "# Connect to the database\n",
    "connection = pymysql.connect(\n",
    "    host=os.getenv('DB_HOST'),\n",
    "    user=os.getenv('DB_USER'),\n",
    "    password=os.getenv('DB_PASSWORD'),\n",
    "    database=os.getenv('DB_NAME')\n",
    ")\n",
    "\n",
    "with connection.cursor() as cursor:\n",
    "    # Example: Show grants\n",
    "    cursor.execute(\"SHOW GRANTS FOR CURRENT_USER;\")\n",
    "    for row in cursor.fetchall():\n",
    "        print(row)\n",
    "\n",
    "    # Example: Kill a thread\n",
    "    cursor.execute(\"SHOW PROCESSLIST;\")\n",
    "    for row in cursor.fetchall():\n",
    "        print(row)\n",
    "        # Use KILL if needed\n",
    "        # cursor.execute(f\"KILL {row['Id']};\")\n",
    "\n",
    "connection.close()\n"
   ]
  },
  {
   "cell_type": "markdown",
   "id": "f50f042a-3b35-4f58-a428-d205c93328ca",
   "metadata": {},
   "source": [
    "### Database Connecting test query"
   ]
  },
  {
   "cell_type": "code",
   "execution_count": 4,
   "id": "6db7dae1-a288-4224-ae4d-1e7b3937e06d",
   "metadata": {},
   "outputs": [
    {
     "name": "stdout",
     "output_type": "stream",
     "text": [
      "Connected to database: itt_master_contents\n"
     ]
    }
   ],
   "source": [
    "try:\n",
    "    with engine.connect() as connection:\n",
    "        result = connection.execute(text(\"SELECT DATABASE()\"))\n",
    "        db_name = result.fetchone()[0]\n",
    "        print(f\"Connected to database: {db_name}\")\n",
    "except Exception as e:\n",
    "    print(f\"Error: {e}\")"
   ]
  },
  {
   "cell_type": "markdown",
   "id": "1536f2bd-7c91-41d4-95fe-a73707d3eb88",
   "metadata": {},
   "source": [
    "### Print All table list in the database for check connection."
   ]
  },
  {
   "cell_type": "code",
   "execution_count": 5,
   "id": "21b7f98e-d49e-4b77-9146-425688f286c0",
   "metadata": {},
   "outputs": [
    {
     "name": "stdout",
     "output_type": "stream",
     "text": [
      "Tables in the database 'itt_master_contents':\n",
      "hotel_info_all\n",
      "hotels_info_with_gidestination_code\n",
      "innova_hotels_main\n",
      "vervotech_ProviderFamily\n",
      "vervotech_hotel_list\n",
      "vervotech_hotel_map_new\n",
      "vervotech_hotel_map_update\n",
      "vervotech_mapping\n",
      "vervotech_update_data_info\n"
     ]
    }
   ],
   "source": [
    "try:\n",
    "    inspector = inspect(engine)\n",
    "    tables = inspector.get_table_names()\n",
    "    if tables:\n",
    "        print(f\"Tables in the database '{db_name}':\")\n",
    "        for table in tables:\n",
    "            print(table)\n",
    "    else:\n",
    "        print(f\"No tables found in the database '{db_name}'\")\n",
    "except Exception as e:\n",
    "    print(f\"Error: {e}\")"
   ]
  },
  {
   "cell_type": "code",
   "execution_count": 17,
   "id": "2c42c4e1-519b-49e9-8c7c-2dbf8dcb8c16",
   "metadata": {},
   "outputs": [
    {
     "name": "stderr",
     "output_type": "stream",
     "text": [
      "2024-11-16 10:58:00,456 - An error occurred: (pymysql.err.OperationalError) (1205, 'Lock wait timeout exceeded; try restarting transaction')\n",
      "[SQL: \n",
      "                    UPDATE hotel_info_all AS h\n",
      "                    JOIN hotels_info_with_gidestination_code AS g\n",
      "                    ON h.GiDestinationId = g.GiDestinationId\n",
      "                    SET h.CountryCode = g.CountryCode\n",
      "                    WHERE g.CountryCode IS NOT NULL\n",
      "                    AND h.GiDestinationId IN ('100005','100011','100012','100022','100163','100174','100185','100187','100284','100287','100335','100428','100465','100477','100498','100508','100509','100559','100567','100571','100600','100637','100660','100664','100672','100692','100775','100776','100796','100823','100824','100833','100848','100852','100974','101100','101101','101183','101220','101229','101331','101353','10136','10139','10140','101412','101416','10142','101433','10144','10145','10146','10148','101485','101488','10150','10153','10154','10155','10157','10158','10159','101595','10160','101605','101608','10161','10162','101621','101622','101625','101629','10163','101637','10164','101644','10165','10166','10167','10169','10170','10171','10172','101735','10175','10176','10177','101772','10179','10180','101803','10181','10182','10183','62363','62246','62255','62345','62399','62436');\n",
      "                ]\n",
      "(Background on this error at: https://sqlalche.me/e/20/e3q8)\n",
      "2024-11-16 10:58:00,456 - Update process completed.\n"
     ]
    }
   ],
   "source": [
    "from sqlalchemy import create_engine, text\n",
    "from sqlalchemy.orm import sessionmaker\n",
    "import logging\n",
    "\n",
    "# Setup logging\n",
    "logging.basicConfig(level=logging.INFO, format=\"%(asctime)s - %(message)s\")\n",
    "\n",
    "DATABASE_URL = f\"mysql+pymysql://{db_user}:{db_pass}@{db_host}/{db_name}\"\n",
    "engine = create_engine(DATABASE_URL)\n",
    "Session = sessionmaker(bind=engine)\n",
    "\n",
    "def update_country_code_in_batches(batch_size=100):\n",
    "    \"\"\"\n",
    "    Updates the CountryCode column in the 'hotel_info_all' table in batches\n",
    "    to avoid lock timeout issues.\n",
    "    \"\"\"\n",
    "    try:\n",
    "        with Session() as session:\n",
    "            offset = 0\n",
    "            while True:\n",
    "                # Fetch a batch of GiDestinationId to update\n",
    "                batch_query = text(f\"\"\"\n",
    "                    SELECT DISTINCT h.GiDestinationId\n",
    "                    FROM hotel_info_all AS h\n",
    "                    JOIN hotels_info_with_gidestination_code AS g\n",
    "                    ON h.GiDestinationId = g.GiDestinationId\n",
    "                    WHERE g.CountryCode IS NOT NULL\n",
    "                    LIMIT {batch_size} OFFSET {offset};\n",
    "                \"\"\")\n",
    "                results = session.execute(batch_query).fetchall()\n",
    "                \n",
    "                # If no more results, break the loop\n",
    "                if not results:\n",
    "                    logging.info(\"No more rows to update. Batch processing complete.\")\n",
    "                    break\n",
    "                \n",
    "                # Extract GiDestinationId values for the batch\n",
    "                gi_destination_ids = [row[0] for row in results]\n",
    "                gi_destination_ids_placeholder = \",\".join(f\"'{id_}'\" for id_ in gi_destination_ids)\n",
    "                \n",
    "                # Update query for the current batch\n",
    "                update_query = text(f\"\"\"\n",
    "                    UPDATE hotel_info_all AS h\n",
    "                    JOIN hotels_info_with_gidestination_code AS g\n",
    "                    ON h.GiDestinationId = g.GiDestinationId\n",
    "                    SET h.CountryCode = g.CountryCode\n",
    "                    WHERE g.CountryCode IS NOT NULL\n",
    "                    AND h.GiDestinationId IN ({gi_destination_ids_placeholder});\n",
    "                \"\"\")\n",
    "                session.execute(update_query)\n",
    "                session.commit()\n",
    "\n",
    "                logging.info(f\"Batch of {len(gi_destination_ids)} rows updated successfully.\")\n",
    "                offset += batch_size\n",
    "\n",
    "    except Exception as e:\n",
    "        logging.error(f\"An error occurred: {e}\")\n",
    "    finally:\n",
    "        logging.info(\"Update process completed.\")\n",
    "\n",
    "# Call the batch update function\n",
    "update_country_code_in_batches(batch_size=100)\n"
   ]
  },
  {
   "cell_type": "code",
   "execution_count": 8,
   "id": "60fdf13d-eb0a-4857-b7a1-7eb7b44ce89b",
   "metadata": {},
   "outputs": [
    {
     "ename": "OperationalError",
     "evalue": "(pymysql.err.OperationalError) (1205, 'Lock wait timeout exceeded; try restarting transaction')\n[SQL: \n                    UPDATE hotel_info_all AS h1\n                    JOIN hotels_info_with_gidestination_code AS h2\n                    ON h1.GiDestinationId = h2.GiDestinationId\n                    SET h1.CountryCode = h2.CountryCode\n                    WHERE h1.GiDestinationId IN %(gi_ids)s\n                    ]\n[parameters: {'gi_ids': ('10000', '10000', '10000', '10000', '10000', '10000', '10000', '10000', '10000', '10000', '10000', '10000', '10000', '10000', '10000', '10000', '1000 ... (98343 characters truncated) ... 172', '10172', '10172', '10172', '10172', '10172', '101735', '101735', '101735', '101735', '101735', '101738', '101738', '101742', '101742', '101742')}]\n(Background on this error at: https://sqlalche.me/e/20/e3q8)",
     "output_type": "error",
     "traceback": [
      "\u001b[1;31m----------------------------------------------------------\u001b[0m",
      "\u001b[1;31mOperationalError\u001b[0m         Traceback (most recent call last)",
      "File \u001b[1;32m~\\.virtualenvs\\xml_to_json-RwiJkwGm\\Lib\\site-packages\\sqlalchemy\\engine\\base.py:1967\u001b[0m, in \u001b[0;36mConnection._exec_single_context\u001b[1;34m(self, dialect, context, statement, parameters)\u001b[0m\n\u001b[0;32m   1966\u001b[0m     \u001b[38;5;28;01mif\u001b[39;00m \u001b[38;5;129;01mnot\u001b[39;00m evt_handled:\n\u001b[1;32m-> 1967\u001b[0m         \u001b[38;5;28;43mself\u001b[39;49m\u001b[38;5;241;43m.\u001b[39;49m\u001b[43mdialect\u001b[49m\u001b[38;5;241;43m.\u001b[39;49m\u001b[43mdo_execute\u001b[49m\u001b[43m(\u001b[49m\n\u001b[0;32m   1968\u001b[0m \u001b[43m            \u001b[49m\u001b[43mcursor\u001b[49m\u001b[43m,\u001b[49m\u001b[43m \u001b[49m\u001b[43mstr_statement\u001b[49m\u001b[43m,\u001b[49m\u001b[43m \u001b[49m\u001b[43meffective_parameters\u001b[49m\u001b[43m,\u001b[49m\u001b[43m \u001b[49m\u001b[43mcontext\u001b[49m\n\u001b[0;32m   1969\u001b[0m \u001b[43m        \u001b[49m\u001b[43m)\u001b[49m\n\u001b[0;32m   1971\u001b[0m \u001b[38;5;28;01mif\u001b[39;00m \u001b[38;5;28mself\u001b[39m\u001b[38;5;241m.\u001b[39m_has_events \u001b[38;5;129;01mor\u001b[39;00m \u001b[38;5;28mself\u001b[39m\u001b[38;5;241m.\u001b[39mengine\u001b[38;5;241m.\u001b[39m_has_events:\n",
      "File \u001b[1;32m~\\.virtualenvs\\xml_to_json-RwiJkwGm\\Lib\\site-packages\\sqlalchemy\\engine\\default.py:941\u001b[0m, in \u001b[0;36mDefaultDialect.do_execute\u001b[1;34m(self, cursor, statement, parameters, context)\u001b[0m\n\u001b[0;32m    940\u001b[0m \u001b[38;5;28;01mdef\u001b[39;00m \u001b[38;5;21mdo_execute\u001b[39m(\u001b[38;5;28mself\u001b[39m, cursor, statement, parameters, context\u001b[38;5;241m=\u001b[39m\u001b[38;5;28;01mNone\u001b[39;00m):\n\u001b[1;32m--> 941\u001b[0m     \u001b[43mcursor\u001b[49m\u001b[38;5;241;43m.\u001b[39;49m\u001b[43mexecute\u001b[49m\u001b[43m(\u001b[49m\u001b[43mstatement\u001b[49m\u001b[43m,\u001b[49m\u001b[43m \u001b[49m\u001b[43mparameters\u001b[49m\u001b[43m)\u001b[49m\n",
      "File \u001b[1;32m~\\.virtualenvs\\xml_to_json-RwiJkwGm\\Lib\\site-packages\\pymysql\\cursors.py:153\u001b[0m, in \u001b[0;36mCursor.execute\u001b[1;34m(self, query, args)\u001b[0m\n\u001b[0;32m    151\u001b[0m query \u001b[38;5;241m=\u001b[39m \u001b[38;5;28mself\u001b[39m\u001b[38;5;241m.\u001b[39mmogrify(query, args)\n\u001b[1;32m--> 153\u001b[0m result \u001b[38;5;241m=\u001b[39m \u001b[38;5;28;43mself\u001b[39;49m\u001b[38;5;241;43m.\u001b[39;49m\u001b[43m_query\u001b[49m\u001b[43m(\u001b[49m\u001b[43mquery\u001b[49m\u001b[43m)\u001b[49m\n\u001b[0;32m    154\u001b[0m \u001b[38;5;28mself\u001b[39m\u001b[38;5;241m.\u001b[39m_executed \u001b[38;5;241m=\u001b[39m query\n",
      "File \u001b[1;32m~\\.virtualenvs\\xml_to_json-RwiJkwGm\\Lib\\site-packages\\pymysql\\cursors.py:322\u001b[0m, in \u001b[0;36mCursor._query\u001b[1;34m(self, q)\u001b[0m\n\u001b[0;32m    321\u001b[0m \u001b[38;5;28mself\u001b[39m\u001b[38;5;241m.\u001b[39m_clear_result()\n\u001b[1;32m--> 322\u001b[0m \u001b[43mconn\u001b[49m\u001b[38;5;241;43m.\u001b[39;49m\u001b[43mquery\u001b[49m\u001b[43m(\u001b[49m\u001b[43mq\u001b[49m\u001b[43m)\u001b[49m\n\u001b[0;32m    323\u001b[0m \u001b[38;5;28mself\u001b[39m\u001b[38;5;241m.\u001b[39m_do_get_result()\n",
      "File \u001b[1;32m~\\.virtualenvs\\xml_to_json-RwiJkwGm\\Lib\\site-packages\\pymysql\\connections.py:563\u001b[0m, in \u001b[0;36mConnection.query\u001b[1;34m(self, sql, unbuffered)\u001b[0m\n\u001b[0;32m    562\u001b[0m \u001b[38;5;28mself\u001b[39m\u001b[38;5;241m.\u001b[39m_execute_command(COMMAND\u001b[38;5;241m.\u001b[39mCOM_QUERY, sql)\n\u001b[1;32m--> 563\u001b[0m \u001b[38;5;28mself\u001b[39m\u001b[38;5;241m.\u001b[39m_affected_rows \u001b[38;5;241m=\u001b[39m \u001b[38;5;28;43mself\u001b[39;49m\u001b[38;5;241;43m.\u001b[39;49m\u001b[43m_read_query_result\u001b[49m\u001b[43m(\u001b[49m\u001b[43munbuffered\u001b[49m\u001b[38;5;241;43m=\u001b[39;49m\u001b[43munbuffered\u001b[49m\u001b[43m)\u001b[49m\n\u001b[0;32m    564\u001b[0m \u001b[38;5;28;01mreturn\u001b[39;00m \u001b[38;5;28mself\u001b[39m\u001b[38;5;241m.\u001b[39m_affected_rows\n",
      "File \u001b[1;32m~\\.virtualenvs\\xml_to_json-RwiJkwGm\\Lib\\site-packages\\pymysql\\connections.py:825\u001b[0m, in \u001b[0;36mConnection._read_query_result\u001b[1;34m(self, unbuffered)\u001b[0m\n\u001b[0;32m    824\u001b[0m     result \u001b[38;5;241m=\u001b[39m MySQLResult(\u001b[38;5;28mself\u001b[39m)\n\u001b[1;32m--> 825\u001b[0m     \u001b[43mresult\u001b[49m\u001b[38;5;241;43m.\u001b[39;49m\u001b[43mread\u001b[49m\u001b[43m(\u001b[49m\u001b[43m)\u001b[49m\n\u001b[0;32m    826\u001b[0m \u001b[38;5;28mself\u001b[39m\u001b[38;5;241m.\u001b[39m_result \u001b[38;5;241m=\u001b[39m result\n",
      "File \u001b[1;32m~\\.virtualenvs\\xml_to_json-RwiJkwGm\\Lib\\site-packages\\pymysql\\connections.py:1199\u001b[0m, in \u001b[0;36mMySQLResult.read\u001b[1;34m(self)\u001b[0m\n\u001b[0;32m   1198\u001b[0m \u001b[38;5;28;01mtry\u001b[39;00m:\n\u001b[1;32m-> 1199\u001b[0m     first_packet \u001b[38;5;241m=\u001b[39m \u001b[38;5;28;43mself\u001b[39;49m\u001b[38;5;241;43m.\u001b[39;49m\u001b[43mconnection\u001b[49m\u001b[38;5;241;43m.\u001b[39;49m\u001b[43m_read_packet\u001b[49m\u001b[43m(\u001b[49m\u001b[43m)\u001b[49m\n\u001b[0;32m   1201\u001b[0m     \u001b[38;5;28;01mif\u001b[39;00m first_packet\u001b[38;5;241m.\u001b[39mis_ok_packet():\n",
      "File \u001b[1;32m~\\.virtualenvs\\xml_to_json-RwiJkwGm\\Lib\\site-packages\\pymysql\\connections.py:775\u001b[0m, in \u001b[0;36mConnection._read_packet\u001b[1;34m(self, packet_type)\u001b[0m\n\u001b[0;32m    774\u001b[0m         \u001b[38;5;28mself\u001b[39m\u001b[38;5;241m.\u001b[39m_result\u001b[38;5;241m.\u001b[39munbuffered_active \u001b[38;5;241m=\u001b[39m \u001b[38;5;28;01mFalse\u001b[39;00m\n\u001b[1;32m--> 775\u001b[0m     \u001b[43mpacket\u001b[49m\u001b[38;5;241;43m.\u001b[39;49m\u001b[43mraise_for_error\u001b[49m\u001b[43m(\u001b[49m\u001b[43m)\u001b[49m\n\u001b[0;32m    776\u001b[0m \u001b[38;5;28;01mreturn\u001b[39;00m packet\n",
      "File \u001b[1;32m~\\.virtualenvs\\xml_to_json-RwiJkwGm\\Lib\\site-packages\\pymysql\\protocol.py:219\u001b[0m, in \u001b[0;36mMysqlPacket.raise_for_error\u001b[1;34m(self)\u001b[0m\n\u001b[0;32m    218\u001b[0m     \u001b[38;5;28mprint\u001b[39m(\u001b[38;5;124m\"\u001b[39m\u001b[38;5;124merrno =\u001b[39m\u001b[38;5;124m\"\u001b[39m, errno)\n\u001b[1;32m--> 219\u001b[0m \u001b[43merr\u001b[49m\u001b[38;5;241;43m.\u001b[39;49m\u001b[43mraise_mysql_exception\u001b[49m\u001b[43m(\u001b[49m\u001b[38;5;28;43mself\u001b[39;49m\u001b[38;5;241;43m.\u001b[39;49m\u001b[43m_data\u001b[49m\u001b[43m)\u001b[49m\n",
      "File \u001b[1;32m~\\.virtualenvs\\xml_to_json-RwiJkwGm\\Lib\\site-packages\\pymysql\\err.py:150\u001b[0m, in \u001b[0;36mraise_mysql_exception\u001b[1;34m(data)\u001b[0m\n\u001b[0;32m    149\u001b[0m     errorclass \u001b[38;5;241m=\u001b[39m InternalError \u001b[38;5;28;01mif\u001b[39;00m errno \u001b[38;5;241m<\u001b[39m \u001b[38;5;241m1000\u001b[39m \u001b[38;5;28;01melse\u001b[39;00m OperationalError\n\u001b[1;32m--> 150\u001b[0m \u001b[38;5;28;01mraise\u001b[39;00m errorclass(errno, errval)\n",
      "\u001b[1;31mOperationalError\u001b[0m: (1205, 'Lock wait timeout exceeded; try restarting transaction')",
      "\nThe above exception was the direct cause of the following exception:\n",
      "\u001b[1;31mOperationalError\u001b[0m         Traceback (most recent call last)",
      "Cell \u001b[1;32mIn[8], line 47\u001b[0m\n\u001b[0;32m     44\u001b[0m             start \u001b[38;5;241m+\u001b[39m\u001b[38;5;241m=\u001b[39m batch_size\n\u001b[0;32m     46\u001b[0m \u001b[38;5;66;03m# Call the function\u001b[39;00m\n\u001b[1;32m---> 47\u001b[0m \u001b[43mupdate_country_code\u001b[49m\u001b[43m(\u001b[49m\u001b[43m)\u001b[49m\n",
      "Cell \u001b[1;32mIn[8], line 28\u001b[0m, in \u001b[0;36mupdate_country_code\u001b[1;34m(batch_size)\u001b[0m\n\u001b[0;32m     25\u001b[0m gi_ids \u001b[38;5;241m=\u001b[39m [row[\u001b[38;5;241m0\u001b[39m] \u001b[38;5;28;01mfor\u001b[39;00m row \u001b[38;5;129;01min\u001b[39;00m gi_ids]\n\u001b[0;32m     27\u001b[0m \u001b[38;5;66;03m# Perform the batch update\u001b[39;00m\n\u001b[1;32m---> 28\u001b[0m \u001b[43msession\u001b[49m\u001b[38;5;241;43m.\u001b[39;49m\u001b[43mexecute\u001b[49m\u001b[43m(\u001b[49m\n\u001b[0;32m     29\u001b[0m \u001b[43m    \u001b[49m\u001b[43mtext\u001b[49m\u001b[43m(\u001b[49m\n\u001b[0;32m     30\u001b[0m \u001b[38;5;250;43m        \u001b[39;49m\u001b[38;5;124;43;03m\"\"\"\u001b[39;49;00m\n\u001b[0;32m     31\u001b[0m \u001b[38;5;124;43;03m        UPDATE hotel_info_all AS h1\u001b[39;49;00m\n\u001b[0;32m     32\u001b[0m \u001b[38;5;124;43;03m        JOIN hotels_info_with_gidestination_code AS h2\u001b[39;49;00m\n\u001b[0;32m     33\u001b[0m \u001b[38;5;124;43;03m        ON h1.GiDestinationId = h2.GiDestinationId\u001b[39;49;00m\n\u001b[0;32m     34\u001b[0m \u001b[38;5;124;43;03m        SET h1.CountryCode = h2.CountryCode\u001b[39;49;00m\n\u001b[0;32m     35\u001b[0m \u001b[38;5;124;43;03m        WHERE h1.GiDestinationId IN :gi_ids\u001b[39;49;00m\n\u001b[0;32m     36\u001b[0m \u001b[38;5;124;43;03m        \"\"\"\u001b[39;49;00m\n\u001b[0;32m     37\u001b[0m \u001b[43m    \u001b[49m\u001b[43m)\u001b[49m\u001b[43m,\u001b[49m\n\u001b[0;32m     38\u001b[0m \u001b[43m    \u001b[49m\u001b[43m{\u001b[49m\u001b[38;5;124;43m\"\u001b[39;49m\u001b[38;5;124;43mgi_ids\u001b[39;49m\u001b[38;5;124;43m\"\u001b[39;49m\u001b[43m:\u001b[49m\u001b[43m \u001b[49m\u001b[38;5;28;43mtuple\u001b[39;49m\u001b[43m(\u001b[49m\u001b[43mgi_ids\u001b[49m\u001b[43m)\u001b[49m\u001b[43m}\u001b[49m\u001b[43m,\u001b[49m\n\u001b[0;32m     39\u001b[0m \u001b[43m\u001b[49m\u001b[43m)\u001b[49m\n\u001b[0;32m     41\u001b[0m session\u001b[38;5;241m.\u001b[39mcommit()\n\u001b[0;32m     42\u001b[0m \u001b[38;5;28mprint\u001b[39m(\u001b[38;5;124mf\u001b[39m\u001b[38;5;124m\"\u001b[39m\u001b[38;5;124mSuccessfull: \u001b[39m\u001b[38;5;132;01m{\u001b[39;00mrow\u001b[38;5;132;01m}\u001b[39;00m\u001b[38;5;124m\"\u001b[39m)\n",
      "File \u001b[1;32m~\\.virtualenvs\\xml_to_json-RwiJkwGm\\Lib\\site-packages\\sqlalchemy\\orm\\session.py:2362\u001b[0m, in \u001b[0;36mSession.execute\u001b[1;34m(self, statement, params, execution_options, bind_arguments, _parent_execute_state, _add_event)\u001b[0m\n\u001b[0;32m   2301\u001b[0m \u001b[38;5;28;01mdef\u001b[39;00m \u001b[38;5;21mexecute\u001b[39m(\n\u001b[0;32m   2302\u001b[0m     \u001b[38;5;28mself\u001b[39m,\n\u001b[0;32m   2303\u001b[0m     statement: Executable,\n\u001b[1;32m   (...)\u001b[0m\n\u001b[0;32m   2309\u001b[0m     _add_event: Optional[Any] \u001b[38;5;241m=\u001b[39m \u001b[38;5;28;01mNone\u001b[39;00m,\n\u001b[0;32m   2310\u001b[0m ) \u001b[38;5;241m-\u001b[39m\u001b[38;5;241m>\u001b[39m Result[Any]:\n\u001b[0;32m   2311\u001b[0m \u001b[38;5;250m    \u001b[39m\u001b[38;5;124mr\u001b[39m\u001b[38;5;124;03m\"\"\"Execute a SQL expression construct.\u001b[39;00m\n\u001b[0;32m   2312\u001b[0m \n\u001b[0;32m   2313\u001b[0m \u001b[38;5;124;03m    Returns a :class:`_engine.Result` object representing\u001b[39;00m\n\u001b[1;32m   (...)\u001b[0m\n\u001b[0;32m   2360\u001b[0m \n\u001b[0;32m   2361\u001b[0m \u001b[38;5;124;03m    \"\"\"\u001b[39;00m\n\u001b[1;32m-> 2362\u001b[0m     \u001b[38;5;28;01mreturn\u001b[39;00m \u001b[38;5;28;43mself\u001b[39;49m\u001b[38;5;241;43m.\u001b[39;49m\u001b[43m_execute_internal\u001b[49m\u001b[43m(\u001b[49m\n\u001b[0;32m   2363\u001b[0m \u001b[43m        \u001b[49m\u001b[43mstatement\u001b[49m\u001b[43m,\u001b[49m\n\u001b[0;32m   2364\u001b[0m \u001b[43m        \u001b[49m\u001b[43mparams\u001b[49m\u001b[43m,\u001b[49m\n\u001b[0;32m   2365\u001b[0m \u001b[43m        \u001b[49m\u001b[43mexecution_options\u001b[49m\u001b[38;5;241;43m=\u001b[39;49m\u001b[43mexecution_options\u001b[49m\u001b[43m,\u001b[49m\n\u001b[0;32m   2366\u001b[0m \u001b[43m        \u001b[49m\u001b[43mbind_arguments\u001b[49m\u001b[38;5;241;43m=\u001b[39;49m\u001b[43mbind_arguments\u001b[49m\u001b[43m,\u001b[49m\n\u001b[0;32m   2367\u001b[0m \u001b[43m        \u001b[49m\u001b[43m_parent_execute_state\u001b[49m\u001b[38;5;241;43m=\u001b[39;49m\u001b[43m_parent_execute_state\u001b[49m\u001b[43m,\u001b[49m\n\u001b[0;32m   2368\u001b[0m \u001b[43m        \u001b[49m\u001b[43m_add_event\u001b[49m\u001b[38;5;241;43m=\u001b[39;49m\u001b[43m_add_event\u001b[49m\u001b[43m,\u001b[49m\n\u001b[0;32m   2369\u001b[0m \u001b[43m    \u001b[49m\u001b[43m)\u001b[49m\n",
      "File \u001b[1;32m~\\.virtualenvs\\xml_to_json-RwiJkwGm\\Lib\\site-packages\\sqlalchemy\\orm\\session.py:2256\u001b[0m, in \u001b[0;36mSession._execute_internal\u001b[1;34m(self, statement, params, execution_options, bind_arguments, _parent_execute_state, _add_event, _scalar_result)\u001b[0m\n\u001b[0;32m   2247\u001b[0m     result: Result[Any] \u001b[38;5;241m=\u001b[39m compile_state_cls\u001b[38;5;241m.\u001b[39morm_execute_statement(\n\u001b[0;32m   2248\u001b[0m         \u001b[38;5;28mself\u001b[39m,\n\u001b[0;32m   2249\u001b[0m         statement,\n\u001b[1;32m   (...)\u001b[0m\n\u001b[0;32m   2253\u001b[0m         conn,\n\u001b[0;32m   2254\u001b[0m     )\n\u001b[0;32m   2255\u001b[0m \u001b[38;5;28;01melse\u001b[39;00m:\n\u001b[1;32m-> 2256\u001b[0m     result \u001b[38;5;241m=\u001b[39m \u001b[43mconn\u001b[49m\u001b[38;5;241;43m.\u001b[39;49m\u001b[43mexecute\u001b[49m\u001b[43m(\u001b[49m\n\u001b[0;32m   2257\u001b[0m \u001b[43m        \u001b[49m\u001b[43mstatement\u001b[49m\u001b[43m,\u001b[49m\u001b[43m \u001b[49m\u001b[43mparams\u001b[49m\u001b[43m \u001b[49m\u001b[38;5;129;43;01mor\u001b[39;49;00m\u001b[43m \u001b[49m\u001b[43m{\u001b[49m\u001b[43m}\u001b[49m\u001b[43m,\u001b[49m\u001b[43m \u001b[49m\u001b[43mexecution_options\u001b[49m\u001b[38;5;241;43m=\u001b[39;49m\u001b[43mexecution_options\u001b[49m\n\u001b[0;32m   2258\u001b[0m \u001b[43m    \u001b[49m\u001b[43m)\u001b[49m\n\u001b[0;32m   2260\u001b[0m \u001b[38;5;28;01mif\u001b[39;00m _scalar_result:\n\u001b[0;32m   2261\u001b[0m     \u001b[38;5;28;01mreturn\u001b[39;00m result\u001b[38;5;241m.\u001b[39mscalar()\n",
      "File \u001b[1;32m~\\.virtualenvs\\xml_to_json-RwiJkwGm\\Lib\\site-packages\\sqlalchemy\\engine\\base.py:1418\u001b[0m, in \u001b[0;36mConnection.execute\u001b[1;34m(self, statement, parameters, execution_options)\u001b[0m\n\u001b[0;32m   1416\u001b[0m     \u001b[38;5;28;01mraise\u001b[39;00m exc\u001b[38;5;241m.\u001b[39mObjectNotExecutableError(statement) \u001b[38;5;28;01mfrom\u001b[39;00m \u001b[38;5;21;01merr\u001b[39;00m\n\u001b[0;32m   1417\u001b[0m \u001b[38;5;28;01melse\u001b[39;00m:\n\u001b[1;32m-> 1418\u001b[0m     \u001b[38;5;28;01mreturn\u001b[39;00m \u001b[43mmeth\u001b[49m\u001b[43m(\u001b[49m\n\u001b[0;32m   1419\u001b[0m \u001b[43m        \u001b[49m\u001b[38;5;28;43mself\u001b[39;49m\u001b[43m,\u001b[49m\n\u001b[0;32m   1420\u001b[0m \u001b[43m        \u001b[49m\u001b[43mdistilled_parameters\u001b[49m\u001b[43m,\u001b[49m\n\u001b[0;32m   1421\u001b[0m \u001b[43m        \u001b[49m\u001b[43mexecution_options\u001b[49m\u001b[43m \u001b[49m\u001b[38;5;129;43;01mor\u001b[39;49;00m\u001b[43m \u001b[49m\u001b[43mNO_OPTIONS\u001b[49m\u001b[43m,\u001b[49m\n\u001b[0;32m   1422\u001b[0m \u001b[43m    \u001b[49m\u001b[43m)\u001b[49m\n",
      "File \u001b[1;32m~\\.virtualenvs\\xml_to_json-RwiJkwGm\\Lib\\site-packages\\sqlalchemy\\sql\\elements.py:515\u001b[0m, in \u001b[0;36mClauseElement._execute_on_connection\u001b[1;34m(self, connection, distilled_params, execution_options)\u001b[0m\n\u001b[0;32m    513\u001b[0m     \u001b[38;5;28;01mif\u001b[39;00m TYPE_CHECKING:\n\u001b[0;32m    514\u001b[0m         \u001b[38;5;28;01massert\u001b[39;00m \u001b[38;5;28misinstance\u001b[39m(\u001b[38;5;28mself\u001b[39m, Executable)\n\u001b[1;32m--> 515\u001b[0m     \u001b[38;5;28;01mreturn\u001b[39;00m \u001b[43mconnection\u001b[49m\u001b[38;5;241;43m.\u001b[39;49m\u001b[43m_execute_clauseelement\u001b[49m\u001b[43m(\u001b[49m\n\u001b[0;32m    516\u001b[0m \u001b[43m        \u001b[49m\u001b[38;5;28;43mself\u001b[39;49m\u001b[43m,\u001b[49m\u001b[43m \u001b[49m\u001b[43mdistilled_params\u001b[49m\u001b[43m,\u001b[49m\u001b[43m \u001b[49m\u001b[43mexecution_options\u001b[49m\n\u001b[0;32m    517\u001b[0m \u001b[43m    \u001b[49m\u001b[43m)\u001b[49m\n\u001b[0;32m    518\u001b[0m \u001b[38;5;28;01melse\u001b[39;00m:\n\u001b[0;32m    519\u001b[0m     \u001b[38;5;28;01mraise\u001b[39;00m exc\u001b[38;5;241m.\u001b[39mObjectNotExecutableError(\u001b[38;5;28mself\u001b[39m)\n",
      "File \u001b[1;32m~\\.virtualenvs\\xml_to_json-RwiJkwGm\\Lib\\site-packages\\sqlalchemy\\engine\\base.py:1640\u001b[0m, in \u001b[0;36mConnection._execute_clauseelement\u001b[1;34m(self, elem, distilled_parameters, execution_options)\u001b[0m\n\u001b[0;32m   1628\u001b[0m compiled_cache: Optional[CompiledCacheType] \u001b[38;5;241m=\u001b[39m execution_options\u001b[38;5;241m.\u001b[39mget(\n\u001b[0;32m   1629\u001b[0m     \u001b[38;5;124m\"\u001b[39m\u001b[38;5;124mcompiled_cache\u001b[39m\u001b[38;5;124m\"\u001b[39m, \u001b[38;5;28mself\u001b[39m\u001b[38;5;241m.\u001b[39mengine\u001b[38;5;241m.\u001b[39m_compiled_cache\n\u001b[0;32m   1630\u001b[0m )\n\u001b[0;32m   1632\u001b[0m compiled_sql, extracted_params, cache_hit \u001b[38;5;241m=\u001b[39m elem\u001b[38;5;241m.\u001b[39m_compile_w_cache(\n\u001b[0;32m   1633\u001b[0m     dialect\u001b[38;5;241m=\u001b[39mdialect,\n\u001b[0;32m   1634\u001b[0m     compiled_cache\u001b[38;5;241m=\u001b[39mcompiled_cache,\n\u001b[1;32m   (...)\u001b[0m\n\u001b[0;32m   1638\u001b[0m     linting\u001b[38;5;241m=\u001b[39m\u001b[38;5;28mself\u001b[39m\u001b[38;5;241m.\u001b[39mdialect\u001b[38;5;241m.\u001b[39mcompiler_linting \u001b[38;5;241m|\u001b[39m compiler\u001b[38;5;241m.\u001b[39mWARN_LINTING,\n\u001b[0;32m   1639\u001b[0m )\n\u001b[1;32m-> 1640\u001b[0m ret \u001b[38;5;241m=\u001b[39m \u001b[38;5;28;43mself\u001b[39;49m\u001b[38;5;241;43m.\u001b[39;49m\u001b[43m_execute_context\u001b[49m\u001b[43m(\u001b[49m\n\u001b[0;32m   1641\u001b[0m \u001b[43m    \u001b[49m\u001b[43mdialect\u001b[49m\u001b[43m,\u001b[49m\n\u001b[0;32m   1642\u001b[0m \u001b[43m    \u001b[49m\u001b[43mdialect\u001b[49m\u001b[38;5;241;43m.\u001b[39;49m\u001b[43mexecution_ctx_cls\u001b[49m\u001b[38;5;241;43m.\u001b[39;49m\u001b[43m_init_compiled\u001b[49m\u001b[43m,\u001b[49m\n\u001b[0;32m   1643\u001b[0m \u001b[43m    \u001b[49m\u001b[43mcompiled_sql\u001b[49m\u001b[43m,\u001b[49m\n\u001b[0;32m   1644\u001b[0m \u001b[43m    \u001b[49m\u001b[43mdistilled_parameters\u001b[49m\u001b[43m,\u001b[49m\n\u001b[0;32m   1645\u001b[0m \u001b[43m    \u001b[49m\u001b[43mexecution_options\u001b[49m\u001b[43m,\u001b[49m\n\u001b[0;32m   1646\u001b[0m \u001b[43m    \u001b[49m\u001b[43mcompiled_sql\u001b[49m\u001b[43m,\u001b[49m\n\u001b[0;32m   1647\u001b[0m \u001b[43m    \u001b[49m\u001b[43mdistilled_parameters\u001b[49m\u001b[43m,\u001b[49m\n\u001b[0;32m   1648\u001b[0m \u001b[43m    \u001b[49m\u001b[43melem\u001b[49m\u001b[43m,\u001b[49m\n\u001b[0;32m   1649\u001b[0m \u001b[43m    \u001b[49m\u001b[43mextracted_params\u001b[49m\u001b[43m,\u001b[49m\n\u001b[0;32m   1650\u001b[0m \u001b[43m    \u001b[49m\u001b[43mcache_hit\u001b[49m\u001b[38;5;241;43m=\u001b[39;49m\u001b[43mcache_hit\u001b[49m\u001b[43m,\u001b[49m\n\u001b[0;32m   1651\u001b[0m \u001b[43m\u001b[49m\u001b[43m)\u001b[49m\n\u001b[0;32m   1652\u001b[0m \u001b[38;5;28;01mif\u001b[39;00m has_events:\n\u001b[0;32m   1653\u001b[0m     \u001b[38;5;28mself\u001b[39m\u001b[38;5;241m.\u001b[39mdispatch\u001b[38;5;241m.\u001b[39mafter_execute(\n\u001b[0;32m   1654\u001b[0m         \u001b[38;5;28mself\u001b[39m,\n\u001b[0;32m   1655\u001b[0m         elem,\n\u001b[1;32m   (...)\u001b[0m\n\u001b[0;32m   1659\u001b[0m         ret,\n\u001b[0;32m   1660\u001b[0m     )\n",
      "File \u001b[1;32m~\\.virtualenvs\\xml_to_json-RwiJkwGm\\Lib\\site-packages\\sqlalchemy\\engine\\base.py:1846\u001b[0m, in \u001b[0;36mConnection._execute_context\u001b[1;34m(self, dialect, constructor, statement, parameters, execution_options, *args, **kw)\u001b[0m\n\u001b[0;32m   1844\u001b[0m     \u001b[38;5;28;01mreturn\u001b[39;00m \u001b[38;5;28mself\u001b[39m\u001b[38;5;241m.\u001b[39m_exec_insertmany_context(dialect, context)\n\u001b[0;32m   1845\u001b[0m \u001b[38;5;28;01melse\u001b[39;00m:\n\u001b[1;32m-> 1846\u001b[0m     \u001b[38;5;28;01mreturn\u001b[39;00m \u001b[38;5;28;43mself\u001b[39;49m\u001b[38;5;241;43m.\u001b[39;49m\u001b[43m_exec_single_context\u001b[49m\u001b[43m(\u001b[49m\n\u001b[0;32m   1847\u001b[0m \u001b[43m        \u001b[49m\u001b[43mdialect\u001b[49m\u001b[43m,\u001b[49m\u001b[43m \u001b[49m\u001b[43mcontext\u001b[49m\u001b[43m,\u001b[49m\u001b[43m \u001b[49m\u001b[43mstatement\u001b[49m\u001b[43m,\u001b[49m\u001b[43m \u001b[49m\u001b[43mparameters\u001b[49m\n\u001b[0;32m   1848\u001b[0m \u001b[43m    \u001b[49m\u001b[43m)\u001b[49m\n",
      "File \u001b[1;32m~\\.virtualenvs\\xml_to_json-RwiJkwGm\\Lib\\site-packages\\sqlalchemy\\engine\\base.py:1986\u001b[0m, in \u001b[0;36mConnection._exec_single_context\u001b[1;34m(self, dialect, context, statement, parameters)\u001b[0m\n\u001b[0;32m   1983\u001b[0m     result \u001b[38;5;241m=\u001b[39m context\u001b[38;5;241m.\u001b[39m_setup_result_proxy()\n\u001b[0;32m   1985\u001b[0m \u001b[38;5;28;01mexcept\u001b[39;00m \u001b[38;5;167;01mBaseException\u001b[39;00m \u001b[38;5;28;01mas\u001b[39;00m e:\n\u001b[1;32m-> 1986\u001b[0m     \u001b[38;5;28;43mself\u001b[39;49m\u001b[38;5;241;43m.\u001b[39;49m\u001b[43m_handle_dbapi_exception\u001b[49m\u001b[43m(\u001b[49m\n\u001b[0;32m   1987\u001b[0m \u001b[43m        \u001b[49m\u001b[43me\u001b[49m\u001b[43m,\u001b[49m\u001b[43m \u001b[49m\u001b[43mstr_statement\u001b[49m\u001b[43m,\u001b[49m\u001b[43m \u001b[49m\u001b[43meffective_parameters\u001b[49m\u001b[43m,\u001b[49m\u001b[43m \u001b[49m\u001b[43mcursor\u001b[49m\u001b[43m,\u001b[49m\u001b[43m \u001b[49m\u001b[43mcontext\u001b[49m\n\u001b[0;32m   1988\u001b[0m \u001b[43m    \u001b[49m\u001b[43m)\u001b[49m\n\u001b[0;32m   1990\u001b[0m \u001b[38;5;28;01mreturn\u001b[39;00m result\n",
      "File \u001b[1;32m~\\.virtualenvs\\xml_to_json-RwiJkwGm\\Lib\\site-packages\\sqlalchemy\\engine\\base.py:2355\u001b[0m, in \u001b[0;36mConnection._handle_dbapi_exception\u001b[1;34m(self, e, statement, parameters, cursor, context, is_sub_exec)\u001b[0m\n\u001b[0;32m   2353\u001b[0m \u001b[38;5;28;01melif\u001b[39;00m should_wrap:\n\u001b[0;32m   2354\u001b[0m     \u001b[38;5;28;01massert\u001b[39;00m sqlalchemy_exception \u001b[38;5;129;01mis\u001b[39;00m \u001b[38;5;129;01mnot\u001b[39;00m \u001b[38;5;28;01mNone\u001b[39;00m\n\u001b[1;32m-> 2355\u001b[0m     \u001b[38;5;28;01mraise\u001b[39;00m sqlalchemy_exception\u001b[38;5;241m.\u001b[39mwith_traceback(exc_info[\u001b[38;5;241m2\u001b[39m]) \u001b[38;5;28;01mfrom\u001b[39;00m \u001b[38;5;21;01me\u001b[39;00m\n\u001b[0;32m   2356\u001b[0m \u001b[38;5;28;01melse\u001b[39;00m:\n\u001b[0;32m   2357\u001b[0m     \u001b[38;5;28;01massert\u001b[39;00m exc_info[\u001b[38;5;241m1\u001b[39m] \u001b[38;5;129;01mis\u001b[39;00m \u001b[38;5;129;01mnot\u001b[39;00m \u001b[38;5;28;01mNone\u001b[39;00m\n",
      "File \u001b[1;32m~\\.virtualenvs\\xml_to_json-RwiJkwGm\\Lib\\site-packages\\sqlalchemy\\engine\\base.py:1967\u001b[0m, in \u001b[0;36mConnection._exec_single_context\u001b[1;34m(self, dialect, context, statement, parameters)\u001b[0m\n\u001b[0;32m   1965\u001b[0m                 \u001b[38;5;28;01mbreak\u001b[39;00m\n\u001b[0;32m   1966\u001b[0m     \u001b[38;5;28;01mif\u001b[39;00m \u001b[38;5;129;01mnot\u001b[39;00m evt_handled:\n\u001b[1;32m-> 1967\u001b[0m         \u001b[38;5;28;43mself\u001b[39;49m\u001b[38;5;241;43m.\u001b[39;49m\u001b[43mdialect\u001b[49m\u001b[38;5;241;43m.\u001b[39;49m\u001b[43mdo_execute\u001b[49m\u001b[43m(\u001b[49m\n\u001b[0;32m   1968\u001b[0m \u001b[43m            \u001b[49m\u001b[43mcursor\u001b[49m\u001b[43m,\u001b[49m\u001b[43m \u001b[49m\u001b[43mstr_statement\u001b[49m\u001b[43m,\u001b[49m\u001b[43m \u001b[49m\u001b[43meffective_parameters\u001b[49m\u001b[43m,\u001b[49m\u001b[43m \u001b[49m\u001b[43mcontext\u001b[49m\n\u001b[0;32m   1969\u001b[0m \u001b[43m        \u001b[49m\u001b[43m)\u001b[49m\n\u001b[0;32m   1971\u001b[0m \u001b[38;5;28;01mif\u001b[39;00m \u001b[38;5;28mself\u001b[39m\u001b[38;5;241m.\u001b[39m_has_events \u001b[38;5;129;01mor\u001b[39;00m \u001b[38;5;28mself\u001b[39m\u001b[38;5;241m.\u001b[39mengine\u001b[38;5;241m.\u001b[39m_has_events:\n\u001b[0;32m   1972\u001b[0m     \u001b[38;5;28mself\u001b[39m\u001b[38;5;241m.\u001b[39mdispatch\u001b[38;5;241m.\u001b[39mafter_cursor_execute(\n\u001b[0;32m   1973\u001b[0m         \u001b[38;5;28mself\u001b[39m,\n\u001b[0;32m   1974\u001b[0m         cursor,\n\u001b[1;32m   (...)\u001b[0m\n\u001b[0;32m   1978\u001b[0m         context\u001b[38;5;241m.\u001b[39mexecutemany,\n\u001b[0;32m   1979\u001b[0m     )\n",
      "File \u001b[1;32m~\\.virtualenvs\\xml_to_json-RwiJkwGm\\Lib\\site-packages\\sqlalchemy\\engine\\default.py:941\u001b[0m, in \u001b[0;36mDefaultDialect.do_execute\u001b[1;34m(self, cursor, statement, parameters, context)\u001b[0m\n\u001b[0;32m    940\u001b[0m \u001b[38;5;28;01mdef\u001b[39;00m \u001b[38;5;21mdo_execute\u001b[39m(\u001b[38;5;28mself\u001b[39m, cursor, statement, parameters, context\u001b[38;5;241m=\u001b[39m\u001b[38;5;28;01mNone\u001b[39;00m):\n\u001b[1;32m--> 941\u001b[0m     \u001b[43mcursor\u001b[49m\u001b[38;5;241;43m.\u001b[39;49m\u001b[43mexecute\u001b[49m\u001b[43m(\u001b[49m\u001b[43mstatement\u001b[49m\u001b[43m,\u001b[49m\u001b[43m \u001b[49m\u001b[43mparameters\u001b[49m\u001b[43m)\u001b[49m\n",
      "File \u001b[1;32m~\\.virtualenvs\\xml_to_json-RwiJkwGm\\Lib\\site-packages\\pymysql\\cursors.py:153\u001b[0m, in \u001b[0;36mCursor.execute\u001b[1;34m(self, query, args)\u001b[0m\n\u001b[0;32m    149\u001b[0m     \u001b[38;5;28;01mpass\u001b[39;00m\n\u001b[0;32m    151\u001b[0m query \u001b[38;5;241m=\u001b[39m \u001b[38;5;28mself\u001b[39m\u001b[38;5;241m.\u001b[39mmogrify(query, args)\n\u001b[1;32m--> 153\u001b[0m result \u001b[38;5;241m=\u001b[39m \u001b[38;5;28;43mself\u001b[39;49m\u001b[38;5;241;43m.\u001b[39;49m\u001b[43m_query\u001b[49m\u001b[43m(\u001b[49m\u001b[43mquery\u001b[49m\u001b[43m)\u001b[49m\n\u001b[0;32m    154\u001b[0m \u001b[38;5;28mself\u001b[39m\u001b[38;5;241m.\u001b[39m_executed \u001b[38;5;241m=\u001b[39m query\n\u001b[0;32m    155\u001b[0m \u001b[38;5;28;01mreturn\u001b[39;00m result\n",
      "File \u001b[1;32m~\\.virtualenvs\\xml_to_json-RwiJkwGm\\Lib\\site-packages\\pymysql\\cursors.py:322\u001b[0m, in \u001b[0;36mCursor._query\u001b[1;34m(self, q)\u001b[0m\n\u001b[0;32m    320\u001b[0m conn \u001b[38;5;241m=\u001b[39m \u001b[38;5;28mself\u001b[39m\u001b[38;5;241m.\u001b[39m_get_db()\n\u001b[0;32m    321\u001b[0m \u001b[38;5;28mself\u001b[39m\u001b[38;5;241m.\u001b[39m_clear_result()\n\u001b[1;32m--> 322\u001b[0m \u001b[43mconn\u001b[49m\u001b[38;5;241;43m.\u001b[39;49m\u001b[43mquery\u001b[49m\u001b[43m(\u001b[49m\u001b[43mq\u001b[49m\u001b[43m)\u001b[49m\n\u001b[0;32m    323\u001b[0m \u001b[38;5;28mself\u001b[39m\u001b[38;5;241m.\u001b[39m_do_get_result()\n\u001b[0;32m    324\u001b[0m \u001b[38;5;28;01mreturn\u001b[39;00m \u001b[38;5;28mself\u001b[39m\u001b[38;5;241m.\u001b[39mrowcount\n",
      "File \u001b[1;32m~\\.virtualenvs\\xml_to_json-RwiJkwGm\\Lib\\site-packages\\pymysql\\connections.py:563\u001b[0m, in \u001b[0;36mConnection.query\u001b[1;34m(self, sql, unbuffered)\u001b[0m\n\u001b[0;32m    561\u001b[0m     sql \u001b[38;5;241m=\u001b[39m sql\u001b[38;5;241m.\u001b[39mencode(\u001b[38;5;28mself\u001b[39m\u001b[38;5;241m.\u001b[39mencoding, \u001b[38;5;124m\"\u001b[39m\u001b[38;5;124msurrogateescape\u001b[39m\u001b[38;5;124m\"\u001b[39m)\n\u001b[0;32m    562\u001b[0m \u001b[38;5;28mself\u001b[39m\u001b[38;5;241m.\u001b[39m_execute_command(COMMAND\u001b[38;5;241m.\u001b[39mCOM_QUERY, sql)\n\u001b[1;32m--> 563\u001b[0m \u001b[38;5;28mself\u001b[39m\u001b[38;5;241m.\u001b[39m_affected_rows \u001b[38;5;241m=\u001b[39m \u001b[38;5;28;43mself\u001b[39;49m\u001b[38;5;241;43m.\u001b[39;49m\u001b[43m_read_query_result\u001b[49m\u001b[43m(\u001b[49m\u001b[43munbuffered\u001b[49m\u001b[38;5;241;43m=\u001b[39;49m\u001b[43munbuffered\u001b[49m\u001b[43m)\u001b[49m\n\u001b[0;32m    564\u001b[0m \u001b[38;5;28;01mreturn\u001b[39;00m \u001b[38;5;28mself\u001b[39m\u001b[38;5;241m.\u001b[39m_affected_rows\n",
      "File \u001b[1;32m~\\.virtualenvs\\xml_to_json-RwiJkwGm\\Lib\\site-packages\\pymysql\\connections.py:825\u001b[0m, in \u001b[0;36mConnection._read_query_result\u001b[1;34m(self, unbuffered)\u001b[0m\n\u001b[0;32m    823\u001b[0m \u001b[38;5;28;01melse\u001b[39;00m:\n\u001b[0;32m    824\u001b[0m     result \u001b[38;5;241m=\u001b[39m MySQLResult(\u001b[38;5;28mself\u001b[39m)\n\u001b[1;32m--> 825\u001b[0m     \u001b[43mresult\u001b[49m\u001b[38;5;241;43m.\u001b[39;49m\u001b[43mread\u001b[49m\u001b[43m(\u001b[49m\u001b[43m)\u001b[49m\n\u001b[0;32m    826\u001b[0m \u001b[38;5;28mself\u001b[39m\u001b[38;5;241m.\u001b[39m_result \u001b[38;5;241m=\u001b[39m result\n\u001b[0;32m    827\u001b[0m \u001b[38;5;28;01mif\u001b[39;00m result\u001b[38;5;241m.\u001b[39mserver_status \u001b[38;5;129;01mis\u001b[39;00m \u001b[38;5;129;01mnot\u001b[39;00m \u001b[38;5;28;01mNone\u001b[39;00m:\n",
      "File \u001b[1;32m~\\.virtualenvs\\xml_to_json-RwiJkwGm\\Lib\\site-packages\\pymysql\\connections.py:1199\u001b[0m, in \u001b[0;36mMySQLResult.read\u001b[1;34m(self)\u001b[0m\n\u001b[0;32m   1197\u001b[0m \u001b[38;5;28;01mdef\u001b[39;00m \u001b[38;5;21mread\u001b[39m(\u001b[38;5;28mself\u001b[39m):\n\u001b[0;32m   1198\u001b[0m     \u001b[38;5;28;01mtry\u001b[39;00m:\n\u001b[1;32m-> 1199\u001b[0m         first_packet \u001b[38;5;241m=\u001b[39m \u001b[38;5;28;43mself\u001b[39;49m\u001b[38;5;241;43m.\u001b[39;49m\u001b[43mconnection\u001b[49m\u001b[38;5;241;43m.\u001b[39;49m\u001b[43m_read_packet\u001b[49m\u001b[43m(\u001b[49m\u001b[43m)\u001b[49m\n\u001b[0;32m   1201\u001b[0m         \u001b[38;5;28;01mif\u001b[39;00m first_packet\u001b[38;5;241m.\u001b[39mis_ok_packet():\n\u001b[0;32m   1202\u001b[0m             \u001b[38;5;28mself\u001b[39m\u001b[38;5;241m.\u001b[39m_read_ok_packet(first_packet)\n",
      "File \u001b[1;32m~\\.virtualenvs\\xml_to_json-RwiJkwGm\\Lib\\site-packages\\pymysql\\connections.py:775\u001b[0m, in \u001b[0;36mConnection._read_packet\u001b[1;34m(self, packet_type)\u001b[0m\n\u001b[0;32m    773\u001b[0m     \u001b[38;5;28;01mif\u001b[39;00m \u001b[38;5;28mself\u001b[39m\u001b[38;5;241m.\u001b[39m_result \u001b[38;5;129;01mis\u001b[39;00m \u001b[38;5;129;01mnot\u001b[39;00m \u001b[38;5;28;01mNone\u001b[39;00m \u001b[38;5;129;01mand\u001b[39;00m \u001b[38;5;28mself\u001b[39m\u001b[38;5;241m.\u001b[39m_result\u001b[38;5;241m.\u001b[39munbuffered_active \u001b[38;5;129;01mis\u001b[39;00m \u001b[38;5;28;01mTrue\u001b[39;00m:\n\u001b[0;32m    774\u001b[0m         \u001b[38;5;28mself\u001b[39m\u001b[38;5;241m.\u001b[39m_result\u001b[38;5;241m.\u001b[39munbuffered_active \u001b[38;5;241m=\u001b[39m \u001b[38;5;28;01mFalse\u001b[39;00m\n\u001b[1;32m--> 775\u001b[0m     \u001b[43mpacket\u001b[49m\u001b[38;5;241;43m.\u001b[39;49m\u001b[43mraise_for_error\u001b[49m\u001b[43m(\u001b[49m\u001b[43m)\u001b[49m\n\u001b[0;32m    776\u001b[0m \u001b[38;5;28;01mreturn\u001b[39;00m packet\n",
      "File \u001b[1;32m~\\.virtualenvs\\xml_to_json-RwiJkwGm\\Lib\\site-packages\\pymysql\\protocol.py:219\u001b[0m, in \u001b[0;36mMysqlPacket.raise_for_error\u001b[1;34m(self)\u001b[0m\n\u001b[0;32m    217\u001b[0m \u001b[38;5;28;01mif\u001b[39;00m DEBUG:\n\u001b[0;32m    218\u001b[0m     \u001b[38;5;28mprint\u001b[39m(\u001b[38;5;124m\"\u001b[39m\u001b[38;5;124merrno =\u001b[39m\u001b[38;5;124m\"\u001b[39m, errno)\n\u001b[1;32m--> 219\u001b[0m \u001b[43merr\u001b[49m\u001b[38;5;241;43m.\u001b[39;49m\u001b[43mraise_mysql_exception\u001b[49m\u001b[43m(\u001b[49m\u001b[38;5;28;43mself\u001b[39;49m\u001b[38;5;241;43m.\u001b[39;49m\u001b[43m_data\u001b[49m\u001b[43m)\u001b[49m\n",
      "File \u001b[1;32m~\\.virtualenvs\\xml_to_json-RwiJkwGm\\Lib\\site-packages\\pymysql\\err.py:150\u001b[0m, in \u001b[0;36mraise_mysql_exception\u001b[1;34m(data)\u001b[0m\n\u001b[0;32m    148\u001b[0m \u001b[38;5;28;01mif\u001b[39;00m errorclass \u001b[38;5;129;01mis\u001b[39;00m \u001b[38;5;28;01mNone\u001b[39;00m:\n\u001b[0;32m    149\u001b[0m     errorclass \u001b[38;5;241m=\u001b[39m InternalError \u001b[38;5;28;01mif\u001b[39;00m errno \u001b[38;5;241m<\u001b[39m \u001b[38;5;241m1000\u001b[39m \u001b[38;5;28;01melse\u001b[39;00m OperationalError\n\u001b[1;32m--> 150\u001b[0m \u001b[38;5;28;01mraise\u001b[39;00m errorclass(errno, errval)\n",
      "\u001b[1;31mOperationalError\u001b[0m: (pymysql.err.OperationalError) (1205, 'Lock wait timeout exceeded; try restarting transaction')\n[SQL: \n                    UPDATE hotel_info_all AS h1\n                    JOIN hotels_info_with_gidestination_code AS h2\n                    ON h1.GiDestinationId = h2.GiDestinationId\n                    SET h1.CountryCode = h2.CountryCode\n                    WHERE h1.GiDestinationId IN %(gi_ids)s\n                    ]\n[parameters: {'gi_ids': ('10000', '10000', '10000', '10000', '10000', '10000', '10000', '10000', '10000', '10000', '10000', '10000', '10000', '10000', '10000', '10000', '1000 ... (98343 characters truncated) ... 172', '10172', '10172', '10172', '10172', '10172', '101735', '101735', '101735', '101735', '101735', '101738', '101738', '101742', '101742', '101742')}]\n(Background on this error at: https://sqlalche.me/e/20/e3q8)"
     ]
    }
   ],
   "source": [
    "Session = sessionmaker(bind=engine)\n",
    "\n",
    "def update_country_code(batch_size=10001):\n",
    "    with Session() as session:\n",
    "        # Get the total number of records\n",
    "        total_records = session.execute(\n",
    "            text(\"SELECT COUNT(*) FROM hotel_info_all\")\n",
    "        ).scalar()\n",
    "\n",
    "        start = 0\n",
    "\n",
    "        while start < total_records:\n",
    "            # Fetch the relevant GiDestinationIds for the current batch\n",
    "            gi_ids = session.execute(\n",
    "                text(\n",
    "                    \"\"\"\n",
    "                    SELECT GiDestinationId\n",
    "                    FROM hotel_info_all\n",
    "                    LIMIT :start, :batch_size\n",
    "                    \"\"\"\n",
    "                ),\n",
    "                {\"start\": start, \"batch_size\": batch_size},\n",
    "            ).fetchall()\n",
    "\n",
    "            gi_ids = [row[0] for row in gi_ids]\n",
    "\n",
    "            # Perform the batch update\n",
    "            session.execute(\n",
    "                text(\n",
    "                    \"\"\"\n",
    "                    UPDATE hotel_info_all AS h1\n",
    "                    JOIN hotels_info_with_gidestination_code AS h2\n",
    "                    ON h1.GiDestinationId = h2.GiDestinationId\n",
    "                    SET h1.CountryCode = h2.CountryCode\n",
    "                    WHERE h1.GiDestinationId IN :gi_ids\n",
    "                    \"\"\"\n",
    "                ),\n",
    "                {\"gi_ids\": tuple(gi_ids)},\n",
    "            )\n",
    "            \n",
    "            session.commit()\n",
    "            print(f\"Successfull: {row}\")\n",
    "            print(f\"Batch updated successfully: {len(gi_ids)} records\")\n",
    "            start += batch_size\n",
    "\n",
    "# Call the function\n",
    "update_country_code()"
   ]
  },
  {
   "cell_type": "code",
   "execution_count": null,
   "id": "81381709-1aca-4a7d-9737-af54e63c544f",
   "metadata": {},
   "outputs": [],
   "source": [
    "import pandas as pd\n",
    "from sqlalchemy import create_engine\n",
    "\n",
    "\n",
    "# Set up the SQLAlchemy engine\n",
    "engine = create_engine(DATABASE_URL)\n",
    "\n",
    "def update_country_code_with_pandas():\n",
    "    # Load data from both tables\n",
    "    hotel_info_df = pd.read_sql(\"SELECT * FROM hotel_info_all\", engine)\n",
    "    hotels_info_code_df = pd.read_sql(\"SELECT * FROM hotels_info_with_gidestination_code\", engine)\n",
    "\n",
    "    # Merge the dataframes on GiDestinationId\n",
    "    updated_df = hotel_info_df.merge(\n",
    "        hotels_info_code_df[['GiDestinationId', 'CountryCode']],\n",
    "        on='GiDestinationId',\n",
    "        how='left'\n",
    "    )\n",
    "\n",
    "    # Update the CountryCode column\n",
    "    hotel_info_df['CountryCode'] = updated_df['CountryCode']\n",
    "\n",
    "    # Write the updated DataFrame back to the database\n",
    "    hotel_info_df.to_sql(\n",
    "        'hotel_info_all', \n",
    "        engine, \n",
    "        if_exists='replace',  # Use 'replace' for testing; use 'append' or other mode as needed\n",
    "        index=False\n",
    "    )\n",
    "\n",
    "    print(\"CountryCode updated successfully in hotel_info_all table\")\n",
    "\n",
    "# Call the function\n",
    "update_country_code_with_pandas()\n"
   ]
  },
  {
   "cell_type": "markdown",
   "id": "69dcad79-7a07-484a-bf28-3deac45716c6",
   "metadata": {},
   "source": [
    "### Get data some rows and create a csv file in local measign."
   ]
  },
  {
   "cell_type": "code",
   "execution_count": 18,
   "id": "7a274089-79dd-43d0-9b9d-5121900950d8",
   "metadata": {
    "scrolled": true
   },
   "outputs": [
    {
     "name": "stdout",
     "output_type": "stream",
     "text": [
      "Data saved to HotelData.csv successfully.\n"
     ]
    }
   ],
   "source": [
    "def get_some_rows(table, engine, limit):\n",
    "    query = f\"SELECT * FROM {table} LIMIT {limit}\"\n",
    "    try:\n",
    "        # Use a context manager for automatic transaction handling\n",
    "        with engine.connect() as connection:\n",
    "            df = pd.read_sql(query, connection)\n",
    "            df.to_csv(\"HotelData.csv\", index=False)\n",
    "            print(\"Data saved to HotelData.csv successfully.\")\n",
    "        return df\n",
    "    except SQLAlchemyError as e:\n",
    "        # Explicitly roll back if any SQL error occurs\n",
    "        connection.rollback()\n",
    "        print(f\"An error occurred: {e}\")\n",
    "        raise  # Re-raise the error after rollback for debugging\n",
    "\n",
    "# Usage example\n",
    "table = \"vervotech_hotel_list\"\n",
    "# data = get_some_rows(table, engine, 10)"
   ]
  },
  {
   "cell_type": "markdown",
   "id": "6156ea6c-a085-4a1e-a8e5-ca56431233ee",
   "metadata": {},
   "source": [
    "### Active suplayer check."
   ]
  },
  {
   "cell_type": "code",
   "execution_count": 20,
   "id": "bf723193-4477-4f0d-a840-a9b846cb421f",
   "metadata": {},
   "outputs": [
    {
     "data": {
      "text/plain": [
       "['HotelBeds', 'TBO', 'EAN', 'MGHoliday', 'Agoda']"
      ]
     },
     "execution_count": 20,
     "metadata": {},
     "output_type": "execute_result"
    }
   ],
   "source": [
    "def get_provider_family_active_list(table, engine):\n",
    "    query = f\"SELECT ProviderFamily FROM {table} WHERE status = 'active'\"\n",
    "    df = pd.read_sql(query, engine)\n",
    "\n",
    "    provider_family_active_list = provider_families = df['ProviderFamily'].tolist()\n",
    "    return provider_family_active_list\n",
    "\n",
    "get_provider_family_active_list('vervotech_ProviderFamily', engine)"
   ]
  },
  {
   "cell_type": "markdown",
   "id": "123eda8c-c7f8-4fec-835d-87c808d39a74",
   "metadata": {},
   "source": [
    "## Function: Get all data information from the table. using pandas read_sql funtion also."
   ]
  },
  {
   "cell_type": "code",
   "execution_count": 7,
   "id": "9fa68b2d-06dd-4e72-96a0-0ca15642b740",
   "metadata": {},
   "outputs": [
    {
     "name": "stdout",
     "output_type": "stream",
     "text": [
      "          Id             last_update VervotechId UpdateDateFormat  \\\n",
      "0          1  2024/10/15 17:04:09 PM    70487877             None   \n",
      "1          2  2024/10/15 17:04:09 PM    70477374             None   \n",
      "2          3  2024/10/15 17:04:09 PM    70488525             None   \n",
      "3          4  2024/10/15 17:04:09 PM    70488538             None   \n",
      "4          5  2024/10/15 17:04:09 PM    70480802             None   \n",
      "...      ...                     ...         ...              ...   \n",
      "10269  10270  2024/11/04 01:00:09 AM    70491879             None   \n",
      "10270  10271  2024/11/04 01:00:09 AM    70490902             None   \n",
      "10271  10272  2024/11/04 01:00:09 AM    70492469             None   \n",
      "10272  10273  2024/11/04 01:00:09 AM    70492842             None   \n",
      "10273  10274  2024/11/04 01:00:09 AM    70490907             None   \n",
      "\n",
      "      ProviderHotelId ProviderFamily ChannelIds ProviderLocationCode  \\\n",
      "0           100321969            EAN       None                 None   \n",
      "1           100335387            EAN       None                 None   \n",
      "2           100521320            EAN       None                 None   \n",
      "3           100737301            EAN       None                 None   \n",
      "4           100927090            EAN       None                 None   \n",
      "...               ...            ...        ...                  ...   \n",
      "10269         6296787            TBO       None               134367   \n",
      "10270         6298509            TBO       None               134367   \n",
      "10271         6303195            TBO       None               132109   \n",
      "10272         6306213            TBO       None               132109   \n",
      "10273         6306680            TBO       None               132109   \n",
      "\n",
      "                       status          created_at          ModifiedOn  \n",
      "0      Update data successful 2024-10-18 10:53:00 2024-10-19 12:52:46  \n",
      "1      Update data successful 2024-10-18 10:53:00 2024-10-19 12:52:46  \n",
      "2      Update data successful 2024-10-18 10:53:00 2024-10-19 12:52:46  \n",
      "3               Skipping data 2024-10-18 10:53:00 2024-10-19 12:52:46  \n",
      "4      Update data successful 2024-10-18 10:53:00 2024-10-19 12:52:46  \n",
      "...                       ...                 ...                 ...  \n",
      "10269  Update data successful 2024-11-03 17:00:10 2024-11-03 19:03:59  \n",
      "10270  Update data successful 2024-11-03 17:00:10 2024-11-03 19:04:01  \n",
      "10271  Update data successful 2024-11-03 17:00:10 2024-11-03 19:04:03  \n",
      "10272  Update data successful 2024-11-03 17:00:10 2024-11-03 19:04:05  \n",
      "10273  Update data successful 2024-11-03 17:00:10 2024-11-03 19:04:08  \n",
      "\n",
      "[10274 rows x 11 columns]\n"
     ]
    }
   ],
   "source": [
    "def total_data_count(table, engine):\n",
    "    query = f\"SELECT * FROM {table}\"\n",
    "    df = pd.read_sql(query, engine)\n",
    "    # print(df)\n",
    "\n",
    "total_data_count(table=\"vervotech_hotel_map_new\", engine=engine)"
   ]
  },
  {
   "cell_type": "markdown",
   "id": "31df935f-7ba0-4bdc-a2a5-ce3209c2bb87",
   "metadata": {},
   "source": [
    "### Function: Total data count."
   ]
  },
  {
   "cell_type": "code",
   "execution_count": 43,
   "id": "6f123c22-b68f-4380-bb23-c2b98a07b7b5",
   "metadata": {},
   "outputs": [
    {
     "data": {
      "text/plain": [
       "np.int64(8674)"
      ]
     },
     "execution_count": 43,
     "metadata": {},
     "output_type": "execute_result"
    }
   ],
   "source": [
    "def total_data_count(table, engine):\n",
    "    query = f\"SELECT COUNT(*) FROM {table}\"\n",
    "    df = pd.read_sql(query, engine)\n",
    "    total_data = df.iloc[0, 0]\n",
    "    return total_data\n",
    "\n",
    "\n",
    "total_data_count(table=\"vervotech_hotel_map_new\", engine=engine)"
   ]
  },
  {
   "cell_type": "code",
   "execution_count": null,
   "id": "92925b48-13f4-4dd6-bf0e-b2c2e7cfdf74",
   "metadata": {},
   "outputs": [],
   "source": []
  },
  {
   "cell_type": "markdown",
   "id": "e8d62e68-dfaa-46ef-bd43-652596d22762",
   "metadata": {},
   "source": [
    "## Function: Get Group data in database."
   ]
  },
  {
   "cell_type": "code",
   "execution_count": 34,
   "id": "2cc21a05-ae08-4e79-8a29-27e1146ca319",
   "metadata": {},
   "outputs": [
    {
     "name": "stdout",
     "output_type": "stream",
     "text": [
      "   ProviderFamily  value_count\n",
      "0           Agoda            2\n",
      "1            DOTW            2\n",
      "2             EAN            6\n",
      "3        GoGlobal            3\n",
      "4      GRNConnect            3\n",
      "5       HotelBeds           28\n",
      "6       MGHoliday            1\n",
      "7         Rakuten            3\n",
      "8          Restel            1\n",
      "9           Stuba           52\n",
      "10            TBO            3\n"
     ]
    }
   ],
   "source": [
    "def new_group_data(table, engine):\n",
    "    query = f\"\"\"\n",
    "    SELECT ProviderFamily, COUNT(*) AS value_count\n",
    "    FROM {table}\n",
    "    WHERE DATE(created_at) = (\n",
    "        SELECT DATE(MAX(created_at)) \n",
    "        FROM {table}\n",
    "    )\n",
    "    GROUP BY ProviderFamily;\n",
    "    \"\"\"\n",
    "    df = pd.read_sql(query, engine)\n",
    "    return df \n",
    "\n",
    "data = new_group_data(table=\"vervotech_hotel_map_new\", engine=engine)\n",
    "print(data)\n"
   ]
  },
  {
   "cell_type": "code",
   "execution_count": 20,
   "id": "958748bb-7ab8-475f-81ba-72f990c77e44",
   "metadata": {},
   "outputs": [
    {
     "name": "stdout",
     "output_type": "stream",
     "text": [
      "Agoda\n",
      "2\n",
      "11\n"
     ]
    }
   ],
   "source": [
    "print(data.ProviderFamily[0])\n",
    "print(data.value_count[0])\n",
    "print(len(data))"
   ]
  },
  {
   "cell_type": "code",
   "execution_count": 24,
   "id": "2a8eb088-8727-4f02-9faa-6057d5db39a4",
   "metadata": {},
   "outputs": [
    {
     "name": "stdout",
     "output_type": "stream",
     "text": [
      "Agoda\n",
      "DOTW\n",
      "EAN\n",
      "GoGlobal\n",
      "GRNConnect\n",
      "HotelBeds\n",
      "MGHoliday\n",
      "Rakuten\n",
      "Restel\n",
      "Stuba\n",
      "TBO\n"
     ]
    }
   ],
   "source": [
    "leanth_table = len(data)\n",
    "\n",
    "for i in range (leanth_table):\n",
    "    print(data.ProviderFamily[i])"
   ]
  },
  {
   "cell_type": "markdown",
   "id": "025305a1-7337-4ea9-81d9-f7f0136e7c40",
   "metadata": {},
   "source": [
    "## Function: Get All Data for a Specific Key word. Update data show there."
   ]
  },
  {
   "cell_type": "code",
   "execution_count": null,
   "id": "27557443-38c1-4b82-90ea-336d79f1113d",
   "metadata": {},
   "outputs": [],
   "source": []
  },
  {
   "cell_type": "code",
   "execution_count": 35,
   "id": "63670370-6bb0-4ae5-8d64-dd7b648cfe2d",
   "metadata": {},
   "outputs": [
    {
     "name": "stdout",
     "output_type": "stream",
     "text": [
      "     Id             last_update VervotechId UpdateDateFormat ProviderHotelId  \\\n",
      "0  8571  2024/10/25 13:00:04 PM    70500662             None        13829532   \n",
      "1  8572  2024/10/25 13:00:04 PM    39684057             None         2453037   \n",
      "\n",
      "  ProviderFamily ChannelIds ProviderLocationCode                  status  \\\n",
      "0          Agoda       None                 None  Update data successful   \n",
      "1          Agoda       None                 None  Update data successful   \n",
      "\n",
      "           created_at          ModifiedOn  \n",
      "0 2024-10-25 05:00:11 2024-10-25 07:00:12  \n",
      "1 2024-10-25 05:00:11 2024-10-25 07:00:14  \n"
     ]
    }
   ],
   "source": [
    "def get_provider_family_data(table, engine, provider_family):\n",
    "    query = f\"\"\"\n",
    "    SELECT *\n",
    "    FROM {table}\n",
    "    WHERE ProviderFamily = %s\n",
    "    AND DATE(created_at) = (\n",
    "        SELECT DATE(MAX(created_at)) \n",
    "        FROM {table}\n",
    "    );\n",
    "    \"\"\"\n",
    "    # Use pandas to execute the query and pass the provider_family parameter\n",
    "    df = pd.read_sql(query, engine, params=(provider_family,))\n",
    "    return df\n",
    "\n",
    "# Fetch all data for 'Agoda'\n",
    "agoda_data = get_provider_family_data(table=\"vervotech_hotel_map_new\", engine=engine, provider_family=\"Agoda\")\n",
    "\n",
    "# Print the result\n",
    "print(agoda_data)\n"
   ]
  },
  {
   "cell_type": "code",
   "execution_count": null,
   "id": "525c14c8-29ed-42fe-bb9b-7d5f4ad1d7da",
   "metadata": {},
   "outputs": [],
   "source": []
  },
  {
   "cell_type": "code",
   "execution_count": null,
   "id": "96a70565-5f71-4bf1-ab42-0872df87b942",
   "metadata": {
    "scrolled": true
   },
   "outputs": [],
   "source": []
  },
  {
   "cell_type": "code",
   "execution_count": null,
   "id": "a46f397d-4292-40bd-a49d-45da26546195",
   "metadata": {},
   "outputs": [],
   "source": []
  },
  {
   "cell_type": "markdown",
   "id": "ba84d705-156a-4261-abab-e2cc8714604e",
   "metadata": {},
   "source": [
    "### Get data choice specifiq column"
   ]
  },
  {
   "cell_type": "code",
   "execution_count": 28,
   "id": "b37fb27d-e8db-4870-a79c-3fbd9e4ade7c",
   "metadata": {},
   "outputs": [
    {
     "name": "stdout",
     "output_type": "stream",
     "text": [
      "     Id VervotechId ProviderHotelId ProviderFamily                  status\n",
      "0  8571    70500662        13829532          Agoda  Update data successful\n",
      "1  8572    39684057         2453037          Agoda  Update data successful\n"
     ]
    }
   ],
   "source": [
    "import os\n",
    "import json\n",
    "\n",
    "df = get_provider_family_data(table=\"vervotech_hotel_map_new\", engine=engine, provider_family=\"Agoda\")\n",
    "\n",
    "# Select only the desired columns\n",
    "columns_to_include = ['Id', 'VervotechId', 'ProviderHotelId', 'ProviderFamily', 'status']\n",
    "selected_df = df[columns_to_include]\n",
    "print(selected_df)\n"
   ]
  },
  {
   "cell_type": "markdown",
   "id": "8d24cfaf-660a-4e01-a7ca-babb14037bb8",
   "metadata": {},
   "source": [
    "### Get all data specifiq column and key words"
   ]
  },
  {
   "cell_type": "code",
   "execution_count": 1,
   "id": "cd1475dd-c282-473f-86b6-ade3b6c606e2",
   "metadata": {
    "scrolled": true
   },
   "outputs": [
    {
     "ename": "NameError",
     "evalue": "name 'new_group_data' is not defined",
     "output_type": "error",
     "traceback": [
      "\u001b[1;31m---------------------------------------------------------------------------\u001b[0m",
      "\u001b[1;31mNameError\u001b[0m                                 Traceback (most recent call last)",
      "Cell \u001b[1;32mIn[1], line 4\u001b[0m\n\u001b[0;32m      1\u001b[0m \u001b[38;5;28;01mimport\u001b[39;00m \u001b[38;5;21;01mos\u001b[39;00m\n\u001b[0;32m      2\u001b[0m \u001b[38;5;28;01mimport\u001b[39;00m \u001b[38;5;21;01mjson\u001b[39;00m\n\u001b[1;32m----> 4\u001b[0m data \u001b[38;5;241m=\u001b[39m \u001b[43mnew_group_data\u001b[49m(table\u001b[38;5;241m=\u001b[39m\u001b[38;5;124m\"\u001b[39m\u001b[38;5;124mvervotech_hotel_map_new\u001b[39m\u001b[38;5;124m\"\u001b[39m, engine\u001b[38;5;241m=\u001b[39mengine)\n\u001b[0;32m      6\u001b[0m data_lenth \u001b[38;5;241m=\u001b[39m \u001b[38;5;28mlen\u001b[39m(data)\n\u001b[0;32m      7\u001b[0m \u001b[38;5;28;01mfor\u001b[39;00m i \u001b[38;5;129;01min\u001b[39;00m \u001b[38;5;28mrange\u001b[39m(data_lenth):\n",
      "\u001b[1;31mNameError\u001b[0m: name 'new_group_data' is not defined"
     ]
    }
   ],
   "source": [
    "import os\n",
    "import json\n",
    "\n",
    "data = new_group_data(table=\"vervotech_hotel_map_new\", engine=engine)\n",
    "\n",
    "data_lenth = len(data)\n",
    "for i in range(data_lenth):\n",
    "    all_family_data = data.ProviderFamily[i]\n",
    "    df = get_provider_family_data(table=\"vervotech_hotel_map_new\", engine=engine, provider_family=all_family_data)\n",
    "\n",
    "    # Select only the desired columns\n",
    "    columns_to_include = ['Id', 'VervotechId', 'ProviderHotelId', 'ProviderFamily', 'status']\n",
    "    selected_df = df[columns_to_include]\n",
    "    # print(selected_df)\n",
    "\n",
    "    grouped = selected_df.groupby('VervotechId')\n",
    "\n",
    "    for vervotech_id, group in grouped:\n",
    "        data_dict = group.to_dict(orient='records')\n",
    "        print(data_dict)"
   ]
  },
  {
   "cell_type": "markdown",
   "id": "a3684346-2e05-486e-839d-8251645ab5cb",
   "metadata": {},
   "source": [
    "### Convert into dictonary choice specifiq column."
   ]
  },
  {
   "cell_type": "code",
   "execution_count": 49,
   "id": "2f2c08d5-86a7-4a45-a929-d6b3e7014488",
   "metadata": {},
   "outputs": [
    {
     "name": "stdout",
     "output_type": "stream",
     "text": [
      "[{'Id': 8318, 'VervotechId': '39368551', 'ProviderHotelId': '687153', 'ProviderFamily': 'Agoda', 'status': 'Update data successful'}]\n",
      "[{'Id': 8317, 'VervotechId': '39683646', 'ProviderHotelId': '529347', 'ProviderFamily': 'Agoda', 'status': 'Update data successful'}]\n",
      "[{'Id': 8316, 'VervotechId': '39783271', 'ProviderHotelId': '22309930', 'ProviderFamily': 'Agoda', 'status': 'Update data successful'}]\n",
      "[{'Id': 8254, 'VervotechId': '39935372', 'ProviderHotelId': '1265152', 'ProviderFamily': 'Agoda', 'status': 'Skipping data'}, {'Id': 8315, 'VervotechId': '39935372', 'ProviderHotelId': '1265152', 'ProviderFamily': 'Agoda', 'status': 'Skipping data'}]\n"
     ]
    }
   ],
   "source": [
    "grouped = selected_df.groupby('VervotechId')\n",
    "\n",
    "for vervotech_id, group in grouped:\n",
    "    # Convert the group DataFrame to a dictionary and serialize to JSON\n",
    "    data_dict = group.to_dict(orient='records')\n",
    "    print(data_dict)"
   ]
  },
  {
   "cell_type": "markdown",
   "id": "b2152173-2591-4dd7-8b46-ccf903af1693",
   "metadata": {},
   "source": [
    "## Function: Save json format file in local measign."
   ]
  },
  {
   "cell_type": "code",
   "execution_count": null,
   "id": "abc136ad-6c4d-4a4d-9c29-689698996efa",
   "metadata": {},
   "outputs": [],
   "source": []
  },
  {
   "cell_type": "code",
   "execution_count": 51,
   "id": "4f4d6c4d-3b8b-42b6-bb06-eb4a1ff23bf3",
   "metadata": {},
   "outputs": [
    {
     "name": "stdout",
     "output_type": "stream",
     "text": [
      "Saved 39368551.json in ./vervotech_json_files\n",
      "Saved 39683646.json in ./vervotech_json_files\n",
      "Saved 39783271.json in ./vervotech_json_files\n",
      "Saved 39935372.json in ./vervotech_json_files\n"
     ]
    }
   ],
   "source": [
    "import os\n",
    "import json\n",
    "\n",
    "def save_json_files_by_vervotechid(df, folder_path):\n",
    "    # Ensure the folder exists, if not, create it\n",
    "    if not os.path.exists(folder_path):\n",
    "        os.makedirs(folder_path)\n",
    "    \n",
    "    columns_to_include = ['Id', 'VervotechId', 'ProviderHotelId', 'ProviderFamily', 'status']\n",
    "    selected_df = df[columns_to_include]\n",
    "    \n",
    "    grouped = selected_df.groupby('VervotechId')\n",
    "    \n",
    "    for vervotech_id, group in grouped:\n",
    "        data_dict = group.to_dict(orient='records')\n",
    "\n",
    "        file_name = f\"{vervotech_id}.json\"\n",
    "        file_path = os.path.join(folder_path, file_name)\n",
    "        \n",
    "        with open(file_path, 'w') as json_file:\n",
    "            json.dump(data_dict, json_file, indent=4)\n",
    "        print(f\"Saved {file_name} in {folder_path}\")\n",
    "\n",
    "agoda_data = get_provider_family_data(table=\"vervotech_hotel_map_new\", engine=engine, provider_family=\"Agoda\")\n",
    "\n",
    "folder_path = './vervotech_json_files'\n",
    "\n",
    "save_json_files_by_vervotechid(agoda_data, folder_path)\n"
   ]
  },
  {
   "cell_type": "code",
   "execution_count": 1,
   "id": "31aad819-759e-4ca6-85c4-9a5b57c0c65a",
   "metadata": {},
   "outputs": [
    {
     "name": "stdout",
     "output_type": "stream",
     "text": [
      "hello world\n"
     ]
    }
   ],
   "source": [
    "import os\n",
    "import json\n",
    "\n",
    "data = new_group_data(table=\"vervotech_hotel_map_new\", engine=engine)\n",
    "\n",
    "data_lenth = len(data)\n",
    "for i in range(data_lenth):\n",
    "    all_family_data = data.ProviderFamily[i]\n",
    "    df = get_provider_family_data(table=\"vervotech_hotel_map_new\", engine=engine, provider_family=all_family_data)\n",
    "\n",
    "    # Select only the desired columns\n",
    "    columns_to_include = ['Id', 'VervotechId', 'ProviderHotelId', 'ProviderFamily', 'status']\n",
    "    selected_df = df[columns_to_include]\n",
    "    # print(selected_df)\n",
    "\n",
    "    grouped = selected_df.groupby('VervotechId')\n",
    "\n",
    "    for vervotech_id, group in grouped:\n",
    "        data_dict = group.to_dict(orient='records')\n",
    "        "
   ]
  },
  {
   "cell_type": "markdown",
   "id": "bf139dd7-0460-462c-a610-9b495e9d9d9b",
   "metadata": {},
   "source": [
    "## Grouping and Saving Data as JSON by Folder"
   ]
  },
  {
   "cell_type": "markdown",
   "id": "763d3b9b-7ab7-4619-aaca-c257827cd3be",
   "metadata": {},
   "source": [
    "#### Create Folder if Not Exists:\n",
    "##### Use os.makedirs() to ensure a folder is created if it doesn’t exist for each ProviderFamily.\n",
    "\n",
    "#### Filter Desired Columns:\n",
    "##### Use columns_to_include to select specific columns (VervotechId, ProviderHotelId, etc.) before grouping.\n",
    "\n",
    "#### Group Data by VervotechId:\n",
    "##### Group the DataFrame by VervotechId to create a JSON file for each unique ID.\n",
    "\n",
    "#### Save Each Group as JSON:\n",
    "##### Convert each group to a dictionary and save it as a JSON file in the folder named after ProviderFamily.\n",
    "\n",
    "#### Loop Through Each ProviderFamily:\n",
    "##### Loop over each unique ProviderFamily from data, create a folder, and save all corresponding JSON files there."
   ]
  },
  {
   "cell_type": "code",
   "execution_count": null,
   "id": "936c34af-fcd5-4d05-b25b-6499cfb781ff",
   "metadata": {},
   "outputs": [],
   "source": [
    "import os\n",
    "import json\n",
    "\n",
    "def save_json_files_by_vervotechid(df, folder_path):\n",
    "    # Ensure the folder exists, if not, create it\n",
    "    if not os.path.exists(folder_path):\n",
    "        os.makedirs(folder_path)\n",
    "    \n",
    "    columns_to_include = ['VervotechId', 'ProviderHotelId', 'ProviderFamily', 'status']\n",
    "    selected_df = df[columns_to_include]\n",
    "    \n",
    "    grouped = selected_df.groupby('VervotechId')\n",
    "    \n",
    "    for vervotech_id, group in grouped:\n",
    "        data_dict = group.to_dict(orient='records')\n",
    "\n",
    "        file_name = f\"{vervotech_id}.json\"\n",
    "        file_path = os.path.join(folder_path, file_name)\n",
    "        \n",
    "        with open(file_path, 'w') as json_file:\n",
    "            json.dump(data_dict, json_file, indent=4)\n",
    "        print(f\"Saved {file_name} in {folder_path}\")\n",
    "\n",
    "# Main code to create a folder for each ProviderFamily and save JSON files\n",
    "data = new_group_data(table=\"vervotech_hotel_map_new\", engine=engine)\n",
    "\n",
    "data_length = len(data)\n",
    "\n",
    "for i in range(data_length):\n",
    "    # Get the current ProviderFamily\n",
    "    provider_family = data.ProviderFamily[i]\n",
    "    \n",
    "    # Fetch data specific to the ProviderFamily\n",
    "    df = get_provider_family_data(table=\"vervotech_hotel_map_new\", engine=engine, provider_family=provider_family)\n",
    "    \n",
    "    # Create a specific folder path for each ProviderFamily\n",
    "    folder_path = f'./vervotech_json_files/{provider_family}'\n",
    "    \n",
    "    # Save the JSON files in the specific folder\n",
    "    save_json_files_by_vervotechid(df, folder_path)\n"
   ]
  },
  {
   "cell_type": "markdown",
   "id": "8337f34f-b723-45fd-88a8-b9d8caf87b7f",
   "metadata": {},
   "source": [
    "## Function: Return here date and time"
   ]
  },
  {
   "cell_type": "code",
   "execution_count": 45,
   "id": "2db357e1-7664-492c-8af6-315e86997e3b",
   "metadata": {},
   "outputs": [
    {
     "name": "stdout",
     "output_type": "stream",
     "text": [
      "2024-10-25 17:00:10\n"
     ]
    }
   ],
   "source": [
    "def new_data_latest_update_dataTime(table, engine):\n",
    "    query = f\"SELECT MAX(created_at) AS last_update_time FROM {table};\"\n",
    "    df = pd.read_sql(query, engine)\n",
    "    latest_dateTime = df.iloc[0, 0]\n",
    "    return latest_dateTime\n",
    "\n",
    "data = new_data_latest_update_dataTime(table=\"vervotech_hotel_map_new\", engine=engine)\n",
    "print(data)\n"
   ]
  },
  {
   "cell_type": "markdown",
   "id": "4b312b09-7af9-44ac-a54a-de4fffe9c8b2",
   "metadata": {},
   "source": [
    "## Function: Return here only date"
   ]
  },
  {
   "cell_type": "code",
   "execution_count": 50,
   "id": "b6f08c5b-80a9-49b0-bafa-7cd1c06e1d70",
   "metadata": {},
   "outputs": [
    {
     "name": "stdout",
     "output_type": "stream",
     "text": [
      "2024-10-25\n"
     ]
    }
   ],
   "source": [
    "def new_date_latest_update_only_date(table, engine):\n",
    "    query = f\"SELECT MAX(created_at) AS last_update_time FROM {table};\"\n",
    "    df = pd.read_sql(query, engine)\n",
    "    latest_dateTime = df.iloc[0, 0]\n",
    "    latest_date = latest_dateTime.strftime('%Y-%m-%d')\n",
    "    return latest_date\n",
    "\n",
    "data = new_date_latest_update_only_date(table=\"vervotech_hotel_map_new\", engine=engine)\n",
    "print(data)"
   ]
  },
  {
   "cell_type": "code",
   "execution_count": null,
   "id": "984a9287-b94f-4b7c-a089-6c68a41d819b",
   "metadata": {},
   "outputs": [],
   "source": []
  },
  {
   "cell_type": "code",
   "execution_count": null,
   "id": "859ec320-f1b1-42b4-a2b5-555ec8398f76",
   "metadata": {},
   "outputs": [],
   "source": []
  }
 ],
 "metadata": {
  "kernelspec": {
   "display_name": "Python 3 (ipykernel)",
   "language": "python",
   "name": "python3"
  },
  "language_info": {
   "codemirror_mode": {
    "name": "ipython",
    "version": 3
   },
   "file_extension": ".py",
   "mimetype": "text/x-python",
   "name": "python",
   "nbconvert_exporter": "python",
   "pygments_lexer": "ipython3",
   "version": "3.12.7"
  }
 },
 "nbformat": 4,
 "nbformat_minor": 5
}
