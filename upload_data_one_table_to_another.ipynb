{
 "cells": [
  {
   "cell_type": "markdown",
   "id": "bcef87ea-c7d6-4bed-ad74-dba562f788bb",
   "metadata": {},
   "source": [
    "## Import liberay and set connection with database with database cradensial."
   ]
  },
  {
   "cell_type": "code",
   "execution_count": 21,
   "id": "a92a9d58-2059-4c39-aa8b-8add91d274c9",
   "metadata": {},
   "outputs": [],
   "source": [
    "import os\n",
    "from sqlalchemy import create_engine, text, inspect\n",
    "from dotenv import load_dotenv\n",
    "import pandas as pd\n",
    "\n",
    "load_dotenv()\n",
    "\n",
    "# Database connection details\n",
    "db_host = os.getenv('DB_HOST')\n",
    "db_user = os.getenv('DB_USER')\n",
    "db_pass = os.getenv('DB_PASSWORD')\n",
    "db_name = os.getenv('DB_NAME')\n",
    "gill_api = os.getenv('GILL_API_KEY')\n",
    "\n",
    "DATABASE_URL = f\"mysql+pymysql://{db_user}:{db_pass}@{db_host}/{db_name}\"\n",
    "engine = create_engine(DATABASE_URL)"
   ]
  },
  {
   "cell_type": "markdown",
   "id": "9fb92403-0ff0-4a6b-b132-0f84de1a2eb4",
   "metadata": {},
   "source": [
    "### Database Connecting test query"
   ]
  },
  {
   "cell_type": "code",
   "execution_count": 4,
   "id": "a048bad7-a74e-43d4-9b02-f788d2140d1b",
   "metadata": {},
   "outputs": [
    {
     "name": "stdout",
     "output_type": "stream",
     "text": [
      "Connected to database: itt_master_contents\n"
     ]
    }
   ],
   "source": [
    "try:\n",
    "    with engine.connect() as connection:\n",
    "        result = connection.execute(text(\"SELECT DATABASE()\"))\n",
    "        db_name = result.fetchone()[0]\n",
    "        print(f\"Connected to database: {db_name}\")\n",
    "except Exception as e:\n",
    "    print(f\"Error: {e}\")"
   ]
  },
  {
   "cell_type": "markdown",
   "id": "1d3f9a13-22df-46a9-9e0e-519289b4e175",
   "metadata": {},
   "source": [
    "### Print All table list in the database for check connection."
   ]
  },
  {
   "cell_type": "code",
   "execution_count": 8,
   "id": "57914810-bc1f-4ce3-94be-45ef0fde9f5c",
   "metadata": {},
   "outputs": [
    {
     "name": "stdout",
     "output_type": "stream",
     "text": [
      "hotel_info_all\n",
      "hotels_info_with_gidestination_code\n",
      "vervotech_ProviderFamily\n",
      "vervotech_hotel_list\n",
      "vervotech_hotel_map_new\n",
      "vervotech_hotel_map_update\n",
      "vervotech_mapping\n",
      "vervotech_update_data_info\n"
     ]
    }
   ],
   "source": [
    "try:\n",
    "    inspector = inspect(engine)\n",
    "    tables = isnpector.get_table_names()\n",
    "    for table in tables:\n",
    "        print(table)\n",
    "except Execption as e:\n",
    "    print(f\"Error: {e}\")"
   ]
  },
  {
   "cell_type": "markdown",
   "id": "fdd9680c-b527-4bf9-8055-14324c9d9f82",
   "metadata": {},
   "source": [
    "### Function for get table specifiq column. Here get PostalCode, CountryCode, CuntryName"
   ]
  },
  {
   "cell_type": "code",
   "execution_count": 19,
   "id": "690b5408-36d6-4c69-b52f-326ce0edbc71",
   "metadata": {},
   "outputs": [
    {
     "name": "stdout",
     "output_type": "stream",
     "text": [
      "   CountryCode GiDestinationId\n",
      "0           AE            3029\n",
      "1           AE            3029\n",
      "2           AE            3046\n",
      "3           AE            3027\n",
      "4           AE          182814\n",
      "5           AE           28431\n",
      "6           AE            3040\n",
      "7           AE            3037\n",
      "8           AE            3039\n",
      "9           AE           99836\n",
      "10          AE           71919\n",
      "11          AE            3042\n",
      "12          AE            3032\n",
      "13          AE            3045\n",
      "14          AE            3048\n",
      "15          AE            3049\n",
      "16          AE          142303\n"
     ]
    }
   ],
   "source": [
    "def get_data_from_table(table, country_code, engine):\n",
    "    query = f\"SELECT CountryCode, GiDestinationId FROM {table} where GiDestinationId != 'NULL' AND CountryCode = '{country_code}'\"\n",
    "    df = pd.read_sql(query, engine)\n",
    "    return df\n",
    "\n",
    "data = get_data_from_table(table = 'hotels_info_with_gidestination_code', country_code = 'AE', engine=engine)\n",
    "\n",
    "print(data)\n",
    "    \n",
    "    "
   ]
  },
  {
   "cell_type": "code",
   "execution_count": null,
   "id": "0d0aedea-9989-408a-83dc-dbd861ae3ec0",
   "metadata": {},
   "outputs": [],
   "source": []
  },
  {
   "cell_type": "markdown",
   "id": "5fca8b95-3ab5-44ae-adf4-b5182a242c59",
   "metadata": {},
   "source": [
    "### Input data a table where CountryCode = \"AE\""
   ]
  },
  {
   "cell_type": "code",
   "execution_count": 20,
   "id": "b65f49b8-3288-4f2e-8a4d-69c31f24ad05",
   "metadata": {},
   "outputs": [
    {
     "name": "stdout",
     "output_type": "stream",
     "text": [
      "CountryCode updated successfully.\n"
     ]
    }
   ],
   "source": [
    "def update_country_code(df, target_table, engine):\n",
    "    \"\"\" Updates the CountryCode in the target table based on GiDestinationId.\"\"\"\n",
    "\n",
    "    # Iterate over each row in the DataFrame\n",
    "    with engine.begin() as connection:\n",
    "        for _, row in df.iterrows():\n",
    "            country_code = row['CountryCode']\n",
    "            gi_destination_id = row['GiDestinationId']\n",
    "            \n",
    "            query = text(f\"\"\"\n",
    "                UPDATE {target_table}\n",
    "                SET CountryCode = :country_code\n",
    "                WHERE GiDestinationId = :gi_destination_id\n",
    "            \"\"\")\n",
    "            \n",
    "            connection.execute(query, {\n",
    "                \"country_code\": country_code,\n",
    "                \"gi_destination_id\": gi_destination_id\n",
    "            })\n",
    "\n",
    "data = get_data_from_table(\n",
    "    table_name='hotels_info_with_gidestination_code', \n",
    "    country_code='AE', \n",
    "    engine=engine\n",
    ")\n",
    "\n",
    "# Update the 'hotel_info_all' table based on data from the DataFrame\n",
    "update_country_code(data, target_table='hotel_info_all', engine=engine)\n",
    "\n",
    "print(\"CountryCode updated successfully.\")\n"
   ]
  },
  {
   "cell_type": "markdown",
   "id": "46a3d1d0-e430-425f-820d-3dac6a5f5b0b",
   "metadata": {},
   "source": [
    "### Get column_info with where CountryCode = \"AE\""
   ]
  },
  {
   "cell_type": "code",
   "execution_count": 64,
   "id": "af862c53-72e7-4e01-8731-c5dd517c6f35",
   "metadata": {},
   "outputs": [
    {
     "name": "stdout",
     "output_type": "stream",
     "text": [
      "[1356686 1353543 1283949 ...  114932  118590   20200]\n"
     ]
    }
   ],
   "source": [
    "def only_select_column_info(table, column, country_code, engine):\n",
    "    \"\"\"Fetch distinct values from a specified column in a given table.\"\"\"\n",
    "    try:\n",
    "        query = f\"SELECT {column} FROM {table} WHERE StatusUpdateHotelInfo != 'Done Json' OR StatusUpdateHotelInfo IS NULL AND CountryCode = '{country_code}';\"\n",
    "        df = pd.read_sql(query, engine)\n",
    "        \n",
    "\n",
    "        unique_values = df[column].unique()\n",
    "        # print(len(uniqe_value))\n",
    "        \n",
    "        # len_list = len(list)\n",
    "        # print(len_list)\n",
    "\n",
    "        all_values = df[column].tolist()\n",
    "        \n",
    "        # Count unique values\n",
    "        unique_values = df[column].unique()\n",
    "        # print(f\"Number of unique values: {len(unique_values)}\")\n",
    "        \n",
    "        # # Find duplicates\n",
    "        # duplicates = df[df[column].duplicated()][column].tolist()  \n",
    "        # duplicate_counts = df[column].value_counts()[df[column].value_counts() > 1]  \n",
    "\n",
    "        # print(f\"Total values: {len(all_values)}\")\n",
    "        # print(f\"Duplicate values: {duplicates}\")\n",
    "        # print(f\"Duplicate counts:\\n{duplicate_counts}\")\n",
    "\n",
    "        return unique_values\n",
    "    except Exception as e:\n",
    "        print(f\"Error fetching column info: {e}\")\n",
    "        return [], pd.Series()\n",
    "        \n",
    "data = only_select_column_info('hotel_info_all', 'SystemId', 'AE', engine)\n",
    "print(data)"
   ]
  },
  {
   "cell_type": "markdown",
   "id": "87e9d95d-a7bd-4775-837a-4b845bf420a0",
   "metadata": {},
   "source": [
    "### Check all unique key with count id."
   ]
  },
  {
   "cell_type": "code",
   "execution_count": null,
   "id": "3334a4e8-36ef-4a9d-bb7f-2b4dac38549e",
   "metadata": {},
   "outputs": [],
   "source": [
    "data = only_column_info('hotel_info_all', 'SystemId', 'AE', engine)\n",
    "\n",
    "for _, i in enumerate(data):\n",
    "    print(f\"index: {_} systemId: {i} \")"
   ]
  },
  {
   "cell_type": "code",
   "execution_count": 75,
   "id": "ede1d3c0-8437-4660-8820-9ddb4a7f67b0",
   "metadata": {},
   "outputs": [],
   "source": [
    "import time\n",
    "import requests\n",
    "import json\n",
    "from datetime import datetime"
   ]
  },
  {
   "cell_type": "code",
   "execution_count": 76,
   "id": "56962185-1a54-4396-9666-cbc3eebeef86",
   "metadata": {},
   "outputs": [],
   "source": [
    "def fetch_hotel_info_by_systemId(systemId):\n",
    "    \"\"\"Fetch hotel information by system ID using synchronous requests.\"\"\"\n",
    "    url = \"https://api.giinfotech.ae/api/Hotel/HotelInfo\"\n",
    "    payload = json.dumps({\"hotelCode\": str(systemId)})\n",
    "    headers = {\n",
    "        'ApiKey': gill_api,\n",
    "        'Content-Type': 'application/json'\n",
    "    }\n",
    "\n",
    "    try:\n",
    "        response = requests.post(url, headers=headers, data=payload)\n",
    "        if response.status_code == 200:\n",
    "            response_data = response.json()\n",
    "            if response_data[\"isSuccess\"]:\n",
    "                hotel_info = response_data[\"hotelInformation\"]\n",
    "                return hotel_info\n",
    "            else:\n",
    "                print(f\"No hotel information found for systemID: {systemId}\")\n",
    "        else:\n",
    "            print(f\"Failed to fetch data for systemID {systemId}: {response.status_code}\")\n",
    "    except Exception as e:\n",
    "        print(f\"Error fetching data for system ID {systemId}: {e}\")\n",
    "    \n",
    "    return []"
   ]
  },
  {
   "cell_type": "code",
   "execution_count": 77,
   "id": "f10d7851-5fb9-498b-ba57-999cb518844d",
   "metadata": {},
   "outputs": [],
   "source": [
    "def update_hotel_info(systemId, hotel_info_json_data, status_update, engine):\n",
    "    \"\"\"Update hotel information in the database.\"\"\"\n",
    "\n",
    "    if isinstance(hotel_info_json_data, str):\n",
    "        hotel_info_json_data = json.loads(hotel_info_json_data)\n",
    "    \n",
    "    country_code = hotel_info_json_data.get(\"address\", {}).get(\"countryCode\")\n",
    "    zip_code = hotel_info_json_data.get(\"address\", {}).get(\"zipCode\")\n",
    "    country_name = hotel_info_json_data.get(\"address\", {}).get(\"countryName\")\n",
    "    \n",
    "    query = text(\"\"\"\n",
    "        UPDATE hotel_info_all\n",
    "        SET HotelInfo = :HotelInfo,\n",
    "            StatusUpdateHotelInfo = :StatusUpdateHotelInfo,\n",
    "            CountryCode = :CountryCode,\n",
    "            ZipCode = :ZipCode,\n",
    "            CountryName = :CountryName\n",
    "        WHERE SystemId = :SystemId\n",
    "    \"\"\")\n",
    "    \n",
    "    with engine.begin() as connection:\n",
    "        connection.execute(query, {\n",
    "            \"HotelInfo\": json.dumps(hotel_info_json_data),\n",
    "            \"StatusUpdateHotelInfo\": status_update,\n",
    "            \"CountryCode\": country_code,\n",
    "            \"ZipCode\": zip_code,\n",
    "            \"CountryName\": country_name,\n",
    "            \"SystemId\": systemId\n",
    "        })\n",
    "        print(f\"Updated SystemId: {systemId} with Status: {status_update}.\")"
   ]
  },
  {
   "cell_type": "code",
   "execution_count": 78,
   "id": "03f3f618-6abe-429b-9acf-3a378869c763",
   "metadata": {},
   "outputs": [],
   "source": [
    "\n",
    "def main():\n",
    "    start_time = time.time()\n",
    "    formatted_start_time = datetime.fromtimestamp(start_time).strftime(\"%I:%M %p\")  \n",
    "    print(f\"Start Time: {formatted_start_time}\")\n",
    "\n",
    "    table = 'hotel_info_all'\n",
    "    system_ids = only_select_column_info('hotel_info_all', 'SystemId', 'AE', engine)\n",
    "\n",
    "    for index, systemId in enumerate(system_ids, start=1):\n",
    "        hotel_info = fetch_hotel_info_by_systemId(systemId)\n",
    "        if hotel_info:\n",
    "            status_update = \"Done Json\"\n",
    "            update_hotel_info(systemId, json.dumps(hotel_info), status_update, engine)\n",
    "            print(f\"Update system Id Done: No:{index} ----- {systemId}\")\n",
    "        else:\n",
    "            status_update = \"Not found json\"\n",
    "            update_hotel_info(systemId, json.dumps({}), status_update, engine)\n",
    "            print(f\"Update system Not found json: No:{index} ---------------------------------------------------------------- {systemId}\")\n",
    "\n",
    "    end_time = time.time()  \n",
    "    formatted_end_time = datetime.fromtimestamp(end_time).strftime(\"%I:%M %p\")\n",
    "    print(f\"END time: {formatted_end_time}\")\n",
    "\n",
    "    total_time = end_time - start_time\n",
    "\n",
    "    # print(f\"Total time taken for updates: {total_time:.2f} seconds\")\n",
    "    # Convert total time to hours, minutes, and seconds\n",
    "\n",
    "    hours = int(total_time // 3600)\n",
    "    minutes = int((total_time % 3600) // 60)\n",
    "    seconds = int(total_time % 60)\n",
    "\n",
    "    print(f\"Total time taken for updates: {hours} hours, {minutes} minutes, {seconds} seconds\")\n",
    "\n"
   ]
  },
  {
   "cell_type": "code",
   "execution_count": null,
   "id": "8d2c5f73-ece5-4e8f-aaa6-73f338186a3e",
   "metadata": {},
   "outputs": [
    {
     "name": "stdout",
     "output_type": "stream",
     "text": [
      "Start Time: 03:04 AM\n",
      "Updated SystemId: 1356686 with Status: Not found json.\n",
      "Update system Not found json: No:1 ---------------------------------------------------------------- 1356686\n",
      "Updated SystemId: 1353543 with Status: Not found json.\n",
      "Update system Not found json: No:2 ---------------------------------------------------------------- 1353543\n",
      "Updated SystemId: 1283949 with Status: Not found json.\n",
      "Update system Not found json: No:3 ---------------------------------------------------------------- 1283949\n",
      "Updated SystemId: 547689 with Status: Not found json.\n",
      "Update system Not found json: No:4 ---------------------------------------------------------------- 547689\n",
      "Updated SystemId: 286740 with Status: Not found json.\n",
      "Update system Not found json: No:5 ---------------------------------------------------------------- 286740\n",
      "Updated SystemId: 377649 with Status: Not found json.\n",
      "Update system Not found json: No:6 ---------------------------------------------------------------- 377649\n",
      "Updated SystemId: 315501 with Status: Not found json.\n",
      "Update system Not found json: No:7 ---------------------------------------------------------------- 315501\n",
      "Updated SystemId: 846495 with Status: Not found json.\n",
      "Update system Not found json: No:8 ---------------------------------------------------------------- 846495\n",
      "Updated SystemId: 1114605 with Status: Not found json.\n",
      "Update system Not found json: No:9 ---------------------------------------------------------------- 1114605\n",
      "Updated SystemId: 513841 with Status: Not found json.\n",
      "Update system Not found json: No:10 ---------------------------------------------------------------- 513841\n",
      "Updated SystemId: 1282219 with Status: Not found json.\n",
      "Update system Not found json: No:11 ---------------------------------------------------------------- 1282219\n",
      "Updated SystemId: 772403 with Status: Not found json.\n",
      "Update system Not found json: No:12 ---------------------------------------------------------------- 772403\n",
      "Updated SystemId: 1338942 with Status: Not found json.\n",
      "Update system Not found json: No:13 ---------------------------------------------------------------- 1338942\n",
      "Updated SystemId: 485367 with Status: Not found json.\n",
      "Update system Not found json: No:14 ---------------------------------------------------------------- 485367\n",
      "Updated SystemId: 1401024 with Status: Not found json.\n",
      "Update system Not found json: No:15 ---------------------------------------------------------------- 1401024\n",
      "Updated SystemId: 67004 with Status: Done Json.\n",
      "Update system Id Done: No:16 ----- 67004\n"
     ]
    }
   ],
   "source": [
    "\n",
    "\n",
    "if __name__ == \"__main__\":\n",
    "    main()\n"
   ]
  },
  {
   "cell_type": "code",
   "execution_count": null,
   "id": "74fd971f-97d8-47a4-9336-f400f611661e",
   "metadata": {},
   "outputs": [],
   "source": []
  }
 ],
 "metadata": {
  "kernelspec": {
   "display_name": "Python 3 (ipykernel)",
   "language": "python",
   "name": "python3"
  },
  "language_info": {
   "codemirror_mode": {
    "name": "ipython",
    "version": 3
   },
   "file_extension": ".py",
   "mimetype": "text/x-python",
   "name": "python",
   "nbconvert_exporter": "python",
   "pygments_lexer": "ipython3",
   "version": "3.12.0"
  }
 },
 "nbformat": 4,
 "nbformat_minor": 5
}
