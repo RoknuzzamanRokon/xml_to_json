{
 "cells": [
  {
   "cell_type": "markdown",
   "id": "0109d24e-3b95-4419-84e7-e516babc8338",
   "metadata": {},
   "source": [
    "## Import libarey for create json file "
   ]
  },
  {
   "cell_type": "code",
   "execution_count": 1,
   "id": "b4a455d1",
   "metadata": {
    "vscode": {
     "languageId": "plaintext"
    }
   },
   "outputs": [],
   "source": [
    "import requests\n",
    "import xmltodict\n",
    "import json"
   ]
  },
  {
   "cell_type": "markdown",
   "id": "0f6973e9-3d6b-4ba2-b69f-9adeb22e082a",
   "metadata": {},
   "source": [
    "### Define the URL for the XML data"
   ]
  },
  {
   "cell_type": "code",
   "execution_count": 2,
   "id": "f626a1c1-b5a6-4909-8c26-5b2519a5a8d7",
   "metadata": {},
   "outputs": [],
   "source": [
    "url = \"https://affiliatefeed.agoda.com/datafeeds/feed/getfeed?apikey=3ce93b4c-3bb4-4f0f-91c9-6e861c2bf7fb&mhotel_id=1000052&feed_id=19\"\n",
    "\n",
    "# Fetch the XML data from the URL\n",
    "response = requests.get(url)"
   ]
  },
  {
   "cell_type": "code",
   "execution_count": null,
   "id": "94df7470-2629-4ef8-8ead-0b37dd74e315",
   "metadata": {},
   "outputs": [],
   "source": [
    "if response.status_code == 200:\n",
    "    # Parse XML to OrderedDict\n",
    "    xml_data = response.content\n",
    "    data_dict = xmltodict.parse(xml_data)\n",
    "    \n",
    "    # Convert OrderedDict to JSON\n",
    "    json_data = json.dumps(data_dict, indent=4)\n",
    "    \n",
    "    # Print JSON data\n",
    "    # print(json_data)\n",
    "else:\n",
    "    print(\"Failed to retrieve XML data\")"
   ]
  },
  {
   "cell_type": "code",
   "execution_count": null,
   "id": "e36c3cc3-a787-4c6d-a222-f08a9cf9eeca",
   "metadata": {},
   "outputs": [],
   "source": [
    "if response.status_code == 200:\n",
    "    xml_data = response.content\n",
    "    print(xml_data)"
   ]
  },
  {
   "cell_type": "code",
   "execution_count": 5,
   "id": "d702ac82-9381-4954-a930-b351987f4184",
   "metadata": {},
   "outputs": [],
   "source": [
    "data_dict = xmltodict.parse(xml_data)\n",
    "\n",
    "# # Convert OrderedDict to JSON\n",
    "# json_data = json.dumps(data_dict, indent=4)\n",
    "# print(json_data)"
   ]
  },
  {
   "cell_type": "markdown",
   "id": "ecddf8cf-1312-4000-86f7-45fc08546d6f",
   "metadata": {},
   "source": [
    "#### Here get dynamic data "
   ]
  },
  {
   "cell_type": "code",
   "execution_count": 54,
   "id": "21c5c069-86f7-453e-a41d-a4f0d6532b78",
   "metadata": {
    "scrolled": true
   },
   "outputs": [
    {
     "name": "stdout",
     "output_type": "stream",
     "text": [
      "{'hotel_id': '1000052', 'name': 'Pousada Aquarela Pirenopolis', 'name_local': 'Pousada Aquarela Pirenopolis', 'hotel_formerly_name': 'Pousada Aquarela Pirenopolis', 'brand_text': 'NULL', 'property_type': 'Hotel', 'star_rating': '2.0', 'chain': 'NULL', 'brand': 'NULL', 'logo': 'NULL', 'primary_photo': 'NULL', 'review_rating': {'source': 'NULL', 'number_of_reviews': '2', 'rating_average': '6.8', 'popularity_score': '971296'}, 'policies': {'checkin': {'begin_time': 'NULL', 'end_time': 'NULL', 'instructions': 'NULL', 'min_age': 'NULL'}, 'checkout': {'time': 'NULL'}, 'fees': {'optional': 'NULL'}, 'know_before_you_go': 'NULL', 'pets': ['Pets not allowed'], 'remark': 'NULL', 'child_and_extra_bed_policy': {'infant_age': '0', 'children_age_from': '0', 'children_age_to': '5', 'children_stay_free': 'true', 'min_guest_age': '0'}, 'nationality_restrictions': None}, 'address': {'latitude': '-15.844820022583008', 'longitude': '-48.960330963134766', 'address_line_1': 'Rua 07, Quadra 29, Lote 37 - Bairro Alto do Carmo', 'address_line_2': None, 'city': 'Pirenopolis', 'state': 'Goias', 'country': 'Brazil', 'country_code': 'NULL', 'postal_code': '72980-000', 'full_address': 'NULL', 'google_map_site_link': 'NULL', 'local_lang': {'latitude': '-15.844820022583008', 'longitude': '-48.960330963134766', 'address_line_1': None, 'address_line_2': None, 'city': 'Pirenópolis', 'state': 'Goiás', 'country': 'Brasil', 'country_code': 'NULL', 'postal_code': None, 'full_address': 'NULL', 'google_map_site_link': 'NULL'}, 'mapping': {'continent_id': 'NULL', 'country_id': 'NULL', 'province_id': 'NULL', 'state_id': 'NULL', 'city_id': 'NULL', 'area_id': 'NULL'}}, 'contacts': {'phone_numbers': [], 'fax': 'NULL', 'email_address': 'NULL', 'website': 'NULL'}, 'descriptions': [{'title': 'NULL', 'text': 'NULL'}], 'room_type': [{'room_id': '210486779', 'title': 'Quadruple Standard', 'title_lang': 'Quadruple Standard', 'room_pic': 'https://q-xx.bstatic.com/xdata/images/hotel/max500/291642468.jpg?k=75627f62444a2eb0da567443b0b875d121aff01b362999fda7e90ae2d878475f&o=&s=312x', 'description': 'NULL', 'max_allowed': {'total': 6, 'adults': 6, 'children': 'NULL', 'infant': '0'}, 'no_of_room': '0', 'room_size': '0', 'bed_type': [{'description': None, 'configuration': [{'quantity': 1, 'size': 'Unknown', 'type': 'UnknownBed'}], 'max_extrabeds': '1'}], 'shared_bathroom': 'False'}, {'room_id': '364776733', 'title': 'Quadruple Standard', 'title_lang': 'Quadruple Standard', 'room_pic': 'https://q-xx.bstatic.com/xdata/images/hotel/max500/291642468.jpg?k=75627f62444a2eb0da567443b0b875d121aff01b362999fda7e90ae2d878475f&o=&s=312x', 'description': 'NULL', 'max_allowed': {'total': 6, 'adults': 6, 'children': 'NULL', 'infant': '0'}, 'no_of_room': '0', 'room_size': '0', 'bed_type': [{'description': None, 'configuration': [{'quantity': 1, 'size': 'Unknown', 'type': 'UnknownBed'}], 'max_extrabeds': '1'}], 'shared_bathroom': 'False'}, {'room_id': '373864710', 'title': 'Quadruple Standard', 'title_lang': 'Quadruple Standard', 'room_pic': 'https://q-xx.bstatic.com/xdata/images/hotel/max500/291642468.jpg?k=75627f62444a2eb0da567443b0b875d121aff01b362999fda7e90ae2d878475f&o=&s=312x', 'description': 'NULL', 'max_allowed': {'total': 6, 'adults': 6, 'children': 'NULL', 'infant': '0'}, 'no_of_room': '0', 'room_size': '0', 'bed_type': [{'description': None, 'configuration': [{'quantity': 1, 'size': 'Unknown', 'type': 'UnknownBed'}], 'max_extrabeds': '1'}], 'shared_bathroom': 'False'}, {'room_id': '565299968', 'title': 'Room Assigned on Arrival', 'title_lang': 'Room Assigned on Arrival', 'room_pic': 'https://q-xx.bstatic.com/xdata/images/hotel/max500/291642468.jpg?k=75627f62444a2eb0da567443b0b875d121aff01b362999fda7e90ae2d878475f&o=&s=312x', 'description': 'NULL', 'max_allowed': {'total': 2, 'adults': 2, 'children': 'NULL', 'infant': '0'}, 'no_of_room': '0', 'room_size': '0', 'bed_type': [{'description': None, 'configuration': [{'quantity': 1, 'size': 'Unknown', 'type': 'UnknownBed'}], 'max_extrabeds': '1'}], 'shared_bathroom': 'False'}, {'room_id': '364776728', 'title': 'Room Assigned on Arrival', 'title_lang': 'Room Assigned on Arrival', 'room_pic': 'https://q-xx.bstatic.com/xdata/images/hotel/max500/291642468.jpg?k=75627f62444a2eb0da567443b0b875d121aff01b362999fda7e90ae2d878475f&o=&s=312x', 'description': 'NULL', 'max_allowed': {'total': 2, 'adults': 2, 'children': 'NULL', 'infant': '0'}, 'no_of_room': '0', 'room_size': '0', 'bed_type': [{'description': None, 'configuration': [{'quantity': 1, 'size': 'Unknown', 'type': 'UnknownBed'}], 'max_extrabeds': '1'}], 'shared_bathroom': 'False'}, {'room_id': '373864707', 'title': 'Room Assigned on Arrival', 'title_lang': 'Room Assigned on Arrival', 'room_pic': 'https://q-xx.bstatic.com/xdata/images/hotel/max500/291642468.jpg?k=75627f62444a2eb0da567443b0b875d121aff01b362999fda7e90ae2d878475f&o=&s=312x', 'description': 'NULL', 'max_allowed': {'total': 2, 'adults': 2, 'children': 'NULL', 'infant': '0'}, 'no_of_room': '0', 'room_size': '0', 'bed_type': [{'description': None, 'configuration': [{'quantity': 1, 'size': 'Unknown', 'type': 'UnknownBed'}], 'max_extrabeds': '1'}], 'shared_bathroom': 'False'}, {'room_id': '147238875', 'title': 'Triple Room with Private Bathroom', 'title_lang': 'Triple Room with Private Bathroom', 'room_pic': 'https://q-xx.bstatic.com/xdata/images/hotel/max500/291906250.jpg?k=5f5cb0898a8ccdafd25b26827e85671e8e75df5bc04276e83d903dc43d84854a&o=&s=312x', 'description': 'NULL', 'max_allowed': {'total': 3, 'adults': 3, 'children': 'NULL', 'infant': '0'}, 'no_of_room': '0', 'room_size': '1.11', 'bed_type': [{'description': None, 'configuration': [{'quantity': 1, 'size': 'Unknown', 'type': 'UnknownBed'}], 'max_extrabeds': '0'}], 'shared_bathroom': 'False'}, {'room_id': '364776737', 'title': 'SHARED ROOM FEMALE DORMITORY', 'title_lang': 'SHARED ROOM FEMALE DORMITORY', 'room_pic': 'https://q-xx.bstatic.com/xdata/images/hotel/max500/291642468.jpg?k=75627f62444a2eb0da567443b0b875d121aff01b362999fda7e90ae2d878475f&o=&s=312x', 'description': 'NULL', 'max_allowed': {'total': 2, 'adults': 2, 'children': 'NULL', 'infant': '0'}, 'no_of_room': '0', 'room_size': '0', 'bed_type': [{'description': None, 'configuration': [{'quantity': 1, 'size': 'Unknown', 'type': 'UnknownBed'}], 'max_extrabeds': '1'}], 'shared_bathroom': 'False'}, {'room_id': '373864711', 'title': 'SHARED ROOM FEMALE DORMITORY', 'title_lang': 'SHARED ROOM FEMALE DORMITORY', 'room_pic': 'https://q-xx.bstatic.com/xdata/images/hotel/max500/291642468.jpg?k=75627f62444a2eb0da567443b0b875d121aff01b362999fda7e90ae2d878475f&o=&s=312x', 'description': 'NULL', 'max_allowed': {'total': 2, 'adults': 2, 'children': 'NULL', 'infant': '0'}, 'no_of_room': '0', 'room_size': '0', 'bed_type': [{'description': None, 'configuration': [{'quantity': 1, 'size': 'Unknown', 'type': 'UnknownBed'}], 'max_extrabeds': '1'}], 'shared_bathroom': 'False'}, {'room_id': '364776743', 'title': 'Triple Room Suite', 'title_lang': 'Triple Room Suite', 'room_pic': 'https://q-xx.bstatic.com/xdata/images/hotel/max500/291642468.jpg?k=75627f62444a2eb0da567443b0b875d121aff01b362999fda7e90ae2d878475f&o=&s=312x', 'description': 'NULL', 'max_allowed': {'total': 2, 'adults': 2, 'children': 'NULL', 'infant': '0'}, 'no_of_room': '0', 'room_size': '0', 'bed_type': [{'description': None, 'configuration': [{'quantity': 1, 'size': 'Unknown', 'type': 'UnknownBed'}], 'max_extrabeds': '1'}], 'shared_bathroom': 'False'}, {'room_id': '373864715', 'title': 'Triple Room Suite', 'title_lang': 'Triple Room Suite', 'room_pic': 'https://q-xx.bstatic.com/xdata/images/hotel/max500/291642468.jpg?k=75627f62444a2eb0da567443b0b875d121aff01b362999fda7e90ae2d878475f&o=&s=312x', 'description': 'NULL', 'max_allowed': {'total': 2, 'adults': 2, 'children': 'NULL', 'infant': '0'}, 'no_of_room': '0', 'room_size': '0', 'bed_type': [{'description': None, 'configuration': [{'quantity': 1, 'size': 'Unknown', 'type': 'UnknownBed'}], 'max_extrabeds': '1'}], 'shared_bathroom': 'False'}, {'room_id': '32933497', 'title': 'Triple Room', 'title_lang': 'Triple Room', 'room_pic': 'https://q-xx.bstatic.com/xdata/images/hotel/max500/291642468.jpg?k=75627f62444a2eb0da567443b0b875d121aff01b362999fda7e90ae2d878475f&o=&s=312x', 'description': 'NULL', 'max_allowed': {'total': 3, 'adults': 3, 'children': 'NULL', 'infant': '0'}, 'no_of_room': '0', 'room_size': '0', 'bed_type': [{'description': None, 'configuration': [{'quantity': 1, 'size': 'Unknown', 'type': 'UnknownBed'}], 'max_extrabeds': '0'}], 'shared_bathroom': 'False'}, {'room_id': '364776742', 'title': 'Triple Room', 'title_lang': 'Triple Room', 'room_pic': 'https://q-xx.bstatic.com/xdata/images/hotel/max500/291642468.jpg?k=75627f62444a2eb0da567443b0b875d121aff01b362999fda7e90ae2d878475f&o=&s=312x', 'description': 'NULL', 'max_allowed': {'total': 3, 'adults': 3, 'children': 'NULL', 'infant': '0'}, 'no_of_room': '0', 'room_size': '0', 'bed_type': [{'description': None, 'configuration': [{'quantity': 1, 'size': 'Unknown', 'type': 'UnknownBed'}], 'max_extrabeds': '0'}], 'shared_bathroom': 'False'}, {'room_id': '373864714', 'title': 'Triple Room', 'title_lang': 'Triple Room', 'room_pic': 'https://q-xx.bstatic.com/xdata/images/hotel/max500/291642468.jpg?k=75627f62444a2eb0da567443b0b875d121aff01b362999fda7e90ae2d878475f&o=&s=312x', 'description': 'NULL', 'max_allowed': {'total': 3, 'adults': 3, 'children': 'NULL', 'infant': '0'}, 'no_of_room': '0', 'room_size': '0', 'bed_type': [{'description': None, 'configuration': [{'quantity': 1, 'size': 'Unknown', 'type': 'UnknownBed'}], 'max_extrabeds': '0'}], 'shared_bathroom': 'False'}, {'room_id': '147238876', 'title': 'Quadruple Room with Private Bathroom', 'title_lang': 'Quadruple Room with Private Bathroom', 'room_pic': 'https://q-xx.bstatic.com/xdata/images/hotel/max500/291906250.jpg?k=5f5cb0898a8ccdafd25b26827e85671e8e75df5bc04276e83d903dc43d84854a&o=&s=312x', 'description': 'NULL', 'max_allowed': {'total': 4, 'adults': 4, 'children': 'NULL', 'infant': '0'}, 'no_of_room': '0', 'room_size': '1.49', 'bed_type': [{'description': None, 'configuration': [{'quantity': 1, 'size': 'Unknown', 'type': 'UnknownBed'}], 'max_extrabeds': '0'}], 'shared_bathroom': 'False'}, {'room_id': '364776739', 'title': 'Suite Casal', 'title_lang': 'Suite Casal', 'room_pic': 'https://q-xx.bstatic.com/xdata/images/hotel/max500/291642468.jpg?k=75627f62444a2eb0da567443b0b875d121aff01b362999fda7e90ae2d878475f&o=&s=312x', 'description': 'NULL', 'max_allowed': {'total': 2, 'adults': 2, 'children': 'NULL', 'infant': '0'}, 'no_of_room': '0', 'room_size': '0', 'bed_type': [{'description': None, 'configuration': [{'quantity': 1, 'size': 'Unknown', 'type': 'UnknownBed'}], 'max_extrabeds': '1'}], 'shared_bathroom': 'False'}, {'room_id': '373864712', 'title': 'Suite Casal', 'title_lang': 'Suite Casal', 'room_pic': 'https://q-xx.bstatic.com/xdata/images/hotel/max500/291642468.jpg?k=75627f62444a2eb0da567443b0b875d121aff01b362999fda7e90ae2d878475f&o=&s=312x', 'description': 'NULL', 'max_allowed': {'total': 2, 'adults': 2, 'children': 'NULL', 'infant': '0'}, 'no_of_room': '0', 'room_size': '0', 'bed_type': [{'description': None, 'configuration': [{'quantity': 1, 'size': 'Unknown', 'type': 'UnknownBed'}], 'max_extrabeds': '1'}], 'shared_bathroom': 'False'}, {'room_id': '210486781', 'title': 'Double Standard', 'title_lang': 'Double Standard', 'room_pic': 'https://q-xx.bstatic.com/xdata/images/hotel/max500/291642468.jpg?k=75627f62444a2eb0da567443b0b875d121aff01b362999fda7e90ae2d878475f&o=&s=312x', 'description': 'NULL', 'max_allowed': {'total': 3, 'adults': 3, 'children': 'NULL', 'infant': '0'}, 'no_of_room': '0', 'room_size': '0', 'bed_type': [{'description': None, 'configuration': [{'quantity': 1, 'size': 'Unknown', 'type': 'UnknownBed'}], 'max_extrabeds': '1'}], 'shared_bathroom': 'False'}, {'room_id': '364776730', 'title': 'Double Standard', 'title_lang': 'Double Standard', 'room_pic': 'https://q-xx.bstatic.com/xdata/images/hotel/max500/291642468.jpg?k=75627f62444a2eb0da567443b0b875d121aff01b362999fda7e90ae2d878475f&o=&s=312x', 'description': 'NULL', 'max_allowed': {'total': 3, 'adults': 3, 'children': 'NULL', 'infant': '0'}, 'no_of_room': '0', 'room_size': '0', 'bed_type': [{'description': None, 'configuration': [{'quantity': 1, 'size': 'Unknown', 'type': 'UnknownBed'}], 'max_extrabeds': '1'}], 'shared_bathroom': 'False'}, {'room_id': '373864709', 'title': 'Double Standard', 'title_lang': 'Double Standard', 'room_pic': 'https://q-xx.bstatic.com/xdata/images/hotel/max500/291642468.jpg?k=75627f62444a2eb0da567443b0b875d121aff01b362999fda7e90ae2d878475f&o=&s=312x', 'description': 'NULL', 'max_allowed': {'total': 3, 'adults': 3, 'children': 'NULL', 'infant': '0'}, 'no_of_room': '0', 'room_size': '0', 'bed_type': [{'description': None, 'configuration': [{'quantity': 1, 'size': 'Unknown', 'type': 'UnknownBed'}], 'max_extrabeds': '1'}], 'shared_bathroom': 'False'}, {'room_id': '147238873', 'title': 'Double Room with Private Bathroom', 'title_lang': 'Double Room with Private Bathroom', 'room_pic': 'https://q-xx.bstatic.com/xdata/images/hotel/max500/291918538.jpg?k=3b8d8ec7abb464009f1138143c71e7925bb9ad4e307840da55ddd67673ae470c&o=&s=312x', 'description': 'NULL', 'max_allowed': {'total': 2, 'adults': 2, 'children': 'NULL', 'infant': '0'}, 'no_of_room': '0', 'room_size': '1.11', 'bed_type': [{'description': None, 'configuration': [{'quantity': 1, 'size': 'Unknown', 'type': 'UnknownBed'}], 'max_extrabeds': '0'}], 'shared_bathroom': 'False'}, {'room_id': '364776741', 'title': 'Suite Quadruple Room', 'title_lang': 'Suite Quadruple Room', 'room_pic': 'https://q-xx.bstatic.com/xdata/images/hotel/max500/291642468.jpg?k=75627f62444a2eb0da567443b0b875d121aff01b362999fda7e90ae2d878475f&o=&s=312x', 'description': 'NULL', 'max_allowed': {'total': 2, 'adults': 2, 'children': 'NULL', 'infant': '0'}, 'no_of_room': '0', 'room_size': '0', 'bed_type': [{'description': None, 'configuration': [{'quantity': 1, 'size': 'Unknown', 'type': 'UnknownBed'}], 'max_extrabeds': '1'}], 'shared_bathroom': 'False'}, {'room_id': '373864713', 'title': 'Suite Quadruple Room', 'title_lang': 'Suite Quadruple Room', 'room_pic': 'https://q-xx.bstatic.com/xdata/images/hotel/max500/291642468.jpg?k=75627f62444a2eb0da567443b0b875d121aff01b362999fda7e90ae2d878475f&o=&s=312x', 'description': 'NULL', 'max_allowed': {'total': 2, 'adults': 2, 'children': 'NULL', 'infant': '0'}, 'no_of_room': '0', 'room_size': '0', 'bed_type': [{'description': None, 'configuration': [{'quantity': 1, 'size': 'Unknown', 'type': 'UnknownBed'}], 'max_extrabeds': '1'}], 'shared_bathroom': 'False'}], 'spoken_languages': [], 'amenities': [], 'facilities': [{'type': 'Portuguese', 'title': 'Portuguese', 'icon': 'Portuguese'}, {'type': 'Free Wi-Fi in all rooms!', 'title': 'Free Wi-Fi in all rooms!', 'icon': 'Free Wi-Fi in all rooms!'}, {'type': 'Internet services', 'title': 'Internet services', 'icon': 'Internet services'}, {'type': 'Wi-Fi in public areas', 'title': 'Wi-Fi in public areas', 'icon': 'Wi-Fi in public areas'}, {'type': 'Garden', 'title': 'Garden', 'icon': 'Garden'}, {'type': 'Solarium', 'title': 'Solarium', 'icon': 'Solarium'}, {'type': 'Spa', 'title': 'Spa', 'icon': 'Spa'}, {'type': 'Anti-viral cleaning products', 'title': 'Anti-viral cleaning products', 'icon': 'Anti-viral cleaning products'}, {'type': 'Body thermometer', 'title': 'Body thermometer', 'icon': 'Body thermometer'}, {'type': 'Cashless payment service', 'title': 'Cashless payment service', 'icon': 'Cashless payment service'}, {'type': 'Doctor/nurse on call', 'title': 'Doctor/nurse on call', 'icon': 'Doctor/nurse on call'}, {'type': 'First aid kit', 'title': 'First aid kit', 'icon': 'First aid kit'}, {'type': 'Free face masks', 'title': 'Free face masks', 'icon': 'Free face masks'}, {'type': 'Guest rooms seal after sanitization', 'title': 'Guest rooms seal after sanitization', 'icon': 'Guest rooms seal after sanitization'}, {'type': 'Hand sanitizer', 'title': 'Hand sanitizer', 'icon': 'Hand sanitizer'}, {'type': 'Hot water linen and laundry washing', 'title': 'Hot water linen and laundry washing', 'icon': 'Hot water linen and laundry washing'}, {'type': 'Individually-wrapped food options', 'title': 'Individually-wrapped food options', 'icon': 'Individually-wrapped food options'}, {'type': 'Physical distancing of at least 1 meter', 'title': 'Physical distancing of at least 1 meter', 'icon': 'Physical distancing of at least 1 meter'}, {'type': 'Professional-grade sanitizing services', 'title': 'Professional-grade sanitizing services', 'icon': 'Professional-grade sanitizing services'}, {'type': 'Protective screens in common areas', 'title': 'Protective screens in common areas', 'icon': 'Protective screens in common areas'}, {'type': 'Room sanitization opt-out available', 'title': 'Room sanitization opt-out available', 'icon': 'Room sanitization opt-out available'}, {'type': 'Rooms sanitized between stays', 'title': 'Rooms sanitized between stays', 'icon': 'Rooms sanitized between stays'}, {'type': 'Safe dining setup', 'title': 'Safe dining setup', 'icon': 'Safe dining setup'}, {'type': 'Sanitized kitchen and tableware items', 'title': 'Sanitized kitchen and tableware items', 'icon': 'Sanitized kitchen and tableware items'}, {'type': 'Shared stationery removed', 'title': 'Shared stationery removed', 'icon': 'Shared stationery removed'}, {'type': 'Staff trained in safety protocol', 'title': 'Staff trained in safety protocol', 'icon': 'Staff trained in safety protocol'}, {'type': 'Temperature check for guests and staff', 'title': 'Temperature check for guests and staff', 'icon': 'Temperature check for guests and staff'}, {'type': 'Air conditioning in public area', 'title': 'Air conditioning in public area', 'icon': 'Air conditioning in public area'}, {'type': 'Contactless check-in/out', 'title': 'Contactless check-in/out', 'icon': 'Contactless check-in/out'}, {'type': 'Invoice provided', 'title': 'Invoice provided', 'icon': 'Invoice provided'}, {'type': 'Shared lounge/TV area', 'title': 'Shared lounge/TV area', 'icon': 'Shared lounge/TV area'}, {'type': 'Smoking area', 'title': 'Smoking area', 'icon': 'Smoking area'}, {'type': 'Terrace', 'title': 'Terrace', 'icon': 'Terrace'}, {'type': 'Family room', 'title': 'Family room', 'icon': 'Family room'}, {'type': 'Kids meal', 'title': 'Kids meal', 'icon': 'Kids meal'}, {'type': 'Check-in/out [private]', 'title': 'Check-in/out [private]', 'icon': 'Check-in/out [private]'}, {'type': 'Fire extinguisher', 'title': 'Fire extinguisher', 'icon': 'Fire extinguisher'}, {'type': 'Non-smoking rooms', 'title': 'Non-smoking rooms', 'icon': 'Non-smoking rooms'}, {'type': 'Pets allowed', 'title': 'Pets allowed', 'icon': 'Pets allowed'}, {'type': 'Air conditioning', 'title': 'Air conditioning', 'icon': 'Air conditioning'}, {'type': 'Clothes rack', 'title': 'Clothes rack', 'icon': 'Clothes rack'}, {'type': 'Hand sanitizer', 'title': 'Hand sanitizer', 'icon': 'Hand sanitizer'}, {'type': 'Individual air conditioning', 'title': 'Individual air conditioning', 'icon': 'Individual air conditioning'}, {'type': 'In-room safe box', 'title': 'In-room safe box', 'icon': 'In-room safe box'}, {'type': 'Linens', 'title': 'Linens', 'icon': 'Linens'}, {'type': 'Mini bar', 'title': 'Mini bar', 'icon': 'Mini bar'}, {'type': 'Private bathroom', 'title': 'Private bathroom', 'icon': 'Private bathroom'}, {'type': 'Shower', 'title': 'Shower', 'icon': 'Shower'}, {'type': 'Sleep comfort items', 'title': 'Sleep comfort items', 'icon': 'Sleep comfort items'}, {'type': 'Socket near the bed', 'title': 'Socket near the bed', 'icon': 'Socket near the bed'}, {'type': 'Streaming service like Netflix', 'title': 'Streaming service like Netflix', 'icon': 'Streaming service like Netflix'}, {'type': 'Toiletries', 'title': 'Toiletries', 'icon': 'Toiletries'}, {'type': 'Trash cans', 'title': 'Trash cans', 'icon': 'Trash cans'}, {'type': 'TV [flat screen]', 'title': 'TV [flat screen]', 'icon': 'TV [flat screen]'}], 'hotel_photo': [{'picture_id': '6365845', 'title': 'Swimming pool', 'url': 'https://q-xx.bstatic.com/xdata/images/hotel/max500/291642468.jpg?k=75627f62444a2eb0da567443b0b875d121aff01b362999fda7e90ae2d878475f&o=&s=312x'}, {'picture_id': '250564779', 'title': None, 'url': 'https://q-xx.bstatic.com/xdata/images/hotel/max500/292041528.jpg?k=6dac759b7879619aab31b21dcff2078da16905a084eee18e89a3957cdaddd95c&o=&s=312x'}, {'picture_id': '261023604', 'title': 'Entrance', 'url': 'https://q-xx.bstatic.com/xdata/images/hotel/max500/300831137.jpg?k=63c171647c78fee8b6a0f3a23d3da0f197d5e962e57d5cd78df43dfec3ffb260&o=&s=312x'}, {'picture_id': '309421011', 'title': None, 'url': 'https://q-xx.bstatic.com/xdata/images/hotel/max500/342236363.jpg?k=6c66389dafcde1cd9f7237d4c99603cc7f3844f94ed118301b87244e7bf20b88&o=&s=312x'}, {'picture_id': '250564782', 'title': None, 'url': 'https://q-xx.bstatic.com/xdata/images/hotel/max500/291906445.jpg?k=f80d29155d645669b7bf993f695614488d889390b766953417ec22cfdb3c912e&o=&s=312x'}, {'picture_id': '261023597', 'title': None, 'url': 'https://q-xx.bstatic.com/xdata/images/hotel/max500/300765348.jpg?k=5abff6df942477d5aefe0fb288b0468b117c19c52eadae6cd85cbeacccdbb1f1&o=&s=312x'}, {'picture_id': '250564785', 'title': None, 'url': 'https://q-xx.bstatic.com/xdata/images/hotel/max500/292049384.jpg?k=f6977cbb80430512b7bb7df0bebe7e8ffe4f041505429362b802f47d0ddbc387&o=&s=312x'}, {'picture_id': '250564767', 'title': None, 'url': 'https://q-xx.bstatic.com/xdata/images/hotel/max500/291906384.jpg?k=75e611bd16b3ecb8f382918dcd39477c13700da461b7e60fe9e79b1a592e43ae&o=&s=312x'}, {'picture_id': '261023601', 'title': None, 'url': 'https://q-xx.bstatic.com/xdata/images/hotel/max500/300827902.jpg?k=4a31c7d0f7295dd5b700eee09b8a020d298f02853591a4ad5506dfefdb1f6db9&o=&s=312x'}, {'picture_id': '250564765', 'title': None, 'url': 'https://q-xx.bstatic.com/xdata/images/hotel/max500/291918538.jpg?k=3b8d8ec7abb464009f1138143c71e7925bb9ad4e307840da55ddd67673ae470c&o=&s=312x'}, {'picture_id': '250564776', 'title': 'Swimming pool', 'url': 'https://q-xx.bstatic.com/xdata/images/hotel/max500/291907421.jpg?k=2f7a74e19de2fd74a07b42aac70888fe1634285853292b25cc7826872a5de2bf&o=&s=312x'}, {'picture_id': '258738282', 'title': None, 'url': 'https://q-xx.bstatic.com/xdata/images/hotel/max500/298907987.jpg?k=d29b0119e4c7cbc8ebef4185c1da611df4b1c8d7ee4b76b5e2f116fc257df2c9&o=&s=312x'}, {'picture_id': '250564784', 'title': None, 'url': 'https://q-xx.bstatic.com/xdata/images/hotel/max500/292041473.jpg?k=9fa5a4a6326c890f6dbf7503e063f50851ccf7348cb472994cd61124057f7c3f&o=&s=312x'}, {'picture_id': '261023600', 'title': None, 'url': 'https://q-xx.bstatic.com/xdata/images/hotel/max500/300832055.jpg?k=d2b9701132329037e267a018e9398a112a35bd1f1b5a873ecf8a046169273cfd&o=&s=312x'}, {'picture_id': '309421012', 'title': None, 'url': 'https://q-xx.bstatic.com/xdata/images/hotel/max500/342236136.jpg?k=9a06e4579344d7b919e4bf1613b369255d171816e9dcd41a185176ea89260ac7&o=&s=312x'}, {'picture_id': '250564774', 'title': None, 'url': 'https://q-xx.bstatic.com/xdata/images/hotel/max500/291918668.jpg?k=ee0b91e2ca42613162b26ff41bc5668f64f960455181acbb94ce3733837927b4&o=&s=312x'}, {'picture_id': '250564766', 'title': None, 'url': 'https://q-xx.bstatic.com/xdata/images/hotel/max500/291642509.jpg?k=8f0b80d4a6b5e00eb3264c00c82c7c1643b34c65e52c66c689054d2b71fb62b5&o=&s=312x'}, {'picture_id': '262354402', 'title': None, 'url': 'https://q-xx.bstatic.com/xdata/images/hotel/max500/301966473.jpg?k=9e9db675d60754983c508f9469c6574e1d104cd0345ed4ee9bcc43ef6564f8d7&o=&s=312x'}, {'picture_id': '250564775', 'title': None, 'url': 'https://q-xx.bstatic.com/xdata/images/hotel/max500/292267062.jpg?k=8fd5c6adaf365e5536671e8ec4beec043bfbd383dd83cfef866ab5c69ce95f9e&o=&s=312x'}, {'picture_id': '260051376', 'title': 'View', 'url': 'https://q-xx.bstatic.com/xdata/images/hotel/max500/300419273.jpg?k=ca5d7d526a5166face6a7a591e49d9b5cf5d5bab8969eb51a1be58b943a396da&o=&s=312x'}], 'point_of_interests': [], 'nearest_airports': [], 'train_stations': [], 'connected_locations': [], 'stadiums': []}\n"
     ]
    }
   ],
   "source": [
    "specific_data = {\n",
    "    \"hotel_id\": data_dict[\"Hotel_feed_full\"][\"hotels\"][\"hotel\"][\"hotel_id\"],\n",
    "    \"name\": data_dict[\"Hotel_feed_full\"][\"hotels\"][\"hotel\"][\"hotel_name\"],\n",
    "    \"name_local\": data_dict[\"Hotel_feed_full\"][\"hotels\"][\"hotel\"][\"translated_name\"],\n",
    "    \"hotel_formerly_name\": data_dict[\"Hotel_feed_full\"][\"hotels\"][\"hotel\"][\"translated_name\"],\n",
    "    \"brand_text\": \"NULL\",\n",
    "    \"property_type\": data_dict[\"Hotel_feed_full\"][\"hotels\"][\"hotel\"][\"accommodation_type\"],\n",
    "    \"star_rating\": data_dict[\"Hotel_feed_full\"][\"hotels\"][\"hotel\"][\"star_rating\"],\n",
    "    \"chain\": \"NULL\",\n",
    "    \"brand\": \"NULL\",\n",
    "    \"logo\": \"NULL\",\n",
    "    \"primary_photo\": \"NULL\",\n",
    "    \"review_rating\": {   \n",
    "        \"source\": \"NULL\",\n",
    "        \"number_of_reviews\": data_dict[\"Hotel_feed_full\"][\"hotels\"][\"hotel\"][\"number_of_reviews\"],\n",
    "        \"rating_average\": data_dict[\"Hotel_feed_full\"][\"hotels\"][\"hotel\"][\"rating_average\"],\n",
    "        \"popularity_score\": data_dict[\"Hotel_feed_full\"][\"hotels\"][\"hotel\"][\"popularity_score\"],\n",
    "    },\n",
    "    \"policies\": {\n",
    "        \"checkin\": {\n",
    "            \"begin_time\": \"NULL\",\n",
    "            \"end_time\": \"NULL\",\n",
    "            \"instructions\": \"NULL\",\n",
    "            \"min_age\": \"NULL\",\n",
    "        },\n",
    "        \"checkout\": {\n",
    "            \"time\": \"NULL\",\n",
    "        },\n",
    "        \"fees\": {\n",
    "            \"optional\": \"NULL\",\n",
    "        },\n",
    "        \"know_before_you_go\": \"NULL\",\n",
    "        \"pets\": [\n",
    "            \"Pets not allowed\"\n",
    "        ],\n",
    "        \"remark\": \"NULL\",\n",
    "        \"child_and_extra_bed_policy\": {\n",
    "            \"infant_age\": data_dict[\"Hotel_feed_full\"][\"hotels\"][\"hotel\"][\"child_and_extra_bed_policy\"][\"infant_age\"],\n",
    "            \"children_age_from\": data_dict[\"Hotel_feed_full\"][\"hotels\"][\"hotel\"][\"child_and_extra_bed_policy\"][\"children_age_from\"],\n",
    "            \"children_age_to\": data_dict[\"Hotel_feed_full\"][\"hotels\"][\"hotel\"][\"child_and_extra_bed_policy\"][\"children_age_to\"],\n",
    "            \"children_stay_free\": data_dict[\"Hotel_feed_full\"][\"hotels\"][\"hotel\"][\"child_and_extra_bed_policy\"][\"children_stay_free\"],\n",
    "            \"min_guest_age\": data_dict[\"Hotel_feed_full\"][\"hotels\"][\"hotel\"][\"child_and_extra_bed_policy\"][\"min_guest_age\"]\n",
    "        },\n",
    "        \"nationality_restrictions\": data_dict[\"Hotel_feed_full\"][\"hotels\"][\"hotel\"][\"nationality_restrictions\"],\n",
    "    },\n",
    "    \"address\": {\n",
    "        \"latitude\": data_dict[\"Hotel_feed_full\"][\"hotels\"][\"hotel\"][\"latitude\"],\n",
    "        \"longitude\": data_dict[\"Hotel_feed_full\"][\"hotels\"][\"hotel\"][\"longitude\"],\n",
    "        \"address_line_1\": data_dict[\"Hotel_feed_full\"][\"addresses\"][\"address\"][0][\"address_line_1\"],\n",
    "        \"address_line_2\": data_dict[\"Hotel_feed_full\"][\"addresses\"][\"address\"][0][\"address_line_2\"],\n",
    "        \"city\": data_dict[\"Hotel_feed_full\"][\"addresses\"][\"address\"][0][\"city\"],\n",
    "        \"state\": data_dict[\"Hotel_feed_full\"][\"addresses\"][\"address\"][0][\"state\"],\n",
    "        \"country\": data_dict[\"Hotel_feed_full\"][\"addresses\"][\"address\"][0][\"country\"],\n",
    "        \"country_code\": \"NULL\",\n",
    "        \"postal_code\": data_dict[\"Hotel_feed_full\"][\"addresses\"][\"address\"][0][\"postal_code\"],\n",
    "        \"full_address\": \"NULL\",\n",
    "        \"google_map_site_link\": \"NULL\",\n",
    "        \"local_lang\": {\n",
    "            \"latitude\": data_dict[\"Hotel_feed_full\"][\"hotels\"][\"hotel\"][\"latitude\"],\n",
    "            \"longitude\": data_dict[\"Hotel_feed_full\"][\"hotels\"][\"hotel\"][\"longitude\"],\n",
    "            \"address_line_1\": data_dict[\"Hotel_feed_full\"][\"addresses\"][\"address\"][1][\"address_line_1\"],\n",
    "            \"address_line_2\": data_dict[\"Hotel_feed_full\"][\"addresses\"][\"address\"][1][\"address_line_2\"],\n",
    "            \"city\": data_dict[\"Hotel_feed_full\"][\"addresses\"][\"address\"][1][\"city\"],\n",
    "            \"state\": data_dict[\"Hotel_feed_full\"][\"addresses\"][\"address\"][1][\"state\"],\n",
    "            \"country\": data_dict[\"Hotel_feed_full\"][\"addresses\"][\"address\"][1][\"country\"],\n",
    "            \"country_code\": \"NULL\",\n",
    "            \"postal_code\": data_dict[\"Hotel_feed_full\"][\"addresses\"][\"address\"][1][\"postal_code\"],\n",
    "            \"full_address\": \"NULL\",\n",
    "            \"google_map_site_link\": \"NULL\",\n",
    "        },\n",
    "        \"mapping\": {\n",
    "            \"continent_id\": \"NULL\",\n",
    "            \"country_id\": \"NULL\",\n",
    "            \"province_id\": \"NULL\",\n",
    "            \"state_id\": \"NULL\",\n",
    "            \"city_id\": \"NULL\",\n",
    "            \"area_id\": \"NULL\"\n",
    "        }\n",
    "    },\n",
    "    \"contacts\": {\n",
    "        \"phone_numbers\": [],\n",
    "        \"fax\": \"NULL\",\n",
    "        \"email_address\": \"NULL\",\n",
    "        \"website\": \"NULL\"\n",
    "    },\n",
    "    \"descriptions\": [\n",
    "        {\n",
    "            \"title\": \"NULL\",\n",
    "            \"text\": \"NULL\"\n",
    "        }\n",
    "    ],\n",
    "    \"room_type\": [],\n",
    "\n",
    "    \"spoken_languages\": [],\n",
    "\n",
    "    \"amenities\": [],\n",
    "    \n",
    "    \"facilities\": [],\n",
    "\n",
    "    \"hotel_photo\": [],\n",
    "\n",
    "    \"point_of_interests\": [],\n",
    "\n",
    "    \"nearest_airports\": [],\n",
    "\n",
    "    \"train_stations\": [],\n",
    "\n",
    "    \"connected_locations\": [],\n",
    "\n",
    "    \"stadiums\": []    \n",
    "}\n",
    "\n",
    "room_types = data_dict[\"Hotel_feed_full\"][\"roomtypes\"][\"roomtype\"]\n",
    "for room in room_types:\n",
    "    room_data = {\n",
    "        \"room_id\": room.get(\"hotel_room_type_id\", \"NULL\"),\n",
    "        \"title\": room.get(\"standard_caption\", \"NULL\"),\n",
    "        \"title_lang\": room.get(\"standard_caption\", \"NULL\"),\n",
    "        \"room_pic\": room.get(\"hotel_room_type_picture\", \"NULL\"),\n",
    "        \"description\": \"NULL\",\n",
    "        \"max_allowed\": {\n",
    "            \"total\": int(room.get(\"max_occupancy_per_room\", 0)),\n",
    "            \"adults\": int(room.get(\"max_occupancy_per_room\", 0)),\n",
    "            \"children\": \"NULL\",\n",
    "            \"infant\": room.get(\"max_infant_in_room\", \"NULL\"),\n",
    "        },\n",
    "        \"no_of_room\": room.get(\"no_of_room\", \"NULL\"),\n",
    "        \"room_size\": room.get(\"size_of_room\", 0),\n",
    "        \"bed_type\": [\n",
    "            {\n",
    "                \"description\": room.get(\"bed_type\", \"NULL\"),\n",
    "                \"configuration\": [\n",
    "                    {\"quantity\": 1, \n",
    "                     \"size\": \"Unknown\", \n",
    "                     \"type\": \"UnknownBed\"}\n",
    "                ],\n",
    "                \"max_extrabeds\": room.get(\"max_extrabeds\", \"NULL\"),\n",
    "            }\n",
    "        ],\n",
    "        \"shared_bathroom\": room.get(\"shared_bathroom\", \"NULL\"),\n",
    "    }\n",
    "    specific_data[\"room_type\"].append(room_data)\n",
    "\n",
    "\n",
    "facilities_types = data_dict[\"Hotel_feed_full\"][\"facilities\"][\"facility\"]\n",
    "for facility in facilities_types:\n",
    "    facilities_data = {\n",
    "        \"type\": facility.get(\"property_name\", \"NULL\"),\n",
    "        \"title\": facility.get(\"property_translated_name\", \"NULL\"),\n",
    "        \"icon\": facility.get(\"property_translated_name\", \"NULL\")\n",
    "    }\n",
    "    specific_data[\"facilities\"].append(facilities_data)\n",
    "\n",
    "\n",
    "hotel_photo_data = data_dict[\"Hotel_feed_full\"][\"pictures\"][\"picture\"]\n",
    "for photo in hotel_photo_data:\n",
    "    hotel_photo_data = {  \n",
    "        \"picture_id\": photo.get(\"picture_id\", \"NULL\"),\n",
    "        \"title\": photo.get(\"caption\", \"NULL\"),\n",
    "        \"url\": photo.get(\"URL\", \"NULL\")\n",
    "    }\n",
    "    specific_data[\"hotel_photo\"].append(hotel_photo_data)\n",
    "    \n",
    "\n",
    "print(specific_data)\n"
   ]
  },
  {
   "cell_type": "code",
   "execution_count": 55,
   "id": "6daa7928-5658-4c77-ae89-00543650df1d",
   "metadata": {},
   "outputs": [
    {
     "name": "stdout",
     "output_type": "stream",
     "text": [
      "Data saved to specific_data.json\n"
     ]
    }
   ],
   "source": [
    "import json\n",
    "\n",
    "try:\n",
    "    # Assuming specific_data is correctly populated\n",
    "    with open(\"specific_data.json\", \"w\") as json_file:\n",
    "        json.dump(specific_data, json_file, indent=4)\n",
    "    print(\"Data saved to specific_data.json\")\n",
    "except TypeError as e:\n",
    "    print(f\"Serialization error: {e}\")\n",
    "except Exception as e:\n",
    "    print(f\"An error occurred: {e}\")\n"
   ]
  },
  {
   "cell_type": "code",
   "execution_count": null,
   "id": "a42e1f46-88d2-4875-a752-3ce794a107e3",
   "metadata": {},
   "outputs": [],
   "source": []
  }
 ],
 "metadata": {
  "kernelspec": {
   "display_name": "Python 3 (ipykernel)",
   "language": "python",
   "name": "python3"
  },
  "language_info": {
   "codemirror_mode": {
    "name": "ipython",
    "version": 3
   },
   "file_extension": ".py",
   "mimetype": "text/x-python",
   "name": "python",
   "nbconvert_exporter": "python",
   "pygments_lexer": "ipython3",
   "version": "3.12.7"
  }
 },
 "nbformat": 4,
 "nbformat_minor": 5
}
